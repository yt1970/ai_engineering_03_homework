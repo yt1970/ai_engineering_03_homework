{
  "cells": [
    {
      "cell_type": "markdown",
      "metadata": {
        "id": "view-in-github",
        "colab_type": "text"
      },
      "source": [
        "<a href=\"https://colab.research.google.com/github/yt1970/ai_engineering_03_homework/blob/main/ai_engineering_03_%E4%BB%BB%E6%84%8F%E5%AE%BF%E9%A1%8CT4%EF%BC%88%E6%8F%90%E5%87%BA%E7%94%A8%EF%BC%89.ipynb\" target=\"_parent\"><img src=\"https://colab.research.google.com/assets/colab-badge.svg\" alt=\"Open In Colab\"/></a>"
      ]
    },
    {
      "cell_type": "markdown",
      "metadata": {
        "id": "D_6-jdBOXowG"
      },
      "source": [
        "\n",
        "\n",
        "このノートブックは、「AIエンジニアリング講座」DAY３任意宿題用RAG検証ノートブックです。\n",
        "GPUは「T4」で行っています。\n",
        "モデルは、gemma-2-2b-jpn-itを使用しています。\n",
        "\n",
        "参照文書は防衛省令和７年度予算の概要（令和７年４月２日）のPDF版です。\n",
        "\n",
        "[https://www.mod.go.jp/j/budget/yosan_gaiyo/fy2025/yosan_20250402.pdf](https://www.mod.go.jp/j/budget/yosan_gaiyo/fy2025/yosan_20250402.pdf)\n",
        "\n",
        "---"
      ]
    },
    {
      "cell_type": "markdown",
      "metadata": {
        "id": "e4EN4GmtStsN"
      },
      "source": [
        "# 宿題実施の方針\n",
        "\n",
        "1. **ベースラインモデルの評価**  \n",
        "   素のモデルで回答を生成し、最新の情報に対しては正しく回答できないことを確認します。。\n",
        "\n",
        "2. **参照文書のテキスト化**  \n",
        "   参照文書をPyPDF2でテキスト化します。\n",
        "\n",
        "3. **文書整形なしでのページごとのチャンク化**  \n",
        "   文書整形なしでぺーじごとにチャンク化し、回答を生成させます。\n",
        "\n",
        "4. **文書整形ありでのページごとのチャンク化**  \n",
        "   無駄な空白や改行の削除、意味のある改行の追加などにより回答の精度向上を図ります。\n",
        "\n",
        "5. **回答精度の測定方法**\n",
        "    googleGeminiのAPIを利用して、Geminiに評価指標を与え、点数で評価します。  \n",
        "   "
      ]
    },
    {
      "cell_type": "markdown",
      "metadata": {
        "id": "PPI1pj4mFavt"
      },
      "source": [
        "## 質問事項\n",
        "\n",
        "  宿題の要件に従い、参照文書に関するテーマから５つを質問事項として設け、模範解答も合わせて設定しました。\n",
        "\n",
        "  なお、５つの質問のうち、１つは参照文書をみても回答ができない事項であり、その旨をきちんと回答できるかどうかも評価できるようにしました。\n",
        "\n",
        "\n",
        "```\n",
        "[\n",
        "  {\n",
        "    \"質問\": \"令和7年度の防衛費の予算総額はいくらですか？また、その主要な内訳を具体的に説明してください。\",\n",
        "    \"模範解答\": \"令和7年度の防衛費の予算総額は、歳出ベースで8兆4,748億円、契約ベースで8兆4,332億円です。\\n\\nその主要な内訳は以下の通りです。（歳出ベース）\\n\\n* 装備品費：3兆1,714億円\\n* 需品費・施設費：1兆4,918億円\\n* 人件・糧食費等：2兆9,186億円\\n* 研究開発費：8,176億円\\n* 施設整備費：7,586億円\\n* その他：3,168億円\",\n",
        "    \"出典\": \"1ページ「１．歳出」\"\n",
        "  },\n",
        "  {\n",
        "    \"質問\": \"令和7年度の防衛力整備計画で重視されている7つの分野は何ですか？ それぞれの分野における具体的な取り組みの例を挙げてください。\",\n",
        "    \"模範解答\": \"令和7年度の防衛力整備計画で重視されている7つの分野は以下の通りです。\\n\\n1.  スタンド・オフ防衛能力の強化\\n2.  統合防空ミサイル防衛能力の強化\\n3.  無人アセット防衛能力の強化\\n4.  宇宙・サイバー・電磁波領域における能力の強化\\n5.  情報機能の強化\\n6.  輸送能力の強化\\n7.  持続性・強靭性の強化\\n\\n具体的な取り組みの例については、資料の2ページ「II．主要経費 (1) 重点的な整備・強化を行う主要分野」に記載されています。\",\n",
        "    \"出典\": \"2ページ「II．主要経費 (1) 重点的な整備・強化を行う主要分野」\"\n",
        "  },\n",
        "  {\n",
        "    \"質問\": \"過去5年間の日本の防衛費の推移を説明してください。特に、GDP比での変化に着目してください。\",\n",
        "    \"模範解答\": \"資料には令和7年度の予算概要のみが記載されており、過去5年間の防衛費の推移に関する具体的な数値データは含まれていません。そのため、この資料のみで過去5年間の防衛費の推移とGDP比での変化を説明することはできません。\",\n",
        "    \"出典\": \"資料全体（過去のデータに関する記載なし）\"\n",
        "  },\n",
        "  {\n",
        "    \"質問\": \"令和７年度の防衛予算において、自衛官等の給与・手当等の見直しに関する予算額と主要項目を含めて説明してください。\",\n",
        "    \"模範解答\": \"令和7年度の防衛予算において、自衛官等の給与・手当等の見直しの予算額は**168億円**です。主な項目は、自衛官等の生活・勤務環境の特殊性等に関する処遇改善策、自衛隊の任務の特殊性に関する処遇改善策などです。\",\n",
        "    \"出典\": \"42ページ「Ⅳ 共通基盤」\"\n",
        "  },\n",
        "  {\n",
        "    \"質問\": \"令和7年度の防衛予算で新たに取得する哨戒機の合計機数と合計金額はいくらですか？\",\n",
        "    \"模範解答\": \"令和7年度防衛省予算で取得を計画しているのは、固定翼哨戒機（Ｐ－１）**2機**（848億円）と回転翼哨戒機（ＳＨ－６０Ｌ）**2機**（293億円）であり、合計は**4機**、**1,141億円**です。\",\n",
        "    \"出典\": \"26ページ「Ⅲ 主要事項」\"\n",
        "  }\n",
        "]\n",
        "```\n",
        "\n",
        "\n",
        "\n",
        "\n",
        "\n",
        "\n",
        "\n",
        "## 扱うモデル\n",
        "\n",
        "「google/gemma-2-2b-jpn-it」を使用します。このモデルは、リリース時期の関係上、以下の特徴を持ちます。\n",
        "\n",
        "- 「Inference Time Scaling」の概念が広まる前に訓練されており、このトピックに関する知識を持たないと想定される\n",
        "- この特性を活かし、純粋なベースライン評価から各手法の効果を観察する"
      ]
    },
    {
      "cell_type": "markdown",
      "metadata": {
        "id": "bla6WHyQStsO"
      },
      "source": [
        "### 演習環境の準備"
      ]
    },
    {
      "cell_type": "code",
      "execution_count": null,
      "metadata": {
        "colab": {
          "base_uri": "https://localhost:8080/"
        },
        "collapsed": true,
        "id": "vM50WAI7GXwC",
        "outputId": "00655f94-fe39-4078-d7ec-d6908869bdf7"
      },
      "outputs": [
        {
          "name": "stdout",
          "output_type": "stream",
          "text": [
            "Requirement already satisfied: transformers in /usr/local/lib/python3.11/dist-packages (4.51.3)\n",
            "Requirement already satisfied: filelock in /usr/local/lib/python3.11/dist-packages (from transformers) (3.18.0)\n",
            "Requirement already satisfied: huggingface-hub<1.0,>=0.30.0 in /usr/local/lib/python3.11/dist-packages (from transformers) (0.30.2)\n",
            "Requirement already satisfied: numpy>=1.17 in /usr/local/lib/python3.11/dist-packages (from transformers) (2.0.2)\n",
            "Requirement already satisfied: packaging>=20.0 in /usr/local/lib/python3.11/dist-packages (from transformers) (24.2)\n",
            "Requirement already satisfied: pyyaml>=5.1 in /usr/local/lib/python3.11/dist-packages (from transformers) (6.0.2)\n",
            "Requirement already satisfied: regex!=2019.12.17 in /usr/local/lib/python3.11/dist-packages (from transformers) (2024.11.6)\n",
            "Requirement already satisfied: requests in /usr/local/lib/python3.11/dist-packages (from transformers) (2.32.3)\n",
            "Requirement already satisfied: tokenizers<0.22,>=0.21 in /usr/local/lib/python3.11/dist-packages (from transformers) (0.21.1)\n",
            "Requirement already satisfied: safetensors>=0.4.3 in /usr/local/lib/python3.11/dist-packages (from transformers) (0.5.3)\n",
            "Requirement already satisfied: tqdm>=4.27 in /usr/local/lib/python3.11/dist-packages (from transformers) (4.67.1)\n",
            "Requirement already satisfied: fsspec>=2023.5.0 in /usr/local/lib/python3.11/dist-packages (from huggingface-hub<1.0,>=0.30.0->transformers) (2025.3.2)\n",
            "Requirement already satisfied: typing-extensions>=3.7.4.3 in /usr/local/lib/python3.11/dist-packages (from huggingface-hub<1.0,>=0.30.0->transformers) (4.13.2)\n",
            "Requirement already satisfied: charset-normalizer<4,>=2 in /usr/local/lib/python3.11/dist-packages (from requests->transformers) (3.4.1)\n",
            "Requirement already satisfied: idna<4,>=2.5 in /usr/local/lib/python3.11/dist-packages (from requests->transformers) (3.10)\n",
            "Requirement already satisfied: urllib3<3,>=1.21.1 in /usr/local/lib/python3.11/dist-packages (from requests->transformers) (2.4.0)\n",
            "Requirement already satisfied: certifi>=2017.4.17 in /usr/local/lib/python3.11/dist-packages (from requests->transformers) (2025.4.26)\n",
            "Collecting google-colab-selenium\n",
            "  Downloading google_colab_selenium-1.0.14-py3-none-any.whl.metadata (2.7 kB)\n",
            "Collecting selenium (from google-colab-selenium)\n",
            "  Downloading selenium-4.32.0-py3-none-any.whl.metadata (7.5 kB)\n",
            "Requirement already satisfied: urllib3<3,>=1.26 in /usr/local/lib/python3.11/dist-packages (from urllib3[socks]<3,>=1.26->selenium->google-colab-selenium) (2.4.0)\n",
            "Collecting trio~=0.17 (from selenium->google-colab-selenium)\n",
            "  Downloading trio-0.30.0-py3-none-any.whl.metadata (8.5 kB)\n",
            "Collecting trio-websocket~=0.9 (from selenium->google-colab-selenium)\n",
            "  Downloading trio_websocket-0.12.2-py3-none-any.whl.metadata (5.1 kB)\n",
            "Requirement already satisfied: certifi>=2021.10.8 in /usr/local/lib/python3.11/dist-packages (from selenium->google-colab-selenium) (2025.4.26)\n",
            "Requirement already satisfied: typing_extensions~=4.9 in /usr/local/lib/python3.11/dist-packages (from selenium->google-colab-selenium) (4.13.2)\n",
            "Requirement already satisfied: websocket-client~=1.8 in /usr/local/lib/python3.11/dist-packages (from selenium->google-colab-selenium) (1.8.0)\n",
            "Requirement already satisfied: attrs>=23.2.0 in /usr/local/lib/python3.11/dist-packages (from trio~=0.17->selenium->google-colab-selenium) (25.3.0)\n",
            "Requirement already satisfied: sortedcontainers in /usr/local/lib/python3.11/dist-packages (from trio~=0.17->selenium->google-colab-selenium) (2.4.0)\n",
            "Requirement already satisfied: idna in /usr/local/lib/python3.11/dist-packages (from trio~=0.17->selenium->google-colab-selenium) (3.10)\n",
            "Collecting outcome (from trio~=0.17->selenium->google-colab-selenium)\n",
            "  Downloading outcome-1.3.0.post0-py2.py3-none-any.whl.metadata (2.6 kB)\n",
            "Requirement already satisfied: sniffio>=1.3.0 in /usr/local/lib/python3.11/dist-packages (from trio~=0.17->selenium->google-colab-selenium) (1.3.1)\n",
            "Collecting wsproto>=0.14 (from trio-websocket~=0.9->selenium->google-colab-selenium)\n",
            "  Downloading wsproto-1.2.0-py3-none-any.whl.metadata (5.6 kB)\n",
            "Requirement already satisfied: pysocks!=1.5.7,<2.0,>=1.5.6 in /usr/local/lib/python3.11/dist-packages (from urllib3[socks]<3,>=1.26->selenium->google-colab-selenium) (1.7.1)\n",
            "Requirement already satisfied: h11<1,>=0.9.0 in /usr/local/lib/python3.11/dist-packages (from wsproto>=0.14->trio-websocket~=0.9->selenium->google-colab-selenium) (0.16.0)\n",
            "Downloading google_colab_selenium-1.0.14-py3-none-any.whl (8.2 kB)\n",
            "Downloading selenium-4.32.0-py3-none-any.whl (9.4 MB)\n",
            "\u001b[2K   \u001b[90m━━━━━━━━━━━━━━━━━━━━━━━━━━━━━━━━━━━━━━━━\u001b[0m \u001b[32m9.4/9.4 MB\u001b[0m \u001b[31m75.8 MB/s\u001b[0m eta \u001b[36m0:00:00\u001b[0m\n",
            "\u001b[?25hDownloading trio-0.30.0-py3-none-any.whl (499 kB)\n",
            "\u001b[2K   \u001b[90m━━━━━━━━━━━━━━━━━━━━━━━━━━━━━━━━━━━━━━━━\u001b[0m \u001b[32m499.2/499.2 kB\u001b[0m \u001b[31m37.0 MB/s\u001b[0m eta \u001b[36m0:00:00\u001b[0m\n",
            "\u001b[?25hDownloading trio_websocket-0.12.2-py3-none-any.whl (21 kB)\n",
            "Downloading outcome-1.3.0.post0-py2.py3-none-any.whl (10 kB)\n",
            "Downloading wsproto-1.2.0-py3-none-any.whl (24 kB)\n",
            "Installing collected packages: wsproto, outcome, trio, trio-websocket, selenium, google-colab-selenium\n",
            "Successfully installed google-colab-selenium-1.0.14 outcome-1.3.0.post0 selenium-4.32.0 trio-0.30.0 trio-websocket-0.12.2 wsproto-1.2.0\n",
            "Collecting bitsandbytes\n",
            "  Downloading bitsandbytes-0.45.5-py3-none-manylinux_2_24_x86_64.whl.metadata (5.0 kB)\n",
            "Requirement already satisfied: torch<3,>=2.0 in /usr/local/lib/python3.11/dist-packages (from bitsandbytes) (2.6.0+cu124)\n",
            "Requirement already satisfied: numpy>=1.17 in /usr/local/lib/python3.11/dist-packages (from bitsandbytes) (2.0.2)\n",
            "Requirement already satisfied: filelock in /usr/local/lib/python3.11/dist-packages (from torch<3,>=2.0->bitsandbytes) (3.18.0)\n",
            "Requirement already satisfied: typing-extensions>=4.10.0 in /usr/local/lib/python3.11/dist-packages (from torch<3,>=2.0->bitsandbytes) (4.13.2)\n",
            "Requirement already satisfied: networkx in /usr/local/lib/python3.11/dist-packages (from torch<3,>=2.0->bitsandbytes) (3.4.2)\n",
            "Requirement already satisfied: jinja2 in /usr/local/lib/python3.11/dist-packages (from torch<3,>=2.0->bitsandbytes) (3.1.6)\n",
            "Requirement already satisfied: fsspec in /usr/local/lib/python3.11/dist-packages (from torch<3,>=2.0->bitsandbytes) (2025.3.2)\n",
            "Collecting nvidia-cuda-nvrtc-cu12==12.4.127 (from torch<3,>=2.0->bitsandbytes)\n",
            "  Downloading nvidia_cuda_nvrtc_cu12-12.4.127-py3-none-manylinux2014_x86_64.whl.metadata (1.5 kB)\n",
            "Collecting nvidia-cuda-runtime-cu12==12.4.127 (from torch<3,>=2.0->bitsandbytes)\n",
            "  Downloading nvidia_cuda_runtime_cu12-12.4.127-py3-none-manylinux2014_x86_64.whl.metadata (1.5 kB)\n",
            "Collecting nvidia-cuda-cupti-cu12==12.4.127 (from torch<3,>=2.0->bitsandbytes)\n",
            "  Downloading nvidia_cuda_cupti_cu12-12.4.127-py3-none-manylinux2014_x86_64.whl.metadata (1.6 kB)\n",
            "Collecting nvidia-cudnn-cu12==9.1.0.70 (from torch<3,>=2.0->bitsandbytes)\n",
            "  Downloading nvidia_cudnn_cu12-9.1.0.70-py3-none-manylinux2014_x86_64.whl.metadata (1.6 kB)\n",
            "Collecting nvidia-cublas-cu12==12.4.5.8 (from torch<3,>=2.0->bitsandbytes)\n",
            "  Downloading nvidia_cublas_cu12-12.4.5.8-py3-none-manylinux2014_x86_64.whl.metadata (1.5 kB)\n",
            "Collecting nvidia-cufft-cu12==11.2.1.3 (from torch<3,>=2.0->bitsandbytes)\n",
            "  Downloading nvidia_cufft_cu12-11.2.1.3-py3-none-manylinux2014_x86_64.whl.metadata (1.5 kB)\n",
            "Collecting nvidia-curand-cu12==10.3.5.147 (from torch<3,>=2.0->bitsandbytes)\n",
            "  Downloading nvidia_curand_cu12-10.3.5.147-py3-none-manylinux2014_x86_64.whl.metadata (1.5 kB)\n",
            "Collecting nvidia-cusolver-cu12==11.6.1.9 (from torch<3,>=2.0->bitsandbytes)\n",
            "  Downloading nvidia_cusolver_cu12-11.6.1.9-py3-none-manylinux2014_x86_64.whl.metadata (1.6 kB)\n",
            "Collecting nvidia-cusparse-cu12==12.3.1.170 (from torch<3,>=2.0->bitsandbytes)\n",
            "  Downloading nvidia_cusparse_cu12-12.3.1.170-py3-none-manylinux2014_x86_64.whl.metadata (1.6 kB)\n",
            "Requirement already satisfied: nvidia-cusparselt-cu12==0.6.2 in /usr/local/lib/python3.11/dist-packages (from torch<3,>=2.0->bitsandbytes) (0.6.2)\n",
            "Requirement already satisfied: nvidia-nccl-cu12==2.21.5 in /usr/local/lib/python3.11/dist-packages (from torch<3,>=2.0->bitsandbytes) (2.21.5)\n",
            "Requirement already satisfied: nvidia-nvtx-cu12==12.4.127 in /usr/local/lib/python3.11/dist-packages (from torch<3,>=2.0->bitsandbytes) (12.4.127)\n",
            "Collecting nvidia-nvjitlink-cu12==12.4.127 (from torch<3,>=2.0->bitsandbytes)\n",
            "  Downloading nvidia_nvjitlink_cu12-12.4.127-py3-none-manylinux2014_x86_64.whl.metadata (1.5 kB)\n",
            "Requirement already satisfied: triton==3.2.0 in /usr/local/lib/python3.11/dist-packages (from torch<3,>=2.0->bitsandbytes) (3.2.0)\n",
            "Requirement already satisfied: sympy==1.13.1 in /usr/local/lib/python3.11/dist-packages (from torch<3,>=2.0->bitsandbytes) (1.13.1)\n",
            "Requirement already satisfied: mpmath<1.4,>=1.1.0 in /usr/local/lib/python3.11/dist-packages (from sympy==1.13.1->torch<3,>=2.0->bitsandbytes) (1.3.0)\n",
            "Requirement already satisfied: MarkupSafe>=2.0 in /usr/local/lib/python3.11/dist-packages (from jinja2->torch<3,>=2.0->bitsandbytes) (3.0.2)\n",
            "Downloading bitsandbytes-0.45.5-py3-none-manylinux_2_24_x86_64.whl (76.1 MB)\n",
            "\u001b[2K   \u001b[90m━━━━━━━━━━━━━━━━━━━━━━━━━━━━━━━━━━━━━━━━\u001b[0m \u001b[32m76.1/76.1 MB\u001b[0m \u001b[31m30.3 MB/s\u001b[0m eta \u001b[36m0:00:00\u001b[0m\n",
            "\u001b[?25hDownloading nvidia_cublas_cu12-12.4.5.8-py3-none-manylinux2014_x86_64.whl (363.4 MB)\n",
            "\u001b[2K   \u001b[90m━━━━━━━━━━━━━━━━━━━━━━━━━━━━━━━━━━━━━━━━\u001b[0m \u001b[32m363.4/363.4 MB\u001b[0m \u001b[31m2.6 MB/s\u001b[0m eta \u001b[36m0:00:00\u001b[0m\n",
            "\u001b[?25hDownloading nvidia_cuda_cupti_cu12-12.4.127-py3-none-manylinux2014_x86_64.whl (13.8 MB)\n",
            "\u001b[2K   \u001b[90m━━━━━━━━━━━━━━━━━━━━━━━━━━━━━━━━━━━━━━━━\u001b[0m \u001b[32m13.8/13.8 MB\u001b[0m \u001b[31m106.8 MB/s\u001b[0m eta \u001b[36m0:00:00\u001b[0m\n",
            "\u001b[?25hDownloading nvidia_cuda_nvrtc_cu12-12.4.127-py3-none-manylinux2014_x86_64.whl (24.6 MB)\n",
            "\u001b[2K   \u001b[90m━━━━━━━━━━━━━━━━━━━━━━━━━━━━━━━━━━━━━━━━\u001b[0m \u001b[32m24.6/24.6 MB\u001b[0m \u001b[31m95.0 MB/s\u001b[0m eta \u001b[36m0:00:00\u001b[0m\n",
            "\u001b[?25hDownloading nvidia_cuda_runtime_cu12-12.4.127-py3-none-manylinux2014_x86_64.whl (883 kB)\n",
            "\u001b[2K   \u001b[90m━━━━━━━━━━━━━━━━━━━━━━━━━━━━━━━━━━━━━━━━\u001b[0m \u001b[32m883.7/883.7 kB\u001b[0m \u001b[31m57.5 MB/s\u001b[0m eta \u001b[36m0:00:00\u001b[0m\n",
            "\u001b[?25hDownloading nvidia_cudnn_cu12-9.1.0.70-py3-none-manylinux2014_x86_64.whl (664.8 MB)\n",
            "\u001b[2K   \u001b[90m━━━━━━━━━━━━━━━━━━━━━━━━━━━━━━━━━━━━━━━━\u001b[0m \u001b[32m664.8/664.8 MB\u001b[0m \u001b[31m1.7 MB/s\u001b[0m eta \u001b[36m0:00:00\u001b[0m\n",
            "\u001b[?25hDownloading nvidia_cufft_cu12-11.2.1.3-py3-none-manylinux2014_x86_64.whl (211.5 MB)\n",
            "\u001b[2K   \u001b[90m━━━━━━━━━━━━━━━━━━━━━━━━━━━━━━━━━━━━━━━━\u001b[0m \u001b[32m211.5/211.5 MB\u001b[0m \u001b[31m11.2 MB/s\u001b[0m eta \u001b[36m0:00:00\u001b[0m\n",
            "\u001b[?25hDownloading nvidia_curand_cu12-10.3.5.147-py3-none-manylinux2014_x86_64.whl (56.3 MB)\n",
            "\u001b[2K   \u001b[90m━━━━━━━━━━━━━━━━━━━━━━━━━━━━━━━━━━━━━━━━\u001b[0m \u001b[32m56.3/56.3 MB\u001b[0m \u001b[31m41.3 MB/s\u001b[0m eta \u001b[36m0:00:00\u001b[0m\n",
            "\u001b[?25hDownloading nvidia_cusolver_cu12-11.6.1.9-py3-none-manylinux2014_x86_64.whl (127.9 MB)\n",
            "\u001b[2K   \u001b[90m━━━━━━━━━━━━━━━━━━━━━━━━━━━━━━━━━━━━━━━━\u001b[0m \u001b[32m127.9/127.9 MB\u001b[0m \u001b[31m19.3 MB/s\u001b[0m eta \u001b[36m0:00:00\u001b[0m\n",
            "\u001b[?25hDownloading nvidia_cusparse_cu12-12.3.1.170-py3-none-manylinux2014_x86_64.whl (207.5 MB)\n",
            "\u001b[2K   \u001b[90m━━━━━━━━━━━━━━━━━━━━━━━━━━━━━━━━━━━━━━━━\u001b[0m \u001b[32m207.5/207.5 MB\u001b[0m \u001b[31m3.8 MB/s\u001b[0m eta \u001b[36m0:00:00\u001b[0m\n",
            "\u001b[?25hDownloading nvidia_nvjitlink_cu12-12.4.127-py3-none-manylinux2014_x86_64.whl (21.1 MB)\n",
            "\u001b[2K   \u001b[90m━━━━━━━━━━━━━━━━━━━━━━━━━━━━━━━━━━━━━━━━\u001b[0m \u001b[32m21.1/21.1 MB\u001b[0m \u001b[31m105.5 MB/s\u001b[0m eta \u001b[36m0:00:00\u001b[0m\n",
            "\u001b[?25hInstalling collected packages: nvidia-nvjitlink-cu12, nvidia-curand-cu12, nvidia-cufft-cu12, nvidia-cuda-runtime-cu12, nvidia-cuda-nvrtc-cu12, nvidia-cuda-cupti-cu12, nvidia-cublas-cu12, nvidia-cusparse-cu12, nvidia-cudnn-cu12, nvidia-cusolver-cu12, bitsandbytes\n",
            "  Attempting uninstall: nvidia-nvjitlink-cu12\n",
            "    Found existing installation: nvidia-nvjitlink-cu12 12.5.82\n",
            "    Uninstalling nvidia-nvjitlink-cu12-12.5.82:\n",
            "      Successfully uninstalled nvidia-nvjitlink-cu12-12.5.82\n",
            "  Attempting uninstall: nvidia-curand-cu12\n",
            "    Found existing installation: nvidia-curand-cu12 10.3.6.82\n",
            "    Uninstalling nvidia-curand-cu12-10.3.6.82:\n",
            "      Successfully uninstalled nvidia-curand-cu12-10.3.6.82\n",
            "  Attempting uninstall: nvidia-cufft-cu12\n",
            "    Found existing installation: nvidia-cufft-cu12 11.2.3.61\n",
            "    Uninstalling nvidia-cufft-cu12-11.2.3.61:\n",
            "      Successfully uninstalled nvidia-cufft-cu12-11.2.3.61\n",
            "  Attempting uninstall: nvidia-cuda-runtime-cu12\n",
            "    Found existing installation: nvidia-cuda-runtime-cu12 12.5.82\n",
            "    Uninstalling nvidia-cuda-runtime-cu12-12.5.82:\n",
            "      Successfully uninstalled nvidia-cuda-runtime-cu12-12.5.82\n",
            "  Attempting uninstall: nvidia-cuda-nvrtc-cu12\n",
            "    Found existing installation: nvidia-cuda-nvrtc-cu12 12.5.82\n",
            "    Uninstalling nvidia-cuda-nvrtc-cu12-12.5.82:\n",
            "      Successfully uninstalled nvidia-cuda-nvrtc-cu12-12.5.82\n",
            "  Attempting uninstall: nvidia-cuda-cupti-cu12\n",
            "    Found existing installation: nvidia-cuda-cupti-cu12 12.5.82\n",
            "    Uninstalling nvidia-cuda-cupti-cu12-12.5.82:\n",
            "      Successfully uninstalled nvidia-cuda-cupti-cu12-12.5.82\n",
            "  Attempting uninstall: nvidia-cublas-cu12\n",
            "    Found existing installation: nvidia-cublas-cu12 12.5.3.2\n",
            "    Uninstalling nvidia-cublas-cu12-12.5.3.2:\n",
            "      Successfully uninstalled nvidia-cublas-cu12-12.5.3.2\n",
            "  Attempting uninstall: nvidia-cusparse-cu12\n",
            "    Found existing installation: nvidia-cusparse-cu12 12.5.1.3\n",
            "    Uninstalling nvidia-cusparse-cu12-12.5.1.3:\n",
            "      Successfully uninstalled nvidia-cusparse-cu12-12.5.1.3\n",
            "  Attempting uninstall: nvidia-cudnn-cu12\n",
            "    Found existing installation: nvidia-cudnn-cu12 9.3.0.75\n",
            "    Uninstalling nvidia-cudnn-cu12-9.3.0.75:\n",
            "      Successfully uninstalled nvidia-cudnn-cu12-9.3.0.75\n",
            "  Attempting uninstall: nvidia-cusolver-cu12\n",
            "    Found existing installation: nvidia-cusolver-cu12 11.6.3.83\n",
            "    Uninstalling nvidia-cusolver-cu12-11.6.3.83:\n",
            "      Successfully uninstalled nvidia-cusolver-cu12-11.6.3.83\n",
            "Successfully installed bitsandbytes-0.45.5 nvidia-cublas-cu12-12.4.5.8 nvidia-cuda-cupti-cu12-12.4.127 nvidia-cuda-nvrtc-cu12-12.4.127 nvidia-cuda-runtime-cu12-12.4.127 nvidia-cudnn-cu12-9.1.0.70 nvidia-cufft-cu12-11.2.1.3 nvidia-curand-cu12-10.3.5.147 nvidia-cusolver-cu12-11.6.1.9 nvidia-cusparse-cu12-12.3.1.170 nvidia-nvjitlink-cu12-12.4.127\n"
          ]
        }
      ],
      "source": [
        "!pip install --upgrade transformers\n",
        "!pip install google-colab-selenium\n",
        "!pip install bitsandbytes"
      ]
    },
    {
      "cell_type": "code",
      "execution_count": null,
      "metadata": {
        "colab": {
          "base_uri": "https://localhost:8080/"
        },
        "id": "9eeQyggIjfsz",
        "outputId": "8a5e3dec-b306-40de-aff1-d94320a5ea61"
      },
      "outputs": [
        {
          "name": "stdout",
          "output_type": "stream",
          "text": [
            "Mounted at /content/drive\n"
          ]
        }
      ],
      "source": [
        "# ドライブの設定\n",
        "from google.colab import drive\n",
        "drive.mount('/content/drive')"
      ]
    },
    {
      "cell_type": "code",
      "execution_count": null,
      "metadata": {
        "id": "mjk_kAgxjpzb"
      },
      "outputs": [],
      "source": [
        "datafolder = \"/content/drive/MyDrive/Colab Notebooks/AIengineering2025_colab/DAY3/data/\"\n",
        "pdfname = \"yosan_20250402.pdf\"\n",
        "pdfpath = datafolder + pdfname"
      ]
    },
    {
      "cell_type": "code",
      "execution_count": null,
      "metadata": {
        "colab": {
          "base_uri": "https://localhost:8080/"
        },
        "id": "V2PStE0uqM03",
        "outputId": "033dc0cb-cd0a-4e48-f8fc-502e7a93bdb1"
      },
      "outputs": [
        {
          "name": "stdout",
          "output_type": "stream",
          "text": [
            "Cloning into 'lecture-ai-engineering'...\n",
            "remote: Enumerating objects: 99, done.\u001b[K\n",
            "remote: Total 99 (delta 0), reused 0 (delta 0), pack-reused 99 (from 2)\u001b[K\n",
            "Receiving objects: 100% (99/99), 93.77 KiB | 4.69 MiB/s, done.\n",
            "Resolving deltas: 100% (34/34), done.\n"
          ]
        }
      ],
      "source": [
        "# 演習用のコンテンツを取得\n",
        "!git clone https://github.com/yt1970/lecture-ai-engineering.git"
      ]
    },
    {
      "cell_type": "code",
      "execution_count": null,
      "metadata": {
        "colab": {
          "base_uri": "https://localhost:8080/",
          "height": 38,
          "referenced_widgets": [
            "1cade9586615420cbde853055a5a2176",
            "a91228e391434058b9c79828d61c890d",
            "50fde163ee9942378045adccdbc588be",
            "581e6f3a91cd4824811451d82ba4e228",
            "67ce871ab2fa4d81a22f1d3519e25339",
            "131e45464908411ab66cd272f2b1722f",
            "c00d3caa5137440d8e448483ce96e096",
            "a1f6128579054527befa4972290ba57d",
            "dca1618233e94f5f95277560291cff73",
            "f4712537e3ab4f7b9b9f8cec89712cb1",
            "79151bded4644c04bc33a5505a7b76a8",
            "1604f891b3f148ef933c68251624b389",
            "2a7084e8336543f1b282f704b3d10fa3",
            "382521a1756b4a9b8ac15499b88a4a45",
            "0a1fc7bb7abe445c977d2aa5bbeca096",
            "b3724ba253e14218a0ed132ba1f5e085",
            "e082e91034184b2785e2dba9da3b4772",
            "12af15688ed5456a8ce1a2fffe225440",
            "0a6b8242d2bd45fe8042716f1434504d",
            "14e9002f46e9457bafda20a8794de3aa"
          ]
        },
        "id": "zXo_kFASXlvp",
        "outputId": "5548c55a-29c7-4132-efa8-a699aa3140c1"
      },
      "outputs": [
        {
          "data": {
            "application/vnd.jupyter.widget-view+json": {
              "model_id": "1cade9586615420cbde853055a5a2176",
              "version_major": 2,
              "version_minor": 0
            },
            "text/plain": [
              "VBox(children=(HTML(value='<center> <img\\nsrc=https://huggingface.co/front/assets/huggingface_logo-noborder.sv…"
            ]
          },
          "metadata": {},
          "output_type": "display_data"
        }
      ],
      "source": [
        "# HuggingFace Login\n",
        "from huggingface_hub import notebook_login\n",
        "\n",
        "notebook_login()"
      ]
    },
    {
      "cell_type": "code",
      "execution_count": null,
      "metadata": {
        "id": "dZ_NUIftXwLc"
      },
      "outputs": [],
      "source": [
        "# CUDAが利用可能ならGPUを、それ以外ならCPUをデバイスとして設定\n",
        "import torch\n",
        "device = torch.device(\"cuda\" if torch.cuda.is_available() else \"cpu\")"
      ]
    },
    {
      "cell_type": "code",
      "execution_count": null,
      "metadata": {
        "id": "7eTgV8XBPA90"
      },
      "outputs": [],
      "source": [
        "import random\n",
        "random.seed(0)"
      ]
    },
    {
      "cell_type": "code",
      "execution_count": null,
      "metadata": {
        "colab": {
          "base_uri": "https://localhost:8080/",
          "height": 389,
          "referenced_widgets": [
            "deaf9b3a9c244905a555c601bc10ae0c",
            "303b71ea809f44e78dd45e1de9d25670",
            "236e50151fef40f6ad440d44fa463a64",
            "f348b9f47c1649baaa488b5119eefcd0",
            "c6542a01570a45cb80f35c2de86742ef",
            "2d001a6b649f48e7b1d1270a99660bd9",
            "d475fe6cbaca4fef9d94a180a9b23e68",
            "5dec202f345b4ecabb6912f58ed61e7b",
            "6ddb9e9ea2854010b85a401e9275fc67",
            "d278e629974744f78de483f5a3a5aa05",
            "a6adaa5d017e4f61b7d0c98df22d312b",
            "8f2085b1cbce4e7383f645c8e043fcdb",
            "3426b8bf61724e8683721830ce7eae20",
            "102368269fad474fb9093971c4f17763",
            "9dc1ec70ea804ff1bb335e61588a2d92",
            "1a33b8743eb440c9a55ca9bd65201fdd",
            "2cf5fcc3ae684e518a81e080577e66f1",
            "dfe5e48fa7564c49a691f9b55bfe9e36",
            "20a5f5ee19294286bc65d960e980132c",
            "ae2546eb56ff4c28b87c47b68a38b6b2",
            "fe06169cd05c46798a0f167e8be65483",
            "0ba56344982d4b70bfc0a7195b13b76f",
            "95464b94bcf64c01882277bacbc6c8c4",
            "98c12dc6664c4687b12ef310ebe027f0",
            "cc533dfed6284a509ec3bc860c17b3ff",
            "dbe6fce8da514a67b8e6d62034b8712c",
            "1879c5e9b2ec46cc94a01108b32be346",
            "4f94605524ff490485007ed8625f9a86",
            "40c72821ac66473eaca323f812444930",
            "bebd7e4f1c664e94ac6b99ac48c462ee",
            "2e628903b4ee40f39b187cf892929f79",
            "1123d5e2ad4744b5ae4018c256e07c43",
            "a0fabceb431b46b9aa14d7dfa6e4ea97",
            "fcbd30c763954457942667311f04f6e0",
            "01c7770359a74be6b959de9f0abd96da",
            "8d7f41bfb90245b6b30762fdfa40f66a",
            "6b93a48652624e4290a48eaf15791f26",
            "ea9ae5d867e242ef9885a0da0892089a",
            "dbdeac1c54c64cbab9d6fd9e7faf92f2",
            "82fae4602674404b93d6551dbaf1fc3e",
            "e167ecfb2e7f435ca105b81865ae8e88",
            "c1eecaea531e4e9190d5edafa6350b96",
            "1b1ef425b7fb47db8c216aac4f30770a",
            "fb3b16a838124617ba8a93e3db1e566e",
            "683afae937694447996431be467ac176",
            "4b10571b3600451f8766d4eb1ad7f33d",
            "496507ab47a54306bfb49325bce8c8ac",
            "fd0e211e0d70491bbaead983b2b9caa1",
            "6319924d298c449abb2560deab5680cc",
            "624f5ccccb484f5c928943850707895a",
            "2cacfe77cbc649e58912c242222dd38a",
            "eca7cd5117d24c58bf43b535210291f4",
            "e067b4ca2ebe4cd0b8437d76f4ee8547",
            "1eed5d3102524c4ba902d27c98365298",
            "1a910cccca8b4e6bbed0eb3fdb89a3c4",
            "73f1d52fa415444199d67350144b248e",
            "f091ef91ee814598a74271fe1952a765",
            "d6eb8ba0801a40fea373a62aee1f9f07",
            "061c320cd1f240e381d68ab3ded5f966",
            "cf8d27370cde4f5ba9727220adca4d90",
            "f8b4ebb0db2c48bdadfbf7d11a27dc42",
            "aa58b02cb3b645d29289a515645ed357",
            "6e0589c662b0499aaddff09862c65b10",
            "2a06935847ca4f319cec07fc58958d5e",
            "3808f83b15f744b2acd2056e7080ddb8",
            "5c654f7856d0432a95b4067f53d214ba",
            "3708c116df144e01ae418f6d3d633682",
            "b554c49880254600ba3e91c3ab62334d",
            "c4339e1b96354bf4a213c9e125cd696d",
            "d2c175f8942e4b94992b8451e34d0d52",
            "93d3ece0463b4b7fb7d7a59e2144410c",
            "3b5af16876774910905e83e0af68bbb8",
            "e88e2c8cd38a44cead6fe4796301d51d",
            "149ec09694584f7a9af7acb5aa67c8ac",
            "fa26333baa144d57bd3b3e3d364c2562",
            "7e4058e3132a4db6961bf513079275db",
            "bf3cf2b5d47f4e139949134f9bbd86d4",
            "ba831b57806346e586f17cc43032de68",
            "4c79792eaaf144ce9c61ab64fbb29e62",
            "043123c2f7ca48f9b0f855e3fce9f59c",
            "834db94fd4e641459a037487f9e3a447",
            "3eabe9d58a1642b7b7a779bebb266751",
            "2ceacf711bc245dbaa35ad356b15a4eb",
            "9cc1c142e835495fb7847f940c454828",
            "485138c19c0e4d28808d4af643b931a1",
            "c7effded580342599c3ad96f495a50da",
            "9678f9c956374863a7b65e19bab14965",
            "c94a5c45075b42bf847e453f4e3ecf63",
            "c5ce931a70f8429db041a065331cc92d",
            "7e28cc66a69447269d0ef0761b2e0741",
            "d26b03780e754ab3a52cfcd5d66b4973",
            "156b65952c0d46649f3e0df8a0378f1f",
            "1402aab69d95482ca38bf023f54acddc",
            "9433ac0fc1584492b7759b2954f9632c",
            "822735dc88e34348ba10aa3826b79842",
            "914588406ca74f82b62677da6f244aff",
            "e800ba2cf82b4fb3b61fffd3ec819b15",
            "fb9f7bb0651e410d81bb9cc98a798d47",
            "5604d169a8eb4949bf24cb4a8725f427",
            "fb4b4b6bb1274c76bc9d50d756d21529",
            "856c70cda99a4a3c9ebe18fa99a1aad6",
            "004cee57d26c4879ae180df5da6dbb13",
            "91122fd676fc4870bd2daeefed9b0fd7",
            "2b5d55b7ef2d4c23b9152b0868b72eb6",
            "30db664d02004ebbb7eddcae061c0b52",
            "ea443c02a55b46cd844ba89712209ed0",
            "d931c26ddd5b4c7eb1aa12ebe195604c",
            "56d2f5686bc643739171927b79f8087d",
            "b2ad7d4622074911aa8d4ecf15210bf4",
            "c8ea9e7c94be4f659b22ca89a5fcbe4f",
            "2b2c6ccc7165454f816cced097963cee",
            "26249a51c51b4ad4a37d60d2f3b46063",
            "1e49c1c61f5044b688da2d893457eb97",
            "03f3fee32840419da2322be2760752c0",
            "71d8194e3dd94db192795c800d7b327f",
            "e02726e2d06a459b88b4facb362226a9",
            "4ee7b474fe2249a792322a71362d228f",
            "96fe4ad1126f453aa8db40b050649e29",
            "e5cf1b1f73954442837b550e96109125",
            "bb5782af3d75470fa35fe88c82f3f3be",
            "e1a422007ec0406198a9cec80dbc4645"
          ]
        },
        "id": "6tV9mO8oXoaM",
        "outputId": "87cb9ddb-c5d4-401d-f30e-f836cf3992bd"
      },
      "outputs": [
        {
          "data": {
            "application/vnd.jupyter.widget-view+json": {
              "model_id": "deaf9b3a9c244905a555c601bc10ae0c",
              "version_major": 2,
              "version_minor": 0
            },
            "text/plain": [
              "tokenizer_config.json:   0%|          | 0.00/46.9k [00:00<?, ?B/s]"
            ]
          },
          "metadata": {},
          "output_type": "display_data"
        },
        {
          "data": {
            "application/vnd.jupyter.widget-view+json": {
              "model_id": "8f2085b1cbce4e7383f645c8e043fcdb",
              "version_major": 2,
              "version_minor": 0
            },
            "text/plain": [
              "tokenizer.model:   0%|          | 0.00/4.24M [00:00<?, ?B/s]"
            ]
          },
          "metadata": {},
          "output_type": "display_data"
        },
        {
          "data": {
            "application/vnd.jupyter.widget-view+json": {
              "model_id": "95464b94bcf64c01882277bacbc6c8c4",
              "version_major": 2,
              "version_minor": 0
            },
            "text/plain": [
              "tokenizer.json:   0%|          | 0.00/17.5M [00:00<?, ?B/s]"
            ]
          },
          "metadata": {},
          "output_type": "display_data"
        },
        {
          "data": {
            "application/vnd.jupyter.widget-view+json": {
              "model_id": "fcbd30c763954457942667311f04f6e0",
              "version_major": 2,
              "version_minor": 0
            },
            "text/plain": [
              "special_tokens_map.json:   0%|          | 0.00/555 [00:00<?, ?B/s]"
            ]
          },
          "metadata": {},
          "output_type": "display_data"
        },
        {
          "data": {
            "application/vnd.jupyter.widget-view+json": {
              "model_id": "683afae937694447996431be467ac176",
              "version_major": 2,
              "version_minor": 0
            },
            "text/plain": [
              "config.json:   0%|          | 0.00/805 [00:00<?, ?B/s]"
            ]
          },
          "metadata": {},
          "output_type": "display_data"
        },
        {
          "data": {
            "application/vnd.jupyter.widget-view+json": {
              "model_id": "73f1d52fa415444199d67350144b248e",
              "version_major": 2,
              "version_minor": 0
            },
            "text/plain": [
              "model.safetensors.index.json:   0%|          | 0.00/24.2k [00:00<?, ?B/s]"
            ]
          },
          "metadata": {},
          "output_type": "display_data"
        },
        {
          "data": {
            "application/vnd.jupyter.widget-view+json": {
              "model_id": "3708c116df144e01ae418f6d3d633682",
              "version_major": 2,
              "version_minor": 0
            },
            "text/plain": [
              "Fetching 2 files:   0%|          | 0/2 [00:00<?, ?it/s]"
            ]
          },
          "metadata": {},
          "output_type": "display_data"
        },
        {
          "data": {
            "application/vnd.jupyter.widget-view+json": {
              "model_id": "ba831b57806346e586f17cc43032de68",
              "version_major": 2,
              "version_minor": 0
            },
            "text/plain": [
              "model-00002-of-00002.safetensors:   0%|          | 0.00/241M [00:00<?, ?B/s]"
            ]
          },
          "metadata": {},
          "output_type": "display_data"
        },
        {
          "data": {
            "application/vnd.jupyter.widget-view+json": {
              "model_id": "c5ce931a70f8429db041a065331cc92d",
              "version_major": 2,
              "version_minor": 0
            },
            "text/plain": [
              "model-00001-of-00002.safetensors:   0%|          | 0.00/4.99G [00:00<?, ?B/s]"
            ]
          },
          "metadata": {},
          "output_type": "display_data"
        },
        {
          "data": {
            "application/vnd.jupyter.widget-view+json": {
              "model_id": "fb4b4b6bb1274c76bc9d50d756d21529",
              "version_major": 2,
              "version_minor": 0
            },
            "text/plain": [
              "Loading checkpoint shards:   0%|          | 0/2 [00:00<?, ?it/s]"
            ]
          },
          "metadata": {},
          "output_type": "display_data"
        },
        {
          "data": {
            "application/vnd.jupyter.widget-view+json": {
              "model_id": "2b2c6ccc7165454f816cced097963cee",
              "version_major": 2,
              "version_minor": 0
            },
            "text/plain": [
              "generation_config.json:   0%|          | 0.00/168 [00:00<?, ?B/s]"
            ]
          },
          "metadata": {},
          "output_type": "display_data"
        }
      ],
      "source": [
        "# モデル(Gemma2)の読み込み\n",
        "\n",
        "from transformers import AutoModelForCausalLM, AutoTokenizer, BitsAndBytesConfig\n",
        "\n",
        "llm_model_name = \"google/gemma-2-2b-jpn-it\"\n",
        "tokenizer = AutoTokenizer.from_pretrained(llm_model_name)\n",
        "\n",
        "bnb_config = BitsAndBytesConfig(\n",
        "    load_in_4bit=True,\n",
        "    bnb_4bit_compute_dtype=torch.float16,\n",
        "    bnb_4bit_quant_type=\"nf4\",\n",
        "    bnb_4bit_use_double_quant=False,\n",
        ")\n",
        "\n",
        "llm_model = AutoModelForCausalLM.from_pretrained(\n",
        "            llm_model_name,\n",
        "            device_map=\"auto\",\n",
        "            quantization_config=bnb_config,\n",
        "            torch_dtype=torch.bfloat16,\n",
        "        )"
      ]
    },
    {
      "cell_type": "code",
      "execution_count": null,
      "metadata": {
        "colab": {
          "base_uri": "https://localhost:8080/"
        },
        "id": "N6lU_ru79xCQ",
        "outputId": "ec47ad24-9e5a-40d1-d697-64c7fbdad6de"
      },
      "outputs": [
        {
          "name": "stdout",
          "output_type": "stream",
          "text": [
            "[{\"質問\": \"令和7年度の防衛費の予算総額はいくらですか？また、その主要な内訳を具体的に説明してください。\"},\n",
            "{\"質問\": \"令和7年度の防衛力整備計画で重視されている7つの分野は何ですか？ それぞれの分野における具体的な取り組みの例を挙げてください。\"},\n",
            "{\"質問\": \"過去5年間の日本の防衛費の推移を説明してください。特に、GDP比での変化に着目してください。\"},\n",
            "{\"質問\": \"令和７年度の防衛予算において、自衛官等の給与・手当等の見直しに関する予算額と主要項目を含めて説明してください。\"},\n",
            "{\"質問\": \"令和7年度の防衛予算で新たに取得する哨戒機の合計機数と合計金額はいくらですか？\"}]\n"
          ]
        }
      ],
      "source": [
        "# QAファイルの読み込み\n",
        "# JSONファイルから質問を読み込む\n",
        "import json\n",
        "questions_file = datafolder + \"Q&A.json\" # ファイル名を適切に変更してください\n",
        "try:\n",
        "    with open(questions_file, 'r', encoding='utf-8') as f:\n",
        "        questions_data = json.load(f)\n",
        "except FileNotFoundError:\n",
        "    print(f\"エラー: ファイル '{questions_file}' が見つかりません。\")\n",
        "    exit()\n",
        "except json.JSONDecodeError:\n",
        "    print(f\"エラー: ファイル '{questions_file}' のJSON形式が不正です。\")\n",
        "    exit()\n",
        "\n",
        "prompt_questions = \"\"\n",
        "original_questions = []\n",
        "for item in questions_data:\n",
        "    prompt_questions += f'{{\"質問\": \"{item[\"質問\"]}\"}},\\n'\n",
        "    original_questions.append(item[\"質問\"])\n",
        "prompt_questions = \"[\" + prompt_questions.rstrip(',\\n') + \"]\"\n",
        "\n",
        "print(prompt_questions)"
      ]
    },
    {
      "cell_type": "code",
      "execution_count": null,
      "metadata": {
        "id": "Cmla9leZ6q55"
      },
      "outputs": [],
      "source": [
        "question_json_file = datafolder + \"question.json\"\n",
        "parsed_response = json.loads(prompt_questions)\n",
        "with open(question_json_file, 'w', encoding='utf-8') as f:\n",
        "  json.dump(parsed_response, f, ensure_ascii=False, indent=2)"
      ]
    },
    {
      "cell_type": "markdown",
      "metadata": {
        "id": "piTdVxTfGcc_"
      },
      "source": [
        "# 1 ベースラインモデル評価\n",
        "**まずはベースモデルがどの程度知識を持っているか確かめる**"
      ]
    },
    {
      "cell_type": "markdown",
      "metadata": {
        "id": "sq-0jUwj1-oF"
      },
      "source": [
        "### 1.1 回答内容の生成"
      ]
    },
    {
      "cell_type": "code",
      "execution_count": null,
      "metadata": {
        "colab": {
          "base_uri": "https://localhost:8080/",
          "height": 1000,
          "referenced_widgets": [
            "8c0945bf6ba445d6b153ae7768bfa4ac",
            "85665353384f4dfdbb9fb7ee8f499c0b",
            "18591b1ec8a347b8a6987582bae62db3",
            "a6d0e89868094ca5a40c5408abd2d7fc",
            "8015e85d61554383bc1412d8115b9963",
            "bbe6f3af5ac54822bfe6571cfcf7ac0e",
            "bfc493d791ff4b4eb20d5bae6f687b1c",
            "9e5723e2cfe7413a9ae2882cd48a43c3",
            "0018ed1a5db14aa9b8a26fa01361e67b",
            "e8cf460338bf439cb249626cb9b77da1",
            "1a7ce2a09dbe4a1b9199f7286f744706"
          ]
        },
        "id": "huDNYbXW3lOm",
        "outputId": "1a14c194-fe74-4a64-fe0e-498b22db4671"
      },
      "outputs": [
        {
          "data": {
            "application/vnd.jupyter.widget-view+json": {
              "model_id": "8c0945bf6ba445d6b153ae7768bfa4ac",
              "version_major": 2,
              "version_minor": 0
            },
            "text/plain": [
              "Loading checkpoint shards:   0%|          | 0/2 [00:00<?, ?it/s]"
            ]
          },
          "metadata": {},
          "output_type": "display_data"
        },
        {
          "name": "stdout",
          "output_type": "stream",
          "text": [
            "生成されたレスポンス:\n",
            " user\n",
            "以下の質問に、質問と回答のペアをJSON形式で出力してください。\n",
            "\n",
            "[{\"質問\": \"令和7年度の防衛費の予算総額はいくらですか？また、その主要な内訳を具体的に説明してください。\"},\n",
            "{\"質問\": \"令和7年度の防衛力整備計画で重視されている7つの分野は何ですか？ それぞれの分野における具体的な取り組みの例を挙げてください。\"},\n",
            "{\"質問\": \"過去5年間の日本の防衛費の推移を説明してください。特に、GDP比での変化に着目してください。\"},\n",
            "{\"質問\": \"令和７年度の防衛予算において、自衛官等の給与・手当等の見直しに関する予算額と主要項目を含めて説明してください。\"},\n",
            "{\"質問\": \"令和7年度の防衛予算で新たに取得する哨戒機の合計機数と合計金額はいくらですか？\"}]\n",
            "\n",
            "出力形式:\n",
            "[\n",
            "  {\n",
            "    \"質問\": \"質問1\",\n",
            "    \"回答\": \"回答1\"\n",
            "  },\n",
            "  {\n",
            "    \"質問\": \"質問2\",\n",
            "    \"回答\": \"回答2\"\n",
            "  },\n",
            "  ...\n",
            "]\n",
            "model\n",
            "[\n",
            "  {\n",
            "    \"質問\": \"令和7年度の防衛費の予算総額はいくらですか？また、その主要な内訳を具体的に説明してください。\",\n",
            "    \"回答\": \"令和7年度の防衛費の予算総額は、約10兆円です。主要な内訳は、 \\\n",
            "  * **装備品**:  最新鋭の戦闘機や艦船の購入や整備 \\\n",
            "  * **人材**:  自衛官の給与・手当の増加や、防衛関連の専門家育成 \\\n",
            "  * **運用**:  防衛施設の維持・管理や、防衛システムの運用 \\\n",
            "  * **研究開発**:  新しい技術の開発や、既存技術の改良 \\\n",
            "  * **情報収集**:  敵の動きや状況を把握するための情報収集 \\\n",
            "  * **国際協力**:  他の国と協力して、国際的な安全保障の維持\"\n",
            "  },\n",
            "  {\n",
            "    \"質問\": \"令和7年度の防衛力整備計画で重視されている7つの分野は何ですか？ それぞれの分野における具体的な取り組みの例を挙げてください。\",\n",
            "    \"回答\": \"令和7年度の防衛力整備計画では、以下の7つの分野が重視されています。\\\n",
            "  * **戦闘能力の向上**:  最新鋭の戦闘機や艦船の導入、戦闘システムの強化\\\n",
            "  * **情報収集・分析**:  より高度な情報収集と分析能力の向上\\\n",
            "  * **サイバーセキュリティ**:  サイバー攻撃に対する防御能力の強化\\\n",
            "  * **人材育成**:  防衛関連の専門家育成、技術革新への対応\\\n",
            "  * **防衛システムの運用**:  運用効率の向上、システムの信頼性向上\\\n",
            "  * **国際協力**:  国際的な安全保障の維持、協力体制の強化\\\n",
            "  * **災害対応**:  災害発生時の迅速な対応能力の向上\"\n",
            "  },\n",
            "  {\n",
            "    \"質問\": \"過去5年間の日本の防衛費の推移を説明してください。特に、GDP比での変化に着目してください。\",\n",
            "    \"回答\": \"過去5年間の日本の防衛費の推移は以下の通りです。\\\n",
            "  * 2018年度：約9兆円\\\n",
            "  * 2019年度：約10兆円\\\n",
            "  * 2020年度：約11兆円\\\n",
            "  * 2021年度：約12兆円\\\n",
            "  * 2022年度：約13兆円\\\n",
            "  \\\n",
            "  GDP比での変化としては、2018年から2022年にかけて、防衛費はGDP比で約1.5％増加しました。これは、安全保障の重要性と、国際的な安全保障環境の変化に対応するためです。\"\n",
            "  },\n",
            "  {\n",
            "    \"質問\": \"令和7年度の防衛予算において、自衛官等の給与・手当等の見直しに関する予算額と主要項目を含めて説明してください。\",\n",
            "    \"回答\": \"令和7年度の防衛予算において、自衛官等の給与・手当の見直しに関する予算額は、約1000億円です。\\\n",
            "  * **給与**:  自衛官の給与を、生活費の増加や、賃金水準の維持に配慮して見直し\\\n",
            "  * **手当**:  自衛官の生活費や、健康保険などの手当を、より充実させる\\\n",
            "  * **福利厚生**:  自衛官の福利厚生を向上させるための予算\\\n",
            "  * **教育**:  自衛官の教育費の増加\"\n",
            "  },\n",
            "  {\n",
            "    \"質問\": \"令和7年度の防衛予算で新たに取得する哨戒機の合計機数と合計金額はいくらですか？\",\n",
            "    \"回答\": \"令和7年度の防衛予算で新たに取得する哨戒機の合計機数は、約10機、合計金額は約100億円です。\"\n",
            "  }\n",
            "] \n",
            "\n",
            "\n",
            "\n",
            "\n",
            " \n",
            "\n",
            "\n",
            "\n",
            "\n",
            "JSONデコードエラー: Expecting value: line 1 column 1 (char 0)\n",
            "生成されたレスポンス:\n",
            "user\n",
            "以下の質問に、質問と回答のペアをJSON形式で出力してください。\n",
            "\n",
            "[{\"質問\": \"令和7年度の防衛費の予算総額はいくらですか？また、その主要な内訳を具体的に説明してください。\"},\n",
            "{\"質問\": \"令和7年度の防衛力整備計画で重視されている7つの分野は何ですか？ それぞれの分野における具体的な取り組みの例を挙げてください。\"},\n",
            "{\"質問\": \"過去5年間の日本の防衛費の推移を説明してください。特に、GDP比での変化に着目してください。\"},\n",
            "{\"質問\": \"令和７年度の防衛予算において、自衛官等の給与・手当等の見直しに関する予算額と主要項目を含めて説明してください。\"},\n",
            "{\"質問\": \"令和7年度の防衛予算で新たに取得する哨戒機の合計機数と合計金額はいくらですか？\"}]\n",
            "\n",
            "出力形式:\n",
            "[\n",
            "  {\n",
            "    \"質問\": \"質問1\",\n",
            "    \"回答\": \"回答1\"\n",
            "  },\n",
            "  {\n",
            "    \"質問\": \"質問2\",\n",
            "    \"回答\": \"回答2\"\n",
            "  },\n",
            "  ...\n",
            "]\n",
            "model\n",
            "[\n",
            "  {\n",
            "    \"質問\": \"令和7年度の防衛費の予算総額はいくらですか？また、その主要な内訳を具体的に説明してください。\",\n",
            "    \"回答\": \"令和7年度の防衛費の予算総額は、約10兆円です。主要な内訳は、 \\\n",
            "  * **装備品**:  最新鋭の戦闘機や艦船の購入や整備 \\\n",
            "  * **人材**:  自衛官の給与・手当の増加や、防衛関連の専門家育成 \\\n",
            "  * **運用**:  防衛施設の維持・管理や、防衛システムの運用 \\\n",
            "  * **研究開発**:  新しい技術の開発や、既存技術の改良 \\\n",
            "  * **情報収集**:  敵の動きや状況を把握するための情報収集 \\\n",
            "  * **国際協力**:  他の国と協力して、国際的な安全保障の維持\"\n",
            "  },\n",
            "  {\n",
            "    \"質問\": \"令和7年度の防衛力整備計画で重視されている7つの分野は何ですか？ それぞれの分野における具体的な取り組みの例を挙げてください。\",\n",
            "    \"回答\": \"令和7年度の防衛力整備計画では、以下の7つの分野が重視されています。\\\n",
            "  * **戦闘能力の向上**:  最新鋭の戦闘機や艦船の導入、戦闘システムの強化\\\n",
            "  * **情報収集・分析**:  より高度な情報収集と分析能力の向上\\\n",
            "  * **サイバーセキュリティ**:  サイバー攻撃に対する防御能力の強化\\\n",
            "  * **人材育成**:  防衛関連の専門家育成、技術革新への対応\\\n",
            "  * **防衛システムの運用**:  運用効率の向上、システムの信頼性向上\\\n",
            "  * **国際協力**:  国際的な安全保障の維持、協力体制の強化\\\n",
            "  * **災害対応**:  災害発生時の迅速な対応能力の向上\"\n",
            "  },\n",
            "  {\n",
            "    \"質問\": \"過去5年間の日本の防衛費の推移を説明してください。特に、GDP比での変化に着目してください。\",\n",
            "    \"回答\": \"過去5年間の日本の防衛費の推移は以下の通りです。\\\n",
            "  * 2018年度：約9兆円\\\n",
            "  * 2019年度：約10兆円\\\n",
            "  * 2020年度：約11兆円\\\n",
            "  * 2021年度：約12兆円\\\n",
            "  * 2022年度：約13兆円\\\n",
            "  \\\n",
            "  GDP比での変化としては、2018年から2022年にかけて、防衛費はGDP比で約1.5％増加しました。これは、安全保障の重要性と、国際的な安全保障環境の変化に対応するためです。\"\n",
            "  },\n",
            "  {\n",
            "    \"質問\": \"令和7年度の防衛予算において、自衛官等の給与・手当等の見直しに関する予算額と主要項目を含めて説明してください。\",\n",
            "    \"回答\": \"令和7年度の防衛予算において、自衛官等の給与・手当の見直しに関する予算額は、約1000億円です。\\\n",
            "  * **給与**:  自衛官の給与を、生活費の増加や、賃金水準の維持に配慮して見直し\\\n",
            "  * **手当**:  自衛官の生活費や、健康保険などの手当を、より充実させる\\\n",
            "  * **福利厚生**:  自衛官の福利厚生を向上させるための予算\\\n",
            "  * **教育**:  自衛官の教育費の増加\"\n",
            "  },\n",
            "  {\n",
            "    \"質問\": \"令和7年度の防衛予算で新たに取得する哨戒機の合計機数と合計金額はいくらですか？\",\n",
            "    \"回答\": \"令和7年度の防衛予算で新たに取得する哨戒機の合計機数は、約10機、合計金額は約100億円です。\"\n",
            "  }\n",
            "] \n",
            "\n",
            "\n",
            "\n",
            "\n",
            " \n",
            "\n",
            "\n",
            "\n",
            "\n"
          ]
        }
      ],
      "source": [
        "import json\n",
        "from transformers import AutoTokenizer, AutoModelForCausalLM\n",
        "import torch\n",
        "\n",
        "# モデルとトークナイザーの準備\n",
        "model_name = \"google/gemma-2-2b-jpn-it\"\n",
        "tokenizer = AutoTokenizer.from_pretrained(model_name)\n",
        "model = AutoModelForCausalLM.from_pretrained(model_name).to(\"cuda\" if torch.cuda.is_available() else \"cpu\")\n",
        "\n",
        "def generate_output(query):\n",
        "    messages = [\n",
        "        {\"role\": \"user\", \"content\": query},\n",
        "    ]\n",
        "    input_ids = tokenizer.apply_chat_template(\n",
        "        messages,\n",
        "        add_generation_prompt=True,\n",
        "        return_tensors=\"pt\"\n",
        "    ).to(model.device)\n",
        "\n",
        "    outputs = model.generate(\n",
        "        input_ids,\n",
        "        max_new_tokens=1024,\n",
        "        do_sample=False,\n",
        "    )\n",
        "    return tokenizer.decode(outputs[0], skip_special_tokens=True)\n",
        "\n",
        "\n",
        "\n",
        "prompt_questions = \"\"\n",
        "original_questions = []\n",
        "for item in questions_data:\n",
        "    prompt_questions += f'{{\"質問\": \"{item[\"質問\"]}\"}},\\n'\n",
        "    original_questions.append(item[\"質問\"])\n",
        "prompt_questions = \"[\" + prompt_questions.rstrip(',\\n') + \"]\"\n",
        "\n",
        "prompt = f\"\"\"以下の質問に、質問と回答のペアをJSON形式で出力してください。\n",
        "\n",
        "{prompt_questions}\n",
        "\n",
        "出力形式:\n",
        "[\n",
        "  {{\n",
        "    \"質問\": \"質問1\",\n",
        "    \"回答\": \"回答1\"\n",
        "  }},\n",
        "  {{\n",
        "    \"質問\": \"質問2\",\n",
        "    \"回答\": \"回答2\"\n",
        "  }},\n",
        "  ...\n",
        "]\"\"\"\n",
        "\n",
        "response = generate_output(prompt)\n",
        "print(\"生成されたレスポンス:\\n\", response)\n",
        "\n",
        "output_json_file = datafolder + \"llm_responses.json\"\n",
        "\n",
        "try:\n",
        "    parsed_response = json.loads(response)\n",
        "    with open(output_json_file, 'w', encoding='utf-8') as f:\n",
        "        json.dump(parsed_response, f, ensure_ascii=False, indent=2)\n",
        "    print(f\"\\nLLMのレスポンスは '{output_json_file}' に保存されました。\")\n",
        "\n",
        "    for i, item in enumerate(parsed_response):\n",
        "        print(f\"質問：\\n{original_questions[i]}\\n回答：\\n{item['回答']}\\n\")\n",
        "\n",
        "except json.JSONDecodeError as e:\n",
        "    print(f\"JSONデコードエラー: {e}\")\n",
        "    print(f\"生成されたレスポンス:\\n{response}\")\n",
        "except IndexError:\n",
        "    print(\"エラー: 生成された回答の数と質問の数が一致しません。\")\n",
        "    print(f\"生成されたレスポンス:\\n{response}\")"
      ]
    },
    {
      "cell_type": "code",
      "execution_count": null,
      "metadata": {
        "colab": {
          "base_uri": "https://localhost:8080/"
        },
        "id": "-D-EY3y3Xs8b",
        "outputId": "6ffc91a6-c718-4bd9-e2e9-685129c4723f"
      },
      "outputs": [
        {
          "name": "stdout",
          "output_type": "stream",
          "text": [
            "user\n",
            "以下の質問に、質問と回答のペアをJSON形式で出力してください。\n",
            "\n",
            "[{\"質問\": \"令和7年度の防衛費の予算総額はいくらですか？また、その主要な内訳を具体的に説明してください。\"},\n",
            "{\"質問\": \"令和7年度の防衛力整備計画で重視されている7つの分野は何ですか？ それぞれの分野における具体的な取り組みの例を挙げてください。\"},\n",
            "{\"質問\": \"過去5年間の日本の防衛費の推移を説明してください。特に、GDP比での変化に着目してください。\"},\n",
            "{\"質問\": \"令和７年度の防衛予算において、自衛官等の給与・手当等の見直しに関する予算額と主要項目を含めて説明してください。\"},\n",
            "{\"質問\": \"令和7年度の防衛予算で新たに取得する哨戒機の合計機数と合計金額はいくらですか？\"}]\n",
            "\n",
            "出力形式:\n",
            "[\n",
            "  {\n",
            "    \"質問\": \"質問1\",\n",
            "    \"回答\": \"回答1\"\n",
            "  },\n",
            "  {\n",
            "    \"質問\": \"質問2\",\n",
            "    \"回答\": \"回答2\"\n",
            "  },\n",
            "  ...\n",
            "]\n",
            "model\n",
            "[\n",
            "  {\n",
            "    \"質問\": \"令和7年度の防衛費の予算総額はいくらですか？また、その主要な内訳を具体的に説明してください。\",\n",
            "    \"回答\": \"令和7年度の防衛費の予算総額は、約10兆円です。主要な内訳は、 \\\n",
            "  * **装備品**:  最新鋭の戦闘機や艦船の購入や整備 \\\n",
            "  * **人材**:  自衛官の給与・手当の増加や、防衛関連の専門家育成 \\\n",
            "  * **運用**:  防衛施設の維持・管理や、防衛システムの運用 \\\n",
            "  * **研究開発**:  新しい技術の開発や、既存技術の改良 \\\n",
            "  * **情報収集**:  敵の動きや状況を把握するための情報収集 \\\n",
            "  * **国際協力**:  他の国と協力して、国際的な安全保障の維持\"\n",
            "  },\n",
            "  {\n",
            "    \"質問\": \"令和7年度の防衛力整備計画で重視されている7つの分野は何ですか？ それぞれの分野における具体的な取り組みの例を挙げてください。\",\n",
            "    \"回答\": \"令和7年度の防衛力整備計画では、以下の7つの分野が重視されています。\\\n",
            "  * **戦闘能力の向上**:  最新鋭の戦闘機や艦船の導入、戦闘システムの強化\\\n",
            "  * **情報収集・分析**:  より高度な情報収集と分析能力の向上\\\n",
            "  * **サイバーセキュリティ**:  サイバー攻撃に対する防御能力の強化\\\n",
            "  * **人材育成**:  防衛関連の専門家育成、技術革新への対応\\\n",
            "  * **防衛システムの運用**:  運用効率の向上、システムの信頼性向上\\\n",
            "  * **国際協力**:  国際的な安全保障の維持、協力体制の強化\\\n",
            "  * **災害対応**:  災害発生時の迅速な対応能力の向上\"\n",
            "  },\n",
            "  {\n",
            "    \"質問\": \"過去5年間の日本の防衛費の推移を説明してください。特に、GDP比での変化に着目してください。\",\n",
            "    \"回答\": \"過去5年間の日本の防衛費の推移は以下の通りです。\\\n",
            "  * 2018年度：約9兆円\\\n",
            "  * 2019年度：約10兆円\\\n",
            "  * 2020年度：約11兆円\\\n",
            "  * 2021年度：約12兆円\\\n",
            "  * 2022年度：約13兆円\\\n",
            "  \\\n",
            "  GDP比での変化としては、2018年から2022年にかけて、防衛費はGDP比で約1.5％増加しました。これは、安全保障の重要性と、国際的な安全保障環境の変化に対応するためです。\"\n",
            "  },\n",
            "  {\n",
            "    \"質問\": \"令和7年度の防衛予算において、自衛官等の給与・手当等の見直しに関する予算額と主要項目を含めて説明してください。\",\n",
            "    \"回答\": \"令和7年度の防衛予算において、自衛官等の給与・手当の見直しに関する予算額は、約1000億円です。\\\n",
            "  * **給与**:  自衛官の給与を、生活費の増加や、賃金水準の維持に配慮して見直し\\\n",
            "  * **手当**:  自衛官の生活費や、健康保険などの手当を、より充実させる\\\n",
            "  * **福利厚生**:  自衛官の福利厚生を向上させるための予算\\\n",
            "  * **教育**:  自衛官の教育費の増加\"\n",
            "  },\n",
            "  {\n",
            "    \"質問\": \"令和7年度の防衛予算で新たに取得する哨戒機の合計機数と合計金額はいくらですか？\",\n",
            "    \"回答\": \"令和7年度の防衛予算で新たに取得する哨戒機の合計機数は、約10機、合計金額は約100億円です。\"\n",
            "  }\n",
            "] \n",
            "\n",
            "\n",
            "\n",
            "\n",
            " \n",
            "\n",
            "\n",
            "\n",
            "\n"
          ]
        }
      ],
      "source": [
        "print(response)"
      ]
    },
    {
      "cell_type": "markdown",
      "metadata": {
        "id": "PUgtQ1suljvn"
      },
      "source": [
        "モデルの出力が変な形になったので、整形し直して、JSONファイルに保存しました。\n",
        "\n",
        "保存ファイル名は以下の通りです。\n",
        "\n",
        "llm_responses.json\n",
        "\n"
      ]
    },
    {
      "cell_type": "code",
      "execution_count": null,
      "metadata": {
        "colab": {
          "base_uri": "https://localhost:8080/"
        },
        "collapsed": true,
        "id": "ZUIEoSn5XHUG",
        "outputId": "f4d6172a-ce2b-4b35-ee4d-e40e7e1cdad1"
      },
      "outputs": [
        {
          "name": "stdout",
          "output_type": "stream",
          "text": [
            "\n",
            "LLMのレスポンスは '/content/drive/MyDrive/Colab Notebooks/AIengineering2025_colab/DAY3/data/llm_responses.json' に保存されました。\n",
            "質問：\n",
            "令和7年度の防衛費の予算総額はいくらですか？また、その主要な内訳を具体的に説明してください。\n",
            "回答：\n",
            "令和7年度の防衛費の予算総額は、約10兆円です。主要な内訳は、 * **装備品**:  最新鋭の戦闘機や艦船の購入や整備 * **人材**:  自衛官の給与・手当の増加や、防衛関連の専門家育成 * **運用**:  防衛施設の維持・管理や、防衛システムの運用 * **研究開発**:  新しい技術の開発や、既存技術の改良 * **情報収集**:  敵の動きや状況を把握するための情報収集 * **国際協力**:  他の国と協力して、国際的な安全保障の維持\n",
            "\n",
            "質問：\n",
            "令和7年度の防衛力整備計画で重視されている7つの分野は何ですか？ それぞれの分野における具体的な取り組みの例を挙げてください。\n",
            "回答：\n",
            "令和7年度の防衛力整備計画では、以下の7つの分野が重視されています。* **戦闘能力の向上**:  最新鋭の戦闘機や艦船の導入、戦闘システムの強化* **情報収集・分析**:  より高度な情報収集と分析能力の向上* **サイバーセキュリティ**:  サイバー攻撃に対する防御能力の強化* **人材育成**:  防衛関連の専門家育成、技術革新への対応* **防衛システムの運用**:  運用効率の向上、システムの信頼性向上* **国際協力**:  国際的な安全保障の維持、協力体制の強化* **災害対応**:  災害発生時の迅速な対応能力の向上\n",
            "\n",
            "質問：\n",
            "過去5年間の日本の防衛費の推移を説明してください。特に、GDP比での変化に着目してください。\n",
            "回答：\n",
            "過去5年間の日本の防衛費の推移は以下の通りです。* 2018年度：約9兆円* 2019年度：約10兆円* 2020年度：約11兆円* 2021年度：約12兆円* 2022年度：約13兆円GDP比での変化としては、2018年から2022年にかけて、防衛費はGDP比で約1.5％増加しました。これは、安全保障の重要性と、国際的な安全保障環境の変化に対応するためです。\n",
            "\n",
            "質問：\n",
            "令和7年度の防衛予算において、自衛官等の給与・手当等の見直しに関する予算額と主要項目を含めて説明してください。\n",
            "回答：\n",
            "令和7年度の防衛予算において、自衛官等の給与・手当の見直しに関する予算額は、約1000億円です。* **給与**:  自衛官の給与を、生活費の増加や、賃金水準の維持に配慮して見直し* **手当**:  自衛官の生活費や、健康保険などの手当を、より充実させる* **福利厚生**:  自衛官の福利厚生を向上させるための予算* **教育**:  自衛官の教育費の増加\n",
            "\n",
            "質問：\n",
            "令和7年度の防衛予算で新たに取得する哨戒機の合計機数と合計金額はいくらですか？\n",
            "回答：\n",
            "令和7年度の防衛予算で新たに取得する哨戒機の合計機数は、約10機、合計金額は約100億円です。\n",
            "\n"
          ]
        }
      ],
      "source": [
        "import json\n",
        "import re\n",
        "\n",
        "try:\n",
        "    model_start = response.find(\"model\\n\")\n",
        "    if model_start == -1:\n",
        "        raise ValueError(\"response 内に 'model\\\\n' が見つかりませんでした。\")\n",
        "\n",
        "    json_part = response[model_start + len(\"model\\n\"):]\n",
        "\n",
        "    # バックスラッシュ+空白の削除（例: \" \\\\n\" や \" \\\\\"）\n",
        "    json_part = re.sub(r'\\\\\\s*', '', json_part)\n",
        "\n",
        "    # JSONとして読み込む\n",
        "    parsed_response = json.loads(json_part)\n",
        "\n",
        "    # 保存\n",
        "    output_json_file = datafolder + \"llm_responses.json\"\n",
        "    with open(output_json_file, 'w', encoding='utf-8') as f:\n",
        "        json.dump(parsed_response, f, ensure_ascii=False, indent=2)\n",
        "\n",
        "    print(f\"\\nLLMのレスポンスは '{output_json_file}' に保存されました。\")\n",
        "    for i, item in enumerate(parsed_response):\n",
        "        print(f\"質問：\\n{item['質問']}\\n回答：\\n{item['回答']}\\n\")\n",
        "\n",
        "except json.JSONDecodeError as e:\n",
        "    print(f\"JSONの読み込みに失敗しました: {e}\")\n",
        "except Exception as e:\n",
        "    print(f\"エラーが発生しました: {e}\")"
      ]
    },
    {
      "cell_type": "markdown",
      "metadata": {
        "id": "ADEv55AiArym"
      },
      "source": [
        "### 1.2 回答内容の評価方法"
      ]
    },
    {
      "cell_type": "markdown",
      "metadata": {
        "id": "fG9zI6_lAYsQ"
      },
      "source": [
        "- 数値的な評価を見てみます。演習で講師が用いたRagasのAnswer Accuracy的な評価指標を以下のように作成しました。これを利用して数値的な評価を行います。\n",
        "評価指標の作成にあたっては、Ggeminiに壁打ちを致しました。\n",
        "\n",
        "\n",
        "```\n",
        "評価スケール：\n",
        "    0: 全く不正確。回答の全てまたは主要な部分が誤っており、質問に対して全く的外れな情報を提供している。\n",
        "    1: ほぼ不正確。回答の大部分が不正確であるか、誤った情報に基づいている。わずかに正しい情報が含まれている程度。\n",
        "    2: 部分的に正確。回答には正確な情報も含まれているが、重要な誤りや不正確な点、または誤解を招く可能性のある記述が含まれている。\n",
        "    3: ほぼ正確。回答の大部分は正確であり、質問に対して適切に答えている。しかし、細部にわずかな不正確さ、曖昧さ、または重要でない情報の欠落が見られる場合がある。\n",
        "    4: 完全に正確。回答は質問に対して適切かつ網羅的に答えており、提示された情報に誤りや不確かな点は一切なく、事実に基づいている。コンテキストとも完全に一致している。\n",
        "```\n",
        "\n",
        "\n",
        "\n",
        "- 無料で利用できるので、今回はGeminiAPIを利用してgemini-2.0-flashで評価しました。"
      ]
    },
    {
      "cell_type": "markdown",
      "metadata": {
        "id": "CKTs0QppmuES"
      },
      "source": [
        "必要なライブラリーをインストールします。"
      ]
    },
    {
      "cell_type": "code",
      "execution_count": null,
      "metadata": {
        "colab": {
          "base_uri": "https://localhost:8080/",
          "height": 1000
        },
        "collapsed": true,
        "id": "JRmPil4EAyz1",
        "outputId": "35c8cfba-9295-4051-f349-0acf0f90eb1e"
      },
      "outputs": [
        {
          "name": "stdout",
          "output_type": "stream",
          "text": [
            "Requirement already satisfied: langchain in /usr/local/lib/python3.11/dist-packages (0.3.24)\n",
            "Requirement already satisfied: langchain-core<1.0.0,>=0.3.55 in /usr/local/lib/python3.11/dist-packages (from langchain) (0.3.56)\n",
            "Requirement already satisfied: langchain-text-splitters<1.0.0,>=0.3.8 in /usr/local/lib/python3.11/dist-packages (from langchain) (0.3.8)\n",
            "Requirement already satisfied: langsmith<0.4,>=0.1.17 in /usr/local/lib/python3.11/dist-packages (from langchain) (0.3.39)\n",
            "Requirement already satisfied: pydantic<3.0.0,>=2.7.4 in /usr/local/lib/python3.11/dist-packages (from langchain) (2.11.4)\n",
            "Requirement already satisfied: SQLAlchemy<3,>=1.4 in /usr/local/lib/python3.11/dist-packages (from langchain) (2.0.40)\n",
            "Requirement already satisfied: requests<3,>=2 in /usr/local/lib/python3.11/dist-packages (from langchain) (2.32.3)\n",
            "Requirement already satisfied: PyYAML>=5.3 in /usr/local/lib/python3.11/dist-packages (from langchain) (6.0.2)\n",
            "Requirement already satisfied: tenacity!=8.4.0,<10.0.0,>=8.1.0 in /usr/local/lib/python3.11/dist-packages (from langchain-core<1.0.0,>=0.3.55->langchain) (9.1.2)\n",
            "Requirement already satisfied: jsonpatch<2.0,>=1.33 in /usr/local/lib/python3.11/dist-packages (from langchain-core<1.0.0,>=0.3.55->langchain) (1.33)\n",
            "Requirement already satisfied: packaging<25,>=23.2 in /usr/local/lib/python3.11/dist-packages (from langchain-core<1.0.0,>=0.3.55->langchain) (24.2)\n",
            "Requirement already satisfied: typing-extensions>=4.7 in /usr/local/lib/python3.11/dist-packages (from langchain-core<1.0.0,>=0.3.55->langchain) (4.13.2)\n",
            "Requirement already satisfied: httpx<1,>=0.23.0 in /usr/local/lib/python3.11/dist-packages (from langsmith<0.4,>=0.1.17->langchain) (0.28.1)\n",
            "Requirement already satisfied: orjson<4.0.0,>=3.9.14 in /usr/local/lib/python3.11/dist-packages (from langsmith<0.4,>=0.1.17->langchain) (3.10.18)\n",
            "Requirement already satisfied: requests-toolbelt<2.0.0,>=1.0.0 in /usr/local/lib/python3.11/dist-packages (from langsmith<0.4,>=0.1.17->langchain) (1.0.0)\n",
            "Requirement already satisfied: zstandard<0.24.0,>=0.23.0 in /usr/local/lib/python3.11/dist-packages (from langsmith<0.4,>=0.1.17->langchain) (0.23.0)\n",
            "Requirement already satisfied: annotated-types>=0.6.0 in /usr/local/lib/python3.11/dist-packages (from pydantic<3.0.0,>=2.7.4->langchain) (0.7.0)\n",
            "Requirement already satisfied: pydantic-core==2.33.2 in /usr/local/lib/python3.11/dist-packages (from pydantic<3.0.0,>=2.7.4->langchain) (2.33.2)\n",
            "Requirement already satisfied: typing-inspection>=0.4.0 in /usr/local/lib/python3.11/dist-packages (from pydantic<3.0.0,>=2.7.4->langchain) (0.4.0)\n",
            "Requirement already satisfied: charset-normalizer<4,>=2 in /usr/local/lib/python3.11/dist-packages (from requests<3,>=2->langchain) (3.4.1)\n",
            "Requirement already satisfied: idna<4,>=2.5 in /usr/local/lib/python3.11/dist-packages (from requests<3,>=2->langchain) (3.10)\n",
            "Requirement already satisfied: urllib3<3,>=1.21.1 in /usr/local/lib/python3.11/dist-packages (from requests<3,>=2->langchain) (2.4.0)\n",
            "Requirement already satisfied: certifi>=2017.4.17 in /usr/local/lib/python3.11/dist-packages (from requests<3,>=2->langchain) (2025.4.26)\n",
            "Requirement already satisfied: greenlet>=1 in /usr/local/lib/python3.11/dist-packages (from SQLAlchemy<3,>=1.4->langchain) (3.2.1)\n",
            "Requirement already satisfied: anyio in /usr/local/lib/python3.11/dist-packages (from httpx<1,>=0.23.0->langsmith<0.4,>=0.1.17->langchain) (4.9.0)\n",
            "Requirement already satisfied: httpcore==1.* in /usr/local/lib/python3.11/dist-packages (from httpx<1,>=0.23.0->langsmith<0.4,>=0.1.17->langchain) (1.0.9)\n",
            "Requirement already satisfied: h11>=0.16 in /usr/local/lib/python3.11/dist-packages (from httpcore==1.*->httpx<1,>=0.23.0->langsmith<0.4,>=0.1.17->langchain) (0.16.0)\n",
            "Requirement already satisfied: jsonpointer>=1.9 in /usr/local/lib/python3.11/dist-packages (from jsonpatch<2.0,>=1.33->langchain-core<1.0.0,>=0.3.55->langchain) (3.0.0)\n",
            "Requirement already satisfied: sniffio>=1.1 in /usr/local/lib/python3.11/dist-packages (from anyio->httpx<1,>=0.23.0->langsmith<0.4,>=0.1.17->langchain) (1.3.1)\n",
            "Collecting langchain-google-genai\n",
            "  Downloading langchain_google_genai-2.1.4-py3-none-any.whl.metadata (5.2 kB)\n",
            "Collecting filetype<2.0.0,>=1.2.0 (from langchain-google-genai)\n",
            "  Downloading filetype-1.2.0-py2.py3-none-any.whl.metadata (6.5 kB)\n",
            "Collecting google-ai-generativelanguage<0.7.0,>=0.6.18 (from langchain-google-genai)\n",
            "  Downloading google_ai_generativelanguage-0.6.18-py3-none-any.whl.metadata (9.8 kB)\n",
            "Requirement already satisfied: langchain-core<0.4.0,>=0.3.52 in /usr/local/lib/python3.11/dist-packages (from langchain-google-genai) (0.3.56)\n",
            "Requirement already satisfied: pydantic<3,>=2 in /usr/local/lib/python3.11/dist-packages (from langchain-google-genai) (2.11.4)\n",
            "Requirement already satisfied: google-api-core!=2.0.*,!=2.1.*,!=2.10.*,!=2.2.*,!=2.3.*,!=2.4.*,!=2.5.*,!=2.6.*,!=2.7.*,!=2.8.*,!=2.9.*,<3.0.0,>=1.34.1 in /usr/local/lib/python3.11/dist-packages (from google-api-core[grpc]!=2.0.*,!=2.1.*,!=2.10.*,!=2.2.*,!=2.3.*,!=2.4.*,!=2.5.*,!=2.6.*,!=2.7.*,!=2.8.*,!=2.9.*,<3.0.0,>=1.34.1->google-ai-generativelanguage<0.7.0,>=0.6.18->langchain-google-genai) (2.24.2)\n",
            "Requirement already satisfied: google-auth!=2.24.0,!=2.25.0,<3.0.0,>=2.14.1 in /usr/local/lib/python3.11/dist-packages (from google-ai-generativelanguage<0.7.0,>=0.6.18->langchain-google-genai) (2.38.0)\n",
            "Requirement already satisfied: proto-plus<2.0.0,>=1.22.3 in /usr/local/lib/python3.11/dist-packages (from google-ai-generativelanguage<0.7.0,>=0.6.18->langchain-google-genai) (1.26.1)\n",
            "Requirement already satisfied: protobuf!=4.21.0,!=4.21.1,!=4.21.2,!=4.21.3,!=4.21.4,!=4.21.5,<7.0.0,>=3.20.2 in /usr/local/lib/python3.11/dist-packages (from google-ai-generativelanguage<0.7.0,>=0.6.18->langchain-google-genai) (5.29.4)\n",
            "Requirement already satisfied: langsmith<0.4,>=0.1.125 in /usr/local/lib/python3.11/dist-packages (from langchain-core<0.4.0,>=0.3.52->langchain-google-genai) (0.3.39)\n",
            "Requirement already satisfied: tenacity!=8.4.0,<10.0.0,>=8.1.0 in /usr/local/lib/python3.11/dist-packages (from langchain-core<0.4.0,>=0.3.52->langchain-google-genai) (9.1.2)\n",
            "Requirement already satisfied: jsonpatch<2.0,>=1.33 in /usr/local/lib/python3.11/dist-packages (from langchain-core<0.4.0,>=0.3.52->langchain-google-genai) (1.33)\n",
            "Requirement already satisfied: PyYAML>=5.3 in /usr/local/lib/python3.11/dist-packages (from langchain-core<0.4.0,>=0.3.52->langchain-google-genai) (6.0.2)\n",
            "Requirement already satisfied: packaging<25,>=23.2 in /usr/local/lib/python3.11/dist-packages (from langchain-core<0.4.0,>=0.3.52->langchain-google-genai) (24.2)\n",
            "Requirement already satisfied: typing-extensions>=4.7 in /usr/local/lib/python3.11/dist-packages (from langchain-core<0.4.0,>=0.3.52->langchain-google-genai) (4.13.2)\n",
            "Requirement already satisfied: annotated-types>=0.6.0 in /usr/local/lib/python3.11/dist-packages (from pydantic<3,>=2->langchain-google-genai) (0.7.0)\n",
            "Requirement already satisfied: pydantic-core==2.33.2 in /usr/local/lib/python3.11/dist-packages (from pydantic<3,>=2->langchain-google-genai) (2.33.2)\n",
            "Requirement already satisfied: typing-inspection>=0.4.0 in /usr/local/lib/python3.11/dist-packages (from pydantic<3,>=2->langchain-google-genai) (0.4.0)\n",
            "Requirement already satisfied: googleapis-common-protos<2.0.0,>=1.56.2 in /usr/local/lib/python3.11/dist-packages (from google-api-core!=2.0.*,!=2.1.*,!=2.10.*,!=2.2.*,!=2.3.*,!=2.4.*,!=2.5.*,!=2.6.*,!=2.7.*,!=2.8.*,!=2.9.*,<3.0.0,>=1.34.1->google-api-core[grpc]!=2.0.*,!=2.1.*,!=2.10.*,!=2.2.*,!=2.3.*,!=2.4.*,!=2.5.*,!=2.6.*,!=2.7.*,!=2.8.*,!=2.9.*,<3.0.0,>=1.34.1->google-ai-generativelanguage<0.7.0,>=0.6.18->langchain-google-genai) (1.70.0)\n",
            "Requirement already satisfied: requests<3.0.0,>=2.18.0 in /usr/local/lib/python3.11/dist-packages (from google-api-core!=2.0.*,!=2.1.*,!=2.10.*,!=2.2.*,!=2.3.*,!=2.4.*,!=2.5.*,!=2.6.*,!=2.7.*,!=2.8.*,!=2.9.*,<3.0.0,>=1.34.1->google-api-core[grpc]!=2.0.*,!=2.1.*,!=2.10.*,!=2.2.*,!=2.3.*,!=2.4.*,!=2.5.*,!=2.6.*,!=2.7.*,!=2.8.*,!=2.9.*,<3.0.0,>=1.34.1->google-ai-generativelanguage<0.7.0,>=0.6.18->langchain-google-genai) (2.32.3)\n",
            "Requirement already satisfied: grpcio<2.0dev,>=1.33.2 in /usr/local/lib/python3.11/dist-packages (from google-api-core[grpc]!=2.0.*,!=2.1.*,!=2.10.*,!=2.2.*,!=2.3.*,!=2.4.*,!=2.5.*,!=2.6.*,!=2.7.*,!=2.8.*,!=2.9.*,<3.0.0,>=1.34.1->google-ai-generativelanguage<0.7.0,>=0.6.18->langchain-google-genai) (1.71.0)\n",
            "Requirement already satisfied: grpcio-status<2.0.dev0,>=1.33.2 in /usr/local/lib/python3.11/dist-packages (from google-api-core[grpc]!=2.0.*,!=2.1.*,!=2.10.*,!=2.2.*,!=2.3.*,!=2.4.*,!=2.5.*,!=2.6.*,!=2.7.*,!=2.8.*,!=2.9.*,<3.0.0,>=1.34.1->google-ai-generativelanguage<0.7.0,>=0.6.18->langchain-google-genai) (1.71.0)\n",
            "Requirement already satisfied: cachetools<6.0,>=2.0.0 in /usr/local/lib/python3.11/dist-packages (from google-auth!=2.24.0,!=2.25.0,<3.0.0,>=2.14.1->google-ai-generativelanguage<0.7.0,>=0.6.18->langchain-google-genai) (5.5.2)\n",
            "Requirement already satisfied: pyasn1-modules>=0.2.1 in /usr/local/lib/python3.11/dist-packages (from google-auth!=2.24.0,!=2.25.0,<3.0.0,>=2.14.1->google-ai-generativelanguage<0.7.0,>=0.6.18->langchain-google-genai) (0.4.2)\n",
            "Requirement already satisfied: rsa<5,>=3.1.4 in /usr/local/lib/python3.11/dist-packages (from google-auth!=2.24.0,!=2.25.0,<3.0.0,>=2.14.1->google-ai-generativelanguage<0.7.0,>=0.6.18->langchain-google-genai) (4.9.1)\n",
            "Requirement already satisfied: jsonpointer>=1.9 in /usr/local/lib/python3.11/dist-packages (from jsonpatch<2.0,>=1.33->langchain-core<0.4.0,>=0.3.52->langchain-google-genai) (3.0.0)\n",
            "Requirement already satisfied: httpx<1,>=0.23.0 in /usr/local/lib/python3.11/dist-packages (from langsmith<0.4,>=0.1.125->langchain-core<0.4.0,>=0.3.52->langchain-google-genai) (0.28.1)\n",
            "Requirement already satisfied: orjson<4.0.0,>=3.9.14 in /usr/local/lib/python3.11/dist-packages (from langsmith<0.4,>=0.1.125->langchain-core<0.4.0,>=0.3.52->langchain-google-genai) (3.10.18)\n",
            "Requirement already satisfied: requests-toolbelt<2.0.0,>=1.0.0 in /usr/local/lib/python3.11/dist-packages (from langsmith<0.4,>=0.1.125->langchain-core<0.4.0,>=0.3.52->langchain-google-genai) (1.0.0)\n",
            "Requirement already satisfied: zstandard<0.24.0,>=0.23.0 in /usr/local/lib/python3.11/dist-packages (from langsmith<0.4,>=0.1.125->langchain-core<0.4.0,>=0.3.52->langchain-google-genai) (0.23.0)\n",
            "Requirement already satisfied: anyio in /usr/local/lib/python3.11/dist-packages (from httpx<1,>=0.23.0->langsmith<0.4,>=0.1.125->langchain-core<0.4.0,>=0.3.52->langchain-google-genai) (4.9.0)\n",
            "Requirement already satisfied: certifi in /usr/local/lib/python3.11/dist-packages (from httpx<1,>=0.23.0->langsmith<0.4,>=0.1.125->langchain-core<0.4.0,>=0.3.52->langchain-google-genai) (2025.4.26)\n",
            "Requirement already satisfied: httpcore==1.* in /usr/local/lib/python3.11/dist-packages (from httpx<1,>=0.23.0->langsmith<0.4,>=0.1.125->langchain-core<0.4.0,>=0.3.52->langchain-google-genai) (1.0.9)\n",
            "Requirement already satisfied: idna in /usr/local/lib/python3.11/dist-packages (from httpx<1,>=0.23.0->langsmith<0.4,>=0.1.125->langchain-core<0.4.0,>=0.3.52->langchain-google-genai) (3.10)\n",
            "Requirement already satisfied: h11>=0.16 in /usr/local/lib/python3.11/dist-packages (from httpcore==1.*->httpx<1,>=0.23.0->langsmith<0.4,>=0.1.125->langchain-core<0.4.0,>=0.3.52->langchain-google-genai) (0.16.0)\n",
            "Requirement already satisfied: pyasn1<0.7.0,>=0.6.1 in /usr/local/lib/python3.11/dist-packages (from pyasn1-modules>=0.2.1->google-auth!=2.24.0,!=2.25.0,<3.0.0,>=2.14.1->google-ai-generativelanguage<0.7.0,>=0.6.18->langchain-google-genai) (0.6.1)\n",
            "Requirement already satisfied: charset-normalizer<4,>=2 in /usr/local/lib/python3.11/dist-packages (from requests<3.0.0,>=2.18.0->google-api-core!=2.0.*,!=2.1.*,!=2.10.*,!=2.2.*,!=2.3.*,!=2.4.*,!=2.5.*,!=2.6.*,!=2.7.*,!=2.8.*,!=2.9.*,<3.0.0,>=1.34.1->google-api-core[grpc]!=2.0.*,!=2.1.*,!=2.10.*,!=2.2.*,!=2.3.*,!=2.4.*,!=2.5.*,!=2.6.*,!=2.7.*,!=2.8.*,!=2.9.*,<3.0.0,>=1.34.1->google-ai-generativelanguage<0.7.0,>=0.6.18->langchain-google-genai) (3.4.1)\n",
            "Requirement already satisfied: urllib3<3,>=1.21.1 in /usr/local/lib/python3.11/dist-packages (from requests<3.0.0,>=2.18.0->google-api-core!=2.0.*,!=2.1.*,!=2.10.*,!=2.2.*,!=2.3.*,!=2.4.*,!=2.5.*,!=2.6.*,!=2.7.*,!=2.8.*,!=2.9.*,<3.0.0,>=1.34.1->google-api-core[grpc]!=2.0.*,!=2.1.*,!=2.10.*,!=2.2.*,!=2.3.*,!=2.4.*,!=2.5.*,!=2.6.*,!=2.7.*,!=2.8.*,!=2.9.*,<3.0.0,>=1.34.1->google-ai-generativelanguage<0.7.0,>=0.6.18->langchain-google-genai) (2.4.0)\n",
            "Requirement already satisfied: sniffio>=1.1 in /usr/local/lib/python3.11/dist-packages (from anyio->httpx<1,>=0.23.0->langsmith<0.4,>=0.1.125->langchain-core<0.4.0,>=0.3.52->langchain-google-genai) (1.3.1)\n",
            "Downloading langchain_google_genai-2.1.4-py3-none-any.whl (44 kB)\n",
            "\u001b[2K   \u001b[90m━━━━━━━━━━━━━━━━━━━━━━━━━━━━━━━━━━━━━━━━\u001b[0m \u001b[32m44.3/44.3 kB\u001b[0m \u001b[31m1.8 MB/s\u001b[0m eta \u001b[36m0:00:00\u001b[0m\n",
            "\u001b[?25hDownloading filetype-1.2.0-py2.py3-none-any.whl (19 kB)\n",
            "Downloading google_ai_generativelanguage-0.6.18-py3-none-any.whl (1.4 MB)\n",
            "\u001b[2K   \u001b[90m━━━━━━━━━━━━━━━━━━━━━━━━━━━━━━━━━━━━━━━━\u001b[0m \u001b[32m1.4/1.4 MB\u001b[0m \u001b[31m23.3 MB/s\u001b[0m eta \u001b[36m0:00:00\u001b[0m\n",
            "\u001b[?25hInstalling collected packages: filetype, google-ai-generativelanguage, langchain-google-genai\n",
            "  Attempting uninstall: google-ai-generativelanguage\n",
            "    Found existing installation: google-ai-generativelanguage 0.6.15\n",
            "    Uninstalling google-ai-generativelanguage-0.6.15:\n",
            "      Successfully uninstalled google-ai-generativelanguage-0.6.15\n",
            "\u001b[31mERROR: pip's dependency resolver does not currently take into account all the packages that are installed. This behaviour is the source of the following dependency conflicts.\n",
            "google-generativeai 0.8.5 requires google-ai-generativelanguage==0.6.15, but you have google-ai-generativelanguage 0.6.18 which is incompatible.\u001b[0m\u001b[31m\n",
            "\u001b[0mSuccessfully installed filetype-1.2.0 google-ai-generativelanguage-0.6.18 langchain-google-genai-2.1.4\n"
          ]
        },
        {
          "data": {
            "application/vnd.colab-display-data+json": {
              "id": "47db2b25dbf746d986076fa247dfeca2",
              "pip_warning": {
                "packages": [
                  "google"
                ]
              }
            }
          },
          "metadata": {},
          "output_type": "display_data"
        }
      ],
      "source": [
        "!pip install langchain\n",
        "!pip install langchain-google-genai"
      ]
    },
    {
      "cell_type": "markdown",
      "metadata": {
        "id": "ROXl_yfyPTrS"
      },
      "source": [
        "評価のテストを行います。"
      ]
    },
    {
      "cell_type": "code",
      "execution_count": null,
      "metadata": {
        "colab": {
          "base_uri": "https://localhost:8080/"
        },
        "collapsed": true,
        "id": "49KKoCcMCwCM",
        "outputId": "2d8f4026-f245-46e7-fbda-68ec27e0e311"
      },
      "outputs": [
        {
          "name": "stdout",
          "output_type": "stream",
          "text": [
            "正確な回答の評価:\n",
            "質問：東京タワーの高さは何メートルですか？\n",
            "回答：東京タワーの高さは333メートルです。\n",
            "評価：4\n",
            "理由：回答はコンテキストで提供された情報と完全に一致しており、質問に正確かつ適切に答えているため。\n",
            "\n",
            "\n",
            "部分的に正確な回答の評価:\n",
            "質問：東京タワーの高さは何メートルですか？\n",
            "回答：東京タワーの高さは約300メートルです。\n",
            "評価：評価: 3\n",
            "\n",
            "理由: 回答は東京タワーの高さについて概ね正確ですが、正確な高さである333メートルではなく、約300メートルと述べているため、わずかに不正確です。コンテキストには正確な高さが記載されているため、より正確な回答が期待できます。\n",
            "理由：理由の抽出に失敗しました。\n",
            "\n",
            "\n",
            "不正確な回答の評価:\n",
            "質問：東京タワーの高さは何メートルですか？\n",
            "回答：東京タワーはパリにあります。\n",
            "評価：0\n",
            "理由：回答は東京タワーの場所が間違っており（パリではなく東京）、高さに関する情報も提供していないため、全く不正確です。\n",
            "\n"
          ]
        }
      ],
      "source": [
        "from langchain_google_genai import ChatGoogleGenerativeAI\n",
        "\n",
        "# **ここにあなたの Google AI Studio の API キーを入力してください**\n",
        "GOOGLE_API_KEY = \"\"\n",
        "\n",
        "# 使用するモデル\n",
        "model_name = \"gemini-2.0-flash\"  # 動作確認済みのモデル\n",
        "\n",
        "# Gemini Pro モデルの初期化\n",
        "gemini_llm = ChatGoogleGenerativeAI(model=model_name, google_api_key=GOOGLE_API_KEY)\n",
        "\n",
        "def evaluate_accuracy_with_gemini_formatted(question: str, context: str, answer: str):\n",
        "    \"\"\"\n",
        "    Geminiを使ってRAGの回答の正確性を評価し、指定の形式で出力する関数。\n",
        "\n",
        "    Args:\n",
        "        question: 元の質問。\n",
        "        context: 検索されたコンテキスト。\n",
        "        answer: 生成された回答。\n",
        "\n",
        "    Returns:\n",
        "        str: 整形された評価結果（質問、回答、評価、理由）。\n",
        "    \"\"\"\n",
        "    evaluation_prompt = f\"\"\"以下の情報に基づいて、生成された回答の正確性を0から4のスケールで評価してください。\n",
        "\n",
        "    評価スケール：\n",
        "    0: 全く不正確。回答の全てまたは主要な部分が誤っており、質問に対して全く的外れな情報を提供している。\n",
        "    1: ほぼ不正確。回答の大部分が不正確であるか、誤った情報に基づいている。わずかに正しい情報が含まれている程度。\n",
        "    2: 部分的に正確。回答には正確な情報も含まれているが、重要な誤りや不正確な点、または誤解を招く可能性のある記述が含まれている。\n",
        "    3: ほぼ正確。回答の大部分は正確であり、質問に対して適切に答えている。しかし、細部にわずかな不正確さ、曖昧さ、または重要でない情報の欠落が見られる場合がある。\n",
        "    4: 完全に正確。回答は質問に対して適切かつ網羅的に答えており、提示された情報に誤りや不確かな点は一切なく、事実に基づいている。コンテキストとも完全に一致している。\n",
        "\n",
        "    質問: {question}\n",
        "    コンテキスト: {context}\n",
        "    回答: {answer}\n",
        "\n",
        "    評価（0〜4の整数値）：\n",
        "    理由：\n",
        "    \"\"\"\n",
        "\n",
        "    response = gemini_llm.invoke(evaluation_prompt)\n",
        "    # Geminiの応答を評価と理由に分割\n",
        "    parts = response.content.split(\"理由：\", 1)\n",
        "    evaluation = parts[0].replace(\"評価（0〜4の整数値）：\", \"\").strip()\n",
        "    reason = parts[1].strip() if len(parts) > 1 else \"理由の抽出に失敗しました。\"\n",
        "\n",
        "    formatted_output = f\"\"\"質問：{question}\n",
        "回答：{answer}\n",
        "評価：{evaluation}\n",
        "理由：{reason}\n",
        "\"\"\"\n",
        "    return formatted_output\n",
        "\n",
        "# 評価の実行例\n",
        "question_example = \"東京タワーの高さは何メートルですか？\"\n",
        "context_example = \"東京タワーは、東京都港区にある電波塔であり、観光名所である。その高さは333メートルである。1958年に完成した。\"\n",
        "answer_example_accurate = \"東京タワーの高さは333メートルです。\"\n",
        "answer_example_partially_accurate = \"東京タワーの高さは約300メートルです。\"\n",
        "answer_example_inaccurate = \"東京タワーはパリにあります。\"\n",
        "\n",
        "print(\"正確な回答の評価:\")\n",
        "evaluation_accurate_formatted = evaluate_accuracy_with_gemini_formatted(question_example, context_example, answer_example_accurate)\n",
        "print(evaluation_accurate_formatted)\n",
        "\n",
        "print(\"\\n部分的に正確な回答の評価:\")\n",
        "evaluation_partially_accurate_formatted = evaluate_accuracy_with_gemini_formatted(question_example, context_example, answer_example_partially_accurate)\n",
        "print(evaluation_partially_accurate_formatted)\n",
        "\n",
        "print(\"\\n不正確な回答の評価:\")\n",
        "evaluation_inaccurate_formatted = evaluate_accuracy_with_gemini_formatted(question_example, context_example, answer_example_inaccurate)\n",
        "print(evaluation_inaccurate_formatted)"
      ]
    },
    {
      "cell_type": "markdown",
      "metadata": {
        "id": "HeteD0bn1Y5H"
      },
      "source": [
        "### 1.3 ベースモデルの評価"
      ]
    },
    {
      "cell_type": "code",
      "execution_count": null,
      "metadata": {
        "colab": {
          "base_uri": "https://localhost:8080/"
        },
        "collapsed": true,
        "id": "1RbdgRvVOQ8x",
        "outputId": "7ce6e8c7-1ade-4f4e-8c46-0f62a5884067"
      },
      "outputs": [
        {
          "name": "stdout",
          "output_type": "stream",
          "text": [
            "評価結果:\n",
            "\n",
            "質問番号: 1\n",
            "質問内容: 令和7年度の防衛費の予算総額はいくらですか？また、その主要な内訳を具体的に説明してください。\n",
            "回答番号: 1\n",
            "回答内容: 令和7年度の防衛費の予算総額は、約10兆円です。主要な内訳は、 * **装備品**:  最新鋭の戦闘機や艦船の購入や整備 * **人材**:  自衛官の給与・手当の増加や、防衛関連の専門家育成 * **運用**:  防衛施設の維持・管理や、防衛システムの運用 * **研究開発**:  新しい技術の開発や、既存技術の改良 * **情報収集**:  敵の動きや状況を把握するための情報収集 * **国際協力**:  他の国と協力して、国際的な安全保障の維持\n",
            "模範解答: 令和7年度の防衛費の予算総額は、歳出ベースで8兆4,748億円、契約ベースで8兆4,332億円です。\n",
            "\n",
            "その主要な内訳は以下の通りです。（歳出ベース）\n",
            "\n",
            "* 装備品費：3兆1,714億円\n",
            "* 需品費・施設費：1兆4,918億円\n",
            "* 人件・糧食費等：2兆9,186億円\n",
            "* 研究開発費：8,176億円\n",
            "* 施設整備費：7,586億円\n",
            "* その他：3,168億円\n",
            "評価: 2\n",
            "評価理由: * **予算総額:** 生成された回答では「約10兆円」とありますが、模範解答では歳出ベースで「8兆4,748億円」と具体的な金額が記載されており、1.5兆円以上のずれがあります。\n",
            "* **内訳:** 主要な内訳については、大まかなカテゴリは合っていますが、具体的な金額が記載されていません。また、内訳のカテゴリ分けも模範解答とは異なり、正確性に欠けます。例えば、「需品費・施設費」や「人件・糧食費等」といった具体的な費目がなく、代わりに「人材」や「運用」といった抽象的な表現が用いられています。\n",
            "* **具体性:** 模範解答では、各内訳の金額が具体的に示されており、回答の信頼性が高まっています。一方、生成された回答では具体的な数値が示されていないため、情報の信頼性が低いと言えます。\n",
            "\n",
            "以上の点から、生成された回答は部分的に正確であるものの、金額の誤りや具体性の欠如など、重要な問題点を含んでいるため、評価は2と判断します。\n",
            "\n",
            "質問番号: 2\n",
            "質問内容: 令和7年度の防衛力整備計画で重視されている7つの分野は何ですか？ それぞれの分野における具体的な取り組みの例を挙げてください。\n",
            "回答番号: 2\n",
            "回答内容: 令和7年度の防衛力整備計画では、以下の7つの分野が重視されています。* **戦闘能力の向上**:  最新鋭の戦闘機や艦船の導入、戦闘システムの強化* **情報収集・分析**:  より高度な情報収集と分析能力の向上* **サイバーセキュリティ**:  サイバー攻撃に対する防御能力の強化* **人材育成**:  防衛関連の専門家育成、技術革新への対応* **防衛システムの運用**:  運用効率の向上、システムの信頼性向上* **国際協力**:  国際的な安全保障の維持、協力体制の強化* **災害対応**:  災害発生時の迅速な対応能力の向上\n",
            "模範解答: 令和7年度の防衛力整備計画で重視されている7つの分野は以下の通りです。\n",
            "\n",
            "1.  スタンド・オフ防衛能力の強化\n",
            "2.  統合防空ミサイル防衛能力の強化\n",
            "3.  無人アセット防衛能力の強化\n",
            "4.  宇宙・サイバー・電磁波領域における能力の強化\n",
            "5.  情報機能の強化\n",
            "6.  輸送能力の強化\n",
            "7.  持続性・強靭性の強化\n",
            "\n",
            "具体的な取り組みの例については、資料の2ページ「II．主要経費 (1) 重点的な整備・強化を行う主要分野」に記載されています。\n",
            "評価: 0\n",
            "評価理由: 生成された回答は、令和7年度の防衛力整備計画で重視されている分野を全く別の内容で示しており、模範解答とは全く一致しません。具体的な取り組みの例も挙げられていますが、これらは実際の内容とは異なるため、質問に対して完全に的外れな情報を提供しています。\n",
            "\n",
            "質問番号: 3\n",
            "質問内容: 過去5年間の日本の防衛費の推移を説明してください。特に、GDP比での変化に着目してください。\n",
            "回答番号: 3\n",
            "回答内容: 過去5年間の日本の防衛費の推移は以下の通りです。* 2018年度：約9兆円* 2019年度：約10兆円* 2020年度：約11兆円* 2021年度：約12兆円* 2022年度：約13兆円GDP比での変化としては、2018年から2022年にかけて、防衛費はGDP比で約1.5％増加しました。これは、安全保障の重要性と、国際的な安全保障環境の変化に対応するためです。\n",
            "模範解答: 資料には令和7年度の予算概要のみが記載されており、過去5年間の防衛費の推移に関する具体的な数値データは含まれていません。そのため、この資料のみで過去5年間の防衛費の推移とGDP比での変化を説明することはできません。\n",
            "評価: 0\n",
            "評価理由: 生成された回答は、実際の数値と大きく異なり、GDP比の増加率も誤っています。模範解答が示すように、資料から回答を導き出すことはできません。したがって、完全に不正確であり、質問に対して全く的外れな情報を提供していると判断できます。\n",
            "\n",
            "質問番号: 4\n",
            "質問内容: 令和７年度の防衛予算において、自衛官等の給与・手当等の見直しに関する予算額と主要項目を含めて説明してください。\n",
            "回答番号: 4\n",
            "回答内容: 令和7年度の防衛予算において、自衛官等の給与・手当の見直しに関する予算額は、約1000億円です。* **給与**:  自衛官の給与を、生活費の増加や、賃金水準の維持に配慮して見直し* **手当**:  自衛官の生活費や、健康保険などの手当を、より充実させる* **福利厚生**:  自衛官の福利厚生を向上させるための予算* **教育**:  自衛官の教育費の増加\n",
            "模範解答: 令和7年度の防衛予算において、自衛官等の給与・手当等の見直しの予算額は**168億円**です。主な項目は、自衛官等の生活・勤務環境の特殊性等に関する処遇改善策、自衛隊の任務の特殊性に関する処遇改善策などです。\n",
            "評価: 1\n",
            "評価理由: 予算額が大きく異なっている（1000億円 vs 168億円）。また、主要項目の記述も模範解答と比較して具体性に欠ける。福利厚生や教育費の増加は給与・手当の見直しという質問に対して直接的な回答とは言えない。\n",
            "\n",
            "質問番号: 5\n",
            "質問内容: 令和7年度の防衛予算で新たに取得する哨戒機の合計機数と合計金額はいくらですか？\n",
            "回答番号: 5\n",
            "回答内容: 令和7年度の防衛予算で新たに取得する哨戒機の合計機数は、約10機、合計金額は約100億円です。\n",
            "模範解答: 令和7年度防衛省予算で取得を計画しているのは、固定翼哨戒機（Ｐ－１）**2機**（848億円）と回転翼哨戒機（ＳＨ－６０Ｌ）**2機**（293億円）であり、合計は**4機**、**1,141億円**です。\n",
            "評価: 0\n",
            "評価理由: 生成された回答は、哨戒機の種類（固定翼と回転翼）を区別せず、合計機数と金額が大幅に異なっているため、全く不正確です。模範解答と比較すると、機数も金額も大きくかけ離れており、質問に対して全く的外れな情報を提供しています。\n",
            "\n",
            "---\n",
            "合計点数: 3\n",
            "平均値: 0.60\n",
            "\n",
            "評価結果を '/content/drive/MyDrive/Colab Notebooks/AIengineering2025_colab/DAY3/data/llm_result.json' に保存しました。\n",
            "評価の概要を '/content/drive/MyDrive/Colab Notebooks/AIengineering2025_colab/DAY3/data/llm_result_summary.json' に保存しました。\n"
          ]
        }
      ],
      "source": [
        "from langchain_google_genai import ChatGoogleGenerativeAI\n",
        "import json\n",
        "import re  # 正規表現モジュールを追加\n",
        "import os\n",
        "\n",
        "# **ここにあなたの Google AI Studio の API キーを入力してください**\n",
        "# GOOGLE_API_KEY = \"YOUR_API_KEY\"\n",
        "\n",
        "# 使用するモデル\n",
        "model_name = \"gemini-2.0-flash\"  # 動作確認済みのモデル\n",
        "\n",
        "# Gemini Pro モデルの初期化\n",
        "gemini_llm = ChatGoogleGenerativeAI(model=model_name, google_api_key=GOOGLE_API_KEY)\n",
        "\n",
        "def evaluate_accuracy_with_gemini(question: str, answer: str, model_answer: str):\n",
        "    \"\"\"\n",
        "    Geminiを使ってLLMの回答の正確性を評価する関数（コンテキストなし、質問と模範解答で評価）。\n",
        "\n",
        "    Args:\n",
        "        question: 元の質問。\n",
        "        answer: 生成された回答。\n",
        "        model_answer: 模範解答。\n",
        "\n",
        "    Returns:\n",
        "        tuple: 評価スコア (int) と理由 (str)。評価に失敗した場合は None, エラーメッセージ。\n",
        "    \"\"\"\n",
        "    evaluation_prompt = f\"\"\"以下の情報に基づいて、生成された回答の正確性を0から4のスケールで評価してください。\n",
        "\n",
        "    評価スケール：\n",
        "    0: 全く不正確。回答の全てまたは主要な部分が誤っており、質問に対して全く的外れな情報を提供している。\n",
        "    1: ほぼ不正確。回答の大部分が不正確であるか、誤った情報に基づいている。わずかに正しい情報が含まれている程度。\n",
        "    2: 部分的に正確。回答には正確な情報も含まれているが、重要な誤りや不確かな点、または誤解を招く可能性のある記述が含まれている。\n",
        "    3: ほぼ正確。回答の大部分は正確であり、質問に対して適切に答えている。しかし、細部にわずかな不正確さ、曖昧さ、または重要でない情報の欠落が見られる場合がある。\n",
        "    4: 完全に正確。回答は質問に対して適切かつ網羅的に答えており、提示された情報に誤りや不確かな点は一切なく、特に模範解答の内容と照らし合わせて評価してください。\n",
        "\n",
        "    質問: {question}\n",
        "    生成された回答: {answer}\n",
        "    模範解答: {model_answer}\n",
        "\n",
        "    評価（0〜4の整数値）：\n",
        "    理由：\n",
        "    \"\"\"\n",
        "\n",
        "    try:\n",
        "        response = gemini_llm.invoke(evaluation_prompt)\n",
        "        parts = response.content.split(\"理由：\", 1)\n",
        "        evaluation_str = parts[0].replace(\"評価（0〜4の整数値）：\", \"\").replace(\"評価：\", \"\").strip()\n",
        "        match = re.search(r'\\d+', evaluation_str)\n",
        "        if match:\n",
        "            score = int(match.group(0))\n",
        "        else:\n",
        "            score = None\n",
        "        reason = parts[1].strip() if len(parts) > 1 else \"理由の抽出に失敗しました。\"\n",
        "        return score, reason\n",
        "    except Exception as e:\n",
        "        return None, f\"評価エラー: {e}\"\n",
        "\n",
        "# 設定\n",
        "output_file = datafolder + \"llm_responses.json\" # LLMの出力先のJSONファイル名\n",
        "questions_file = datafolder + \"Q&A.json\" # 元の質問と模範解答のファイル名\n",
        "result_file = datafolder + \"llm_result.json\" # 評価結果を格納するファイル名\n",
        "summary_file = datafolder + \"llm_result_summary.json\" # 評価概要を格納するファイル名\n",
        "# datafolder = \"\" # 必要に応じてデータフォルダのパスを設定\n",
        "\n",
        "# JSONファイルから質問と回答を読み込む\n",
        "try:\n",
        "    with open(output_file, 'r', encoding='utf-8') as f:\n",
        "        llm_outputs = json.load(f)\n",
        "except FileNotFoundError:\n",
        "    print(f\"エラー: ファイル '{output_file}' が見つかりません。\")\n",
        "    exit()\n",
        "except json.JSONDecodeError:\n",
        "    print(f\"エラー: ファイル '{output_file}' のJSON形式が不正です。\")\n",
        "    exit()\n",
        "\n",
        "# JSONファイルから元の質問と模範解答を読み込む\n",
        "try:\n",
        "    with open(questions_file, 'r', encoding='utf-8') as f:\n",
        "        questions_data = json.load(f)\n",
        "except FileNotFoundError:\n",
        "    print(f\"エラー: ファイル '{questions_file}' が見つかりません。\")\n",
        "    exit()\n",
        "except json.JSONDecodeError:\n",
        "    print(f\"エラー: ファイル '{questions_file}' のJSON形式が不正です。\")\n",
        "    exit()\n",
        "\n",
        "evaluation_results = []\n",
        "total_score = 0\n",
        "num_evaluated = 0\n",
        "\n",
        "print(\"評価結果:\")\n",
        "for i, item in enumerate(llm_outputs):\n",
        "    if i < len(questions_data):\n",
        "        original_question = questions_data[i][\"質問\"]\n",
        "        model_answer = questions_data[i].get(\"模範解答\", \"模範解答が提供されていません\")\n",
        "        llm_answer = item.get(\"回答\", \"回答がありません\")\n",
        "\n",
        "        print(f\"\\n質問番号: {i+1}\")\n",
        "        print(f\"質問内容: {original_question}\")\n",
        "        print(f\"回答番号: {i+1}\")\n",
        "        print(f\"回答内容: {llm_answer}\")\n",
        "        print(f\"模範解答: {model_answer}\")\n",
        "\n",
        "        evaluation_result = evaluate_accuracy_with_gemini(original_question, llm_answer, model_answer)\n",
        "\n",
        "        result_entry = {\n",
        "            \"質問番号\": i + 1,\n",
        "            \"質問内容\": original_question,\n",
        "            \"回答番号\": i + 1,\n",
        "            \"回答内容\": llm_answer,\n",
        "            \"模範解答\": model_answer\n",
        "        }\n",
        "\n",
        "        if evaluation_result[0] is not None:\n",
        "            score, reason = evaluation_result\n",
        "            print(f\"評価: {score}\")\n",
        "            print(f\"評価理由: {reason}\")\n",
        "            result_entry[\"評価\"] = score\n",
        "            result_entry[\"評価理由\"] = reason\n",
        "            total_score += score\n",
        "            num_evaluated += 1\n",
        "        else:\n",
        "            print(f\"評価エラー: {evaluation_result[1]}\")\n",
        "            result_entry[\"評価エラー\"] = evaluation_result[1]\n",
        "\n",
        "        evaluation_results.append(result_entry)\n",
        "\n",
        "    else:\n",
        "        print(f\"\\nエラー: 生成された回答の数({len(llm_outputs)})が、元の質問の数({len(questions_data)})を超えています。\")\n",
        "        break\n",
        "\n",
        "print(\"\\n---\")\n",
        "summary = {}\n",
        "if num_evaluated > 0:\n",
        "    average_score = total_score / num_evaluated\n",
        "    summary[\"合計点数\"] = total_score\n",
        "    summary[\"平均値\"] = average_score\n",
        "    print(f\"合計点数: {total_score}\")\n",
        "    print(f\"平均値: {average_score:.2f}\")\n",
        "else:\n",
        "    summary[\"エラー\"] = \"評価を実行できませんでした。\"\n",
        "    print(\"評価を実行できませんでした。\")\n",
        "\n",
        "# 評価結果をJSONファイルに保存\n",
        "try:\n",
        "    with open(result_file, 'w', encoding='utf-8') as f:\n",
        "        json.dump(evaluation_results, f, ensure_ascii=False, indent=4)\n",
        "    print(f\"\\n評価結果を '{result_file}' に保存しました。\")\n",
        "    if summary:\n",
        "        with open(summary_file, 'w', encoding='utf-8') as f:\n",
        "            json.dump(summary, f, ensure_ascii=False, indent=4)\n",
        "        print(f\"評価の概要を '{summary_file}' に保存しました。\")\n",
        "\n",
        "except Exception as e:\n",
        "    print(f\"エラー: 評価結果のJSONファイルへの保存に失敗しました: {e}\")"
      ]
    },
    {
      "cell_type": "markdown",
      "metadata": {
        "id": "nlAZUbg4kLYi"
      },
      "source": [
        "\n",
        "わかりにくいので、合計点数と平均点を再度プリントします"
      ]
    },
    {
      "cell_type": "code",
      "execution_count": null,
      "metadata": {
        "colab": {
          "base_uri": "https://localhost:8080/"
        },
        "id": "RvLeJe3wjTut",
        "outputId": "71bc1f97-a6cb-418c-9dcd-3284a393e8a0"
      },
      "outputs": [
        {
          "name": "stdout",
          "output_type": "stream",
          "text": [
            "合計点数: 3\n",
            "平均値: 0.60\n"
          ]
        }
      ],
      "source": [
        "print(f\"合計点数: {total_score}\")\n",
        "print(f\"平均値: {average_score:.2f}\")"
      ]
    },
    {
      "cell_type": "markdown",
      "metadata": {
        "id": "qEcv5GPjlI9W"
      },
      "source": [
        "### 1.4 ベースモデルの結果\n",
        "**合計点数:3**\n",
        "\n",
        "**平均値：0.60**\n",
        "\n",
        "０点で良さそうなところを１〜２点と評価していてやや甘めですが、許容内の評価だと思います。\n",
        "\n",
        "ベースモデルではほぼ回答できてないことが確認できました。"
      ]
    },
    {
      "cell_type": "markdown",
      "metadata": {
        "id": "k4R-hiKNGyJd"
      },
      "source": [
        "# 2 参照文書データの活用"
      ]
    },
    {
      "cell_type": "markdown",
      "metadata": {
        "id": "qcZCmKegHyrl"
      },
      "source": [
        "## 2.1 参照文書をテキスト化してそのまま活用 （文書整形なし）\n",
        "\n",
        "モデルの回答の事実性を向上させるためにRetrieval Augmented Generation (RAG)技術を導入します：\n",
        "\n",
        "* **知識ソース**: 参照文書をPyPDF2でテキスト化した文書\n",
        "* **目的**: モデルに参照文書に関する正確な知識と文脈を提供し、事実に基づいた回答を促す\n",
        "\n",
        "まずは、初期のRAGの実装（ベーシックアプローチ）として参照文書をPyPDF2で出力したテキストをそのまま使用します。文書の分割方法が以下の通りです。\n",
        "\n",
        "**初期RAG実装（ベーシックアプローチ）**:\n",
        "* **ドキュメント処理**: 参照文書をPyPDF2で抽出した生テキストをそのまま使用\n",
        "* **分割方法**: ページ単位でテキストを分割\n",
        "* **検索手法**: シンプルな類似度ベースの検索でクエリに関連する文を抽出\n",
        "* **制約条件**: モデルの入力トークン制限に収まるよう関連文のみを選択"
      ]
    },
    {
      "cell_type": "markdown",
      "metadata": {
        "id": "VRjIVBVEoT_r"
      },
      "source": [
        "文章のベクトル化に使用するSentenceTransfomerは、「Paper&Hucks Vol.32」で井伊講師がご紹介していた日本語センテンストランスフォーマーである「sarashina-embedding-v1-1b」（SB Intuitions開発）を使用してみました。"
      ]
    },
    {
      "cell_type": "code",
      "execution_count": null,
      "metadata": {
        "colab": {
          "base_uri": "https://localhost:8080/",
          "height": 389,
          "referenced_widgets": [
            "2a3fd8ec3647459283bc264240b58957",
            "a97fe233919b42a98f5e4c722e13e8c2",
            "45eb73aae4744f5a97ebe65d680d02e5",
            "4e447b6ca161479c89415ae0b9b2272b",
            "6249b784091047d38e458772428ac564",
            "eae1c9fc2e60476db4d2d1c73ebf0f49",
            "40fd7dbca1d24adc924f1474a9031b9e",
            "ffd1b04967c84d5fa828b7c392a1b021",
            "7d69c1eb1c924a83a4101349ce671f35",
            "2f0984d1b0a746518434601f6af277e3",
            "a95b52206d3d432c831c4317166e5e0d",
            "76c097e9308d48a1b671a0edc23cfe7e",
            "b3263cdd666344eb8ab1dedef87151f2",
            "a2646b8765fb4f0b9f5bbe1307aad76b",
            "b1369a92d93d4df99285d03abecb0d90",
            "ae88b6ad6ecb4cb4a931a16445bbdd59",
            "5a3c4149e1bb44e2b7ed708272f59f9e",
            "6dee3a15cd6e440aacc8d597f0eb54ed",
            "bbe7c9ffe8474bada8dc66deebb33870",
            "7a1349b94ded43f7820eeb1c20c1ec95",
            "b1642e0dd48742c6b69b87f5dec22611",
            "49291bf41c564f249ddc376447ee3a95",
            "c0bac816737249c691bdad88c7ae1e88",
            "f6fbca74b06c4de6b3256abcd17d29ba",
            "8ec5698f76db4a7c8c8674a599b77a66",
            "794db8cd98644d84a127fdb90c35a58f",
            "a7b41469eaa947149e74a730c78bfe1f",
            "51def454ddfe44e181282e84752c082c",
            "e026fac953084172b14f4d7e9cb982df",
            "3a1cbcd1f0054c36a589eabe7c24e50c",
            "f09ac44ea8404f30a318cbd8e807880c",
            "a376511caec34e3a946182f5edf3e181",
            "0183e8b2e02e4e438dbcad4566719074",
            "b534b34438cf4d9ebdd7a193556cad97",
            "acc0f4349a6c48cfb73b868e2e429262",
            "e67b5031f0fe4aa7a9489d8129272034",
            "db9422a7975547379f96e62211fa27eb",
            "9cd75a4237ec4136bcbe5c896adb7556",
            "69766feb7eb340d4b2fe4bd6cfa7e214",
            "135b40edc1e14835abbe58af19765596",
            "14072958c53540839a3fffbcdd3b1e1c",
            "b134dea493dd49bcb5f13cc7d4646741",
            "9355f784df0c49a7aac6ffd1b8623b31",
            "85162cea265b4db2bd3cf1e04231c161",
            "5d44b5bd95324fbda67bd817614257e2",
            "f489c9c891404a149517f2d8ab4464b5",
            "f20e69a95ce34167a6d623a348fdc5ca",
            "7944acc5ea324363a411cb9503cf4566",
            "a88cbe62ff5e4b0081a7b087648285dd",
            "87004f67d3b943048fd9b3e53ff7f1de",
            "814c8e2b48e24fccb56c35451f604965",
            "7b225002ce1b455ebaffde7e18c8f48e",
            "19fdd25277f644b18c960df0ee95fc81",
            "b52beb18348543b4a91d1083f6dfe235",
            "63c3de4589d34620899f66f3db1ff581",
            "570ddd8e7b7b4f259a7c0a114bbce68a",
            "53d3775681644ae7950c46ae3b76cba7",
            "1c1a9dd71fe2443486f24f4c12184154",
            "3c10ffe63b3c421bb560aad23bcad435",
            "8c2e0a3c770041e08fcadff56671ffec",
            "5d674c60eec9445bb4de5e0b61047361",
            "b88688406b48442fb3f4dee36601da07",
            "91aec70190bc43e38ca79b94574e7891",
            "5153342dc6da464291889fa39e8f4b57",
            "c4bb2f5cc2e14d85ba65d2428235dbad",
            "4758496dc73848fcbb4e06df17d94e37",
            "d9c6352b375b40b5b00499a47c745844",
            "5067fab955dc43b586421fd788e46dfd",
            "8eff4c99949142fc90ac7df4f85dd71c",
            "0e8ed1fb895546e9b0adf5fd89a0e9e8",
            "7bb98ebe265249949bb257a664f93c22",
            "2805ca610f96448ead5bc97c6b75f59c",
            "246c90d78d1a49f98c741bcc48d32eab",
            "1169bee9957645a8a648ece9d3b8d50d",
            "7f3af57170ec4f37bf46f3835324d53b",
            "643c54a018e04bcfa84d5338246cabbc",
            "51645b60eeef4d21896a788f00528f22",
            "399992156b2a45aa87dac1f6cb6411b8",
            "b2df0e6211a046c3a45b00103a4edfe9",
            "f8744b2ab6fa477b80888a827425b69f",
            "8d18f234a7d942dd8493e1fab39b5752",
            "8cbf6d4427154ab4b409335f2c058294",
            "af7ec2857f3b46a9b7777580872eb213",
            "972fee548e644848b3363fadc380dccc",
            "57f5aaf7b9be40d4a029afd1b5df0e6d",
            "ce8b8b7e91034a5dbe01c80e260ab8bd",
            "a223342f058a40be857732c06b1d0be8",
            "811d4e593f6640458913d14f81b3ebdb",
            "fd71ead0da2a48fb96db0b2a88385915",
            "740872e1cd084832a8568abbd7e4c04c",
            "c765aef654484ddc9d6e983398c8ca41",
            "12d3cf61e88e46b7be3c1f071a1b30bf",
            "631754eaf1ab477d8d82d4b3934109a3",
            "13d017eec7b14d32aa5795b733ab1e4b",
            "ccad15f564a04cec9be374de8866b000",
            "89ff151c1cb245d7a5e0bd063fae069f",
            "41b274937f7f42ea83ce2c4f3d842dc5",
            "89b5b2aa650b48a495cbaebbfbcbe2b6",
            "baa969c198c749d889fe0d15b2f3f9b1",
            "dd70a538872f48ec82e7d7bfaee52014",
            "09a1e5e0ead446cd8388fa1c0456f47c",
            "aec03166983f447a992c59dfc98f8ab4",
            "e6e12a11520543c8836785aa84318804",
            "b412b4435fda4d5b9d1124bd26592181",
            "76d22826327e4078b38628040cee79e3",
            "4f9f2d77298b42efbbb1b144ee6d0fce",
            "77e217e92572444892cd0f32616d08ab",
            "ce61997176b749219242b40f8f152f05",
            "4af5263c0b6b432794c00aebd4f5f0b2",
            "2d1f46c2d3ed465f972dfa5e807b38e5",
            "2ae5b7d72f124dd4825c1d2acd1676c8",
            "5f0bca3737db42ee9efe3e776c551336",
            "323233345e08412994de9b6b13859551",
            "da372f6150e148c0b6c22545797e6978",
            "e897da8c13c54b9d8736095bb6f346c5",
            "fd41b4e8c0d64b74a52f2d129ec3cc35",
            "a70b33a6996e4798bf927d088db2dc69",
            "a55a36a0a2f4491f92719e8b000928d1",
            "1eb2c0e598c04091a6c1bdc9a3ad5a30",
            "334dfa4d40d94ff29d5b2df85a8e2995",
            "9859aee1765c4c3f8f3c81a561a1f8e6"
          ]
        },
        "id": "BA2_cPmv8dzz",
        "outputId": "6213e815-9d2f-42bd-ea10-d16702cb14df"
      },
      "outputs": [
        {
          "data": {
            "application/vnd.jupyter.widget-view+json": {
              "model_id": "2a3fd8ec3647459283bc264240b58957",
              "version_major": 2,
              "version_minor": 0
            },
            "text/plain": [
              "modules.json:   0%|          | 0.00/229 [00:00<?, ?B/s]"
            ]
          },
          "metadata": {},
          "output_type": "display_data"
        },
        {
          "data": {
            "application/vnd.jupyter.widget-view+json": {
              "model_id": "76c097e9308d48a1b671a0edc23cfe7e",
              "version_major": 2,
              "version_minor": 0
            },
            "text/plain": [
              "config_sentence_transformers.json:   0%|          | 0.00/209 [00:00<?, ?B/s]"
            ]
          },
          "metadata": {},
          "output_type": "display_data"
        },
        {
          "data": {
            "application/vnd.jupyter.widget-view+json": {
              "model_id": "c0bac816737249c691bdad88c7ae1e88",
              "version_major": 2,
              "version_minor": 0
            },
            "text/plain": [
              "README.md:   0%|          | 0.00/7.57k [00:00<?, ?B/s]"
            ]
          },
          "metadata": {},
          "output_type": "display_data"
        },
        {
          "data": {
            "application/vnd.jupyter.widget-view+json": {
              "model_id": "b534b34438cf4d9ebdd7a193556cad97",
              "version_major": 2,
              "version_minor": 0
            },
            "text/plain": [
              "sentence_bert_config.json:   0%|          | 0.00/54.0 [00:00<?, ?B/s]"
            ]
          },
          "metadata": {},
          "output_type": "display_data"
        },
        {
          "data": {
            "application/vnd.jupyter.widget-view+json": {
              "model_id": "5d44b5bd95324fbda67bd817614257e2",
              "version_major": 2,
              "version_minor": 0
            },
            "text/plain": [
              "config.json:   0%|          | 0.00/669 [00:00<?, ?B/s]"
            ]
          },
          "metadata": {},
          "output_type": "display_data"
        },
        {
          "data": {
            "application/vnd.jupyter.widget-view+json": {
              "model_id": "570ddd8e7b7b4f259a7c0a114bbce68a",
              "version_major": 2,
              "version_minor": 0
            },
            "text/plain": [
              "model.safetensors:   0%|          | 0.00/4.90G [00:00<?, ?B/s]"
            ]
          },
          "metadata": {},
          "output_type": "display_data"
        },
        {
          "data": {
            "application/vnd.jupyter.widget-view+json": {
              "model_id": "d9c6352b375b40b5b00499a47c745844",
              "version_major": 2,
              "version_minor": 0
            },
            "text/plain": [
              "tokenizer_config.json:   0%|          | 0.00/3.75k [00:00<?, ?B/s]"
            ]
          },
          "metadata": {},
          "output_type": "display_data"
        },
        {
          "data": {
            "application/vnd.jupyter.widget-view+json": {
              "model_id": "399992156b2a45aa87dac1f6cb6411b8",
              "version_major": 2,
              "version_minor": 0
            },
            "text/plain": [
              "tokenizer.model:   0%|          | 0.00/1.83M [00:00<?, ?B/s]"
            ]
          },
          "metadata": {},
          "output_type": "display_data"
        },
        {
          "data": {
            "application/vnd.jupyter.widget-view+json": {
              "model_id": "fd71ead0da2a48fb96db0b2a88385915",
              "version_major": 2,
              "version_minor": 0
            },
            "text/plain": [
              "tokenizer.json:   0%|          | 0.00/6.72M [00:00<?, ?B/s]"
            ]
          },
          "metadata": {},
          "output_type": "display_data"
        },
        {
          "data": {
            "application/vnd.jupyter.widget-view+json": {
              "model_id": "dd70a538872f48ec82e7d7bfaee52014",
              "version_major": 2,
              "version_minor": 0
            },
            "text/plain": [
              "special_tokens_map.json:   0%|          | 0.00/968 [00:00<?, ?B/s]"
            ]
          },
          "metadata": {},
          "output_type": "display_data"
        },
        {
          "data": {
            "application/vnd.jupyter.widget-view+json": {
              "model_id": "2ae5b7d72f124dd4825c1d2acd1676c8",
              "version_major": 2,
              "version_minor": 0
            },
            "text/plain": [
              "config.json:   0%|          | 0.00/298 [00:00<?, ?B/s]"
            ]
          },
          "metadata": {},
          "output_type": "display_data"
        }
      ],
      "source": [
        "from sentence_transformers import SentenceTransformer\n",
        "\n",
        "# モデルの読み込み（初回のみDL）\n",
        "model = SentenceTransformer(\"sbintuitions/sarashina-embedding-v1-1b\")"
      ]
    },
    {
      "cell_type": "markdown",
      "metadata": {
        "id": "1u1ccs9Y9SDe"
      },
      "source": [
        "#### 2.1.1 参照文書のベクトル化\n",
        "テキスト整形なしの参照文書はページごとにチャンクに分けてJSONファイル化しています。（チャンク分割、JSONファイル化は別ノートブック「PDFtoChank.ipynb」にて実施"
      ]
    },
    {
      "cell_type": "code",
      "execution_count": null,
      "metadata": {
        "colab": {
          "base_uri": "https://localhost:8080/",
          "height": 69,
          "referenced_widgets": [
            "b6090c01e4d040c0b02b8bf5d7c8e096",
            "f23864bc889642b8bfe6a7893d3889f9",
            "bd68bf33d602432c8f6ea323ae928fe6",
            "919bfe34482240c3a845f53a1b686ead",
            "31f47751ed284127bdf841f4ba3d3009",
            "cf69c1231d834efea966f480ddfa75fb",
            "8bbc6a046e854fcd8f1d660360ca2d29",
            "1ab0c0ac28164bb6a260aac9ac15401f",
            "b61e4596869f4a86b14dde4d4228ccfc",
            "5fb1d295205d48658e9bee7dd557544e",
            "7dd1d3a57922413ca0a7d7658bf58a11"
          ]
        },
        "id": "b7-P90nL3WXa",
        "outputId": "0d226a30-13a7-4188-e4e1-c99754947dbd"
      },
      "outputs": [
        {
          "data": {
            "application/vnd.jupyter.widget-view+json": {
              "model_id": "b6090c01e4d040c0b02b8bf5d7c8e096",
              "version_major": 2,
              "version_minor": 0
            },
            "text/plain": [
              "Batches:   0%|          | 0/3 [00:00<?, ?it/s]"
            ]
          },
          "metadata": {},
          "output_type": "display_data"
        }
      ],
      "source": [
        "import json\n",
        "# import faiss\n",
        "import numpy as np\n",
        "from tqdm import tqdm\n",
        "\n",
        "pattern1_file = datafolder + \"pattern1_raw_pages.json\"\n",
        "\n",
        "# JSONファイルの読み込み\n",
        "with open(pattern1_file, \"r\", encoding=\"utf-8\") as f:\n",
        "    raw_data = json.load(f)\n",
        "\n",
        "# データ準備\n",
        "documents = []\n",
        "metadata = []\n",
        "\n",
        "for item in raw_data:\n",
        "    content = item[\"content\"].replace(\"\\n\", \" \").strip()\n",
        "    title = item[\"title\"]\n",
        "    documents.append(content)\n",
        "    metadata.append({\"title\": title, \"content\": content})\n",
        "\n",
        "# エンベディング生成\n",
        "documents_embeddings = model.encode(documents, show_progress_bar=True, convert_to_numpy=True)"
      ]
    },
    {
      "cell_type": "markdown",
      "metadata": {
        "id": "PC5ojpBJ9t98"
      },
      "source": [
        "#### 2.1.2 質問のembedding"
      ]
    },
    {
      "cell_type": "code",
      "execution_count": null,
      "metadata": {
        "id": "RLIY_79u-BpE"
      },
      "outputs": [],
      "source": [
        "# JSONファイルから読み込み\n",
        "\n",
        "question_file = datafolder + 'question.json'\n",
        "\n",
        "with open(question_file, 'r', encoding='utf-8') as f:\n",
        "    question_data = json.load(f)\n",
        "\n",
        "# 質問文だけを抽出\n",
        "questions = [q[\"質問\"] for q in question_data]\n",
        "\n",
        "# 質問のベクトル化\n",
        "# model = SentenceTransformer('all-MiniLM-L6-v2')\n",
        "question_embeddings = model.encode(questions, normalize_embeddings=True)"
      ]
    },
    {
      "cell_type": "markdown",
      "metadata": {
        "id": "nnDIvqKTB1X7"
      },
      "source": [
        "#### 2.1.3 質問とドキュメントの類似度の算出"
      ]
    },
    {
      "cell_type": "markdown",
      "metadata": {
        "id": "SsftD6Q57d1e"
      },
      "source": [
        "質問とドキュメントのコサイン類似度を計算し、質問ごとに類似度の高い順に３つの文書をJSONファイルに格納します。\n",
        "\n",
        "ファイル名は\n",
        "\n",
        "pattern1_similarity.json\n",
        "\n",
        "です。"
      ]
    },
    {
      "cell_type": "code",
      "execution_count": null,
      "metadata": {
        "colab": {
          "base_uri": "https://localhost:8080/"
        },
        "id": "sq7XqIp23bY1",
        "outputId": "ff855cfa-cbf6-42cb-b643-7cd0df81a473"
      },
      "outputs": [
        {
          "name": "stdout",
          "output_type": "stream",
          "text": [
            "rank: 1\n",
            "score: 0.9163950681686401\n",
            "doc_content: 防 衛 省 Ministry of  Defense 防衛力抜本的強化の 進捗と予算 令和７年度予算の概要\n",
            "rank: 2\n",
            "score: 0.9145017266273499\n",
            "doc_content: （単位：億円）単位：億円、％ 〔〕：構成比 歳出化経費の内訳 維持費等 17,769 〔41.2%〕 基地対策経費等 892 〔2.1%〕研究開発費 3,310 〔7.7%〕装備品等購入費 10,575 〔24.5%〕航空機購入費 3,250 〔7.5%〕艦船建造費等 2,713 〔6.3%〕施設整備費等 3,601 〔8.4%〕その他 1,009 〔2.3%〕 歳出化経費 令和７年度予算額 ４３，１１９億円 注１：ＳＡＣＯ関係経費及び米軍再編関係経費のうち地元負担軽減分に係る経費を除く。 注２：令和６年度予算には２０７億円、令和７年度予算には２０１億円のデジタル庁計上分を含む。項目令 和 ６ 年 度 予 算 額令 和 ７ 年 度 予 算 額対前年度 増△減額 維持費等 １６，７３２ １７，７６９ １，０３７ 油購入費 － １ １ 修理費 １５，９２４ １７，０５４ １，１３０ 教育訓練費等 ８０９ ７１３ △９５ 基地対策経費等 ８６９ ８９２ ２３ 研究開発費 １，９５９ ３，３１０ １，３５０ 装備品等購入費 ７，７８３ １０，５７５ ２，７９２ 航空機購入費 ５，２７６ ３，２５０ △２，０２７ 艦船建造費等 １，９８５ ２，７１３ ７２８ 施設整備費等 ２，４９６ ３，６０１ １，１０６ その他（電子計算機等借料 等）８２７ １，００９ １８２ 合 計 ３７，９２８ ４３，１１９ ５，１９１ 64\n",
            "rank: 3\n",
            "score: 0.9126102924346924\n",
            "doc_content: 項目令和６年度 予算額令和７年度 予算額対前年度 増△減額 維持費等 ・油購入費 ・修理費 ・教育訓練費 ・医療費等 ・営舎費等 （光熱水料、燃料費等）７，７５９ １，５７３ ３，６０８ ４７１ ３３３ １，７７４７，４７６ １，２８４ ３，５６４ ５１４ ３６８ １，７４７△２８３ △２８９ △４４ ４３ ３５ △２７ 基地対策経費等 ・基地周辺対策経費 ・同盟強靱化予算 (在日米軍駐留経費負担 ) ・施設の借料、補償経費等４，１２５ ８３９ １，８１１ １，４７６４，３５６ ８７３ １，９８４ １，４９９２３０ ３４ １７４ ２２ 研究開発費 ７０７ １，６１９ ９１２ 装備品等購入費等 ２，２１８ ２，２０５ △１３ 施設整備費等 ５４８ ６１９ ７１ その他（電子計算機等借料等） １，６７５ １，８４６ １７１ 合 計 １７，０３２ １８，１２１ １，０８９（単位：億円） 維持費等 7,476 〔41.3%〕 基地対策経費等 4,356 〔24.0%〕研究開発費 1,619 〔8.9%〕装備品等購入費等 2,205 〔12.2%〕施設整備費等 619〔3.4%〕その他 1,846 〔10.2%〕 一般物件費 令和７年度予算額 １８，１２１億円単位：億円、％ 〔〕：構成比 一般物件費（活動経費）の内訳 注１：ＳＡＣＯ関係経費及び米軍再編関係経費のうち地元負担軽減分に係る経費を除く。 注２：令和６年度予算には１１７億円、令和７年度予算には１１３億円のデジタル庁計上分を含む。 63\n",
            "rank: 1\n",
            "score: 0.9109881520271301\n",
            "doc_content: 7つの重視分野 抜本的強化の進捗状況 (一例) スタンド・オフ 防衛能力〇トマホークの 取得１年前倒し (2026 年度→2025年度) 〇トマホーク運用のための海上自衛官等に 対する 要員養成教育 を開始 (2024 年3月～10月) 〇島嶼防衛用高速滑空弾の 事前発射試験 実施 (2024 年4月) 〇１２ 式地対艦誘導弾能力向上型 (地発型 )の 配備１年前倒し (2026 年度→2025年度) 〇12式地対艦誘導弾能力向上型の 発射試験 実施(2024 年10～11月) 統合防空ミサイル 防衛能力○イージス・システム搭載艦 2隻の建造契約 を締結 (2024 年8・9月) ○ＧＰＩの日米共同開発に係る 開発コンセプト を決定 (2024 年9月) ※GPI: Glide Phase Interceptor (滑空段階迎撃用誘導弾 ) 無人アセット 防衛能力○2023年度中に 合計１０機種の各種ＵＡＶの運用実証 を実施 ○各種無人アセットに関する 研究開発 を推進 ○滞空型ＵＡＶの機種として 「ＭＱ ―９Ｂ(シーガーディアン )」 を選定 (2024 年11月) Ⅰ 防衛力整備計画の進捗状況 ○我が国の防衛上必要な機能・能力として、次の７つの分野を重視して、 防衛力の抜本的強化を推進。 ○事業の進捗管理を徹底し、概ね計画どおり進捗。 ○令和７年度予算においても、計画期間内の防衛力抜本的強化実現のため、 令和７年度中に着手すべき事業を計上。 島嶼防衛用 高速滑空弾 トマホーク (イメージ ) イージス・システム搭載艦 (イメージ ) 【研究開発 】 長期運用型 UUV (イメージ ) 2 １２式地対艦誘導弾能力向上型 滞空型 UAV\n",
            "rank: 2\n",
            "score: 0.9081926941871643\n",
            "doc_content: 7つの重視分野 抜本的強化の進捗状況 (一例) 領域横断作戦能力 (宇宙・サイバー・ 陸海空領域 )○航空自衛隊 第２宇宙システム管理隊 (防府北 ) の新編 (2024 年3月) ○陸上自衛隊 システム通信・サイバー学校 (久里浜 )に改編 (2024 年3月) ○陸上自衛隊 第２特科団 (湯布院 )・第７地対艦 ミサイル連隊 (勝連)の新改編 (2024 年3月) ○護衛艦「かが」 Ｆ―３５Ｂ艦上運用試験 を実施 (2024 年10～11月) ○次期初等練習機 の機種として 「Ｔ―６」及び 地上教育器材 を選定 (2024 年11月) ○Xバンド防衛通信衛星「きらめき３号」 の打上げに成功 (2024 年11月) 指揮統制・情報関 連機能○防衛省クラウド (仮称)への集約に向け、 各自衛隊クラウドに係る システム設計・ 製造に着手 機動展開能力・ 国民保護○能登半島地震にて被災された方の休憩所等 として ＰＦＩ船舶を活用 ○2024年度末に新編される自衛隊海上輸送 群にて運用する中型級船舶１隻、 小型級船舶１隻の 命名式・進水式 を 実施(2024 年10・11月) 持続性・強靱性 (弾薬・維持整備・ 施設の強靱化 )○自衛隊施設の集約・建て替え等に向けた「マスタープラン」 ※ を順次作成し、設計・工事等に着手 ※駐屯地・基地等の全体を 283地区に区分して、保有する建物やライフラインなど について、現状の把握・評価を行い、施設の機能・重要度に応じた構造強化、離隔距 離確保のための再配置・集約化等を含んだ「マスタープラン」を作成。 ○全国で１２施設における５７棟の火薬庫を新設することを決定 (2024 年12月時点 ) Ⅰ 防衛力整備計画の進捗状況 防衛省クラウド (仮称)(イメージ ) 3 小型級船舶「にほんばれ」 きらめき 3号の打上げ 【JAXAからの提供 】 F-35B艦上運用試験 T-6 (写真は同型機種 )\n",
            "rank: 3\n",
            "score: 0.9026534557342529\n",
            "doc_content: 防 衛 省 Ministry of  Defense 防衛力抜本的強化の 進捗と予算 令和７年度予算の概要\n",
            "rank: 1\n",
            "score: 0.8738947510719299\n",
            "doc_content: （単位：億円） (説明) ○歳出ベース ：装備品の取得や施設整備などの事業について、当該年度に支払われる額の合計。 つまり、令和７年度の契約に基づき、令和７年度に支払われる経費（一般物件費）と、令和６年 度以前の契約に基づき、令和７年度に支払われる経費（歳出化経費）の合計。会計年度独立を原則 とする政府の歳出予算全体に防衛関係費が占める割合などを把握する上で有益な視点。 ○契約ベース ：装備品の取得や施設整備などの事業について、当該年度に結ぶ契約額の合計。 つまり、令和７年度の契約に基づき、令和７年度に支払われる経費と、令和８年度以降に支払わ れる経費（新規後年度負担）の合計。防衛力整備に関する各年度の事業について、各事業単位で経 費の総額などを把握する上で有益な視点。 防衛力整備においては、艦船や航空機等の主要な装備の調達、また、格納庫・隊舎等の建設など、複 数年度を要するものが多い。このため、複数年度に及ぶ契約（原則５年以内）を行い、将来の一定時期 に支払うことを契約時にあらかじめ国が約束をする。 後年度負担とは、このような複数年度に及ぶ契約に基づき、契約の翌年度以降に支払われる経費。 （例） １００億円の装備を４年間に及ぶ契約で調達する場合 令和７年度 令和８年度 令和９年度 令和１０年度 ↓ 一部支払 （１０億円） 一般物件費↓ 一部支払 （１０億円） 歳出化経費↓ 一部支払 （２０億円） 歳出化経費↓ 残額支払 （６０億円） 歳出化経費 後年度負担額（９０億円） 契約額（１００億円）契約 納入 物件費の内訳と分類 後年度負担の考え方 62\n",
            "rank: 2\n",
            "score: 0.8731882572174072\n",
            "doc_content: （単位：億円）単位：億円、％ 〔〕：構成比 物件費（契約ベース）の内訳 維持費等 32,439 〔38.5%〕 基地対策経費等 5,336 〔6.3%〕 研究開発費 6,387 〔7.6%〕装備品等購入費 16,879 〔20.0%〕航空機購入費 7,607 〔9.0%〕艦船建造費等 4,643 〔5.5%〕施設整備費等 7,434 〔8.8%〕その他 3,608 〔4.3%〕 物件費（契約ベース） 令和７年度予算額 ８４，３３２億円 注１：ＳＡＣＯ関係経費及び米軍再編関係経費のうち地元負担軽減分に係る経費を除く。 注２：令和６年度予算には３６５億円、令和７年度予算には７１４億円のデジタル庁計上分を含む。項目令 和 ６ 年 度 予算額令 和 ７ 年 度 予算額対前年度 増△減額 維持費等 ３２，３２１ ３２，４３９ １１８ 油購入費 １，５７５ １，２９８ △２７７ 修理費 ２７，１７９ ２７，９３７ ７５８ 教育訓練費等 ３，５６７ ３，２０４ △３６３ 基地対策経費等 ５，１０８ ５，３３６ ２２８ 研究開発費 ８，３５０ ６，３８７ △１，９６３ 装備品等購入費 ２１，３０７ １６，８７９ △４，４２８ 航空機購入費 ９，４６７ ７，６０７ △１，８６１ 艦船建造費等 ７，６１８ ４，６４３ △２，９７５ 施設整備費等 ６，６９１ ７，４３４ ７４３ その他（電子計算機等借料等） ２，７６４ ３，６０８ ８４４ 合 計 ９３，６２５ ８４，３３２ △９，２９３ 65\n",
            "rank: 3\n",
            "score: 0.8723539113998413\n",
            "doc_content: （単位：億円）単位：億円、％ 〔〕：構成比 歳出化経費の内訳 維持費等 17,769 〔41.2%〕 基地対策経費等 892 〔2.1%〕研究開発費 3,310 〔7.7%〕装備品等購入費 10,575 〔24.5%〕航空機購入費 3,250 〔7.5%〕艦船建造費等 2,713 〔6.3%〕施設整備費等 3,601 〔8.4%〕その他 1,009 〔2.3%〕 歳出化経費 令和７年度予算額 ４３，１１９億円 注１：ＳＡＣＯ関係経費及び米軍再編関係経費のうち地元負担軽減分に係る経費を除く。 注２：令和６年度予算には２０７億円、令和７年度予算には２０１億円のデジタル庁計上分を含む。項目令 和 ６ 年 度 予 算 額令 和 ７ 年 度 予 算 額対前年度 増△減額 維持費等 １６，７３２ １７，７６９ １，０３７ 油購入費 － １ １ 修理費 １５，９２４ １７，０５４ １，１３０ 教育訓練費等 ８０９ ７１３ △９５ 基地対策経費等 ８６９ ８９２ ２３ 研究開発費 １，９５９ ３，３１０ １，３５０ 装備品等購入費 ７，７８３ １０，５７５ ２，７９２ 航空機購入費 ５，２７６ ３，２５０ △２，０２７ 艦船建造費等 １，９８５ ２，７１３ ７２８ 施設整備費等 ２，４９６ ３，６０１ １，１０６ その他（電子計算機等借料 等）８２７ １，００９ １８２ 合 計 ３７，９２８ ４３，１１９ ５，１９１ 64\n",
            "rank: 1\n",
            "score: 0.9216058254241943\n",
            "doc_content: ◆自衛官の処遇・勤務環境の改善及び新たな生涯設計の確立 令和６年１０月に設置された 「自衛官の処遇・勤務環境の改善及び新たな生 涯設計の確立に関する関係閣僚会議」 において、高い頻度で活発な議論を行い、 「自衛官の処遇・勤務環境の改善及び新たな生涯設計の確立に関する基本方 針」を取りまとめ、令和７年度予算に 関連事業に係る ４，０９７ 億円を計上 。 １自衛官の処遇改善 １６７億円 ２生活・勤務環境の改善 ３，８７８億円 ３新たな生涯設計の確立 １９億円 ４その他 ３２億円 関係閣僚会議 (Ｒ6.10.25) １自衛官の処遇改善 ＜新設＞ ○航空管制官に支給する手当 ○航空機整備員に支給する手当 ○主要な野外演習等に従事する隊員に 支給する手当 等 ＜引上げ等＞ ○航空手当の引上げ （例：戦闘機パイロットの 1尉： 月額3万2千円増の約 28万9千円） ○災害派遣等手当 （日額 540円増の 2,160 円） ○特殊作戦隊員手当等の支給範囲の拡大 等 （陸海空自衛隊のサイバー専門部隊等）給与面の処遇改善： 50億円 〇不慣れな営舎内生活等に対する給付金 (指 定場所生活調整金 (仮称))の新設 (6年間で総額 120万円) ○自衛官任用一時金の引上げ （現行より約 12万円増の約 34万円） ○進学支援給付金の拡充 （任期満了後、在学期間中に即応予備自に任 官した 場合：現行より年額約 24万5千円増の約 53万6千円） ○自衛隊奨学生制度の更なる拡充 （学資金を年額 31万2千円増の 96万円に引上げ )士の確保等： 91億円 ○予備自衛官に支給する手当等の引上げ １任期あたり約 41万円増の約 68万円に引上げ ○即応予備自衛官に支給する手当等の引上げ １任期あたり約 79～128万円増の約 242~ 325万円に引上げ ○予備自衛官等本人が事業主等である場合の支援 等予備自衛官等の処遇改善： 26億円 (手当等分のみ ) 過去に例のない３０を超える手当等の新設 ・金額の引上げ等を実施 Ⅱ 令和７年度予算  ～人的基盤の抜本的強化に関する取組～ 10注:金額は 契約ベース、ただし「自衛官の処遇改善」、「生活・勤務環境の改善」は手当の人件費を含む 。\n",
            "rank: 2\n",
            "score: 0.9173018932342529\n",
            "doc_content: 11２生活・勤務環境の改善 ○組織文化の改革 ○営舎内居室の個室化等の推進 ○庁舎・隊舎の改修や修繕、備品や日用品等の整備 ○新型艦の居住区の魅力化や乗員待機所の拡充 ○宿舎の改修や建替え・住宅設備の充実等による宿舎環境の改善 ○駐屯地・基地等における無線 LAN環境の拡充 ○主要艦艇における、商用低軌道衛星通信網を活用した通信環境の構築 等若い世代のライフスタイルに合った生活・勤務環境の構築： 3,491億円 ○託児事業の充実 ○教育基盤や隊舎の女性用区画等の整備の推進仕事と育児・介護の両立及び女性活躍の推進： 172億円 ○被服等の整備、更新 ※予備自衛官等の被服を含む ○糧食の魅力化 等被服・糧食及び健康管理体制の充実：２ 15億円 ３新たな生涯設計の確立 ○再就職に向けた職業訓練の充実 ○再就職先拡充のための広報の強化 ○就職援護情報ネットワークシステムの導入自衛官としての知識・技能・経験を活かした再就職先の拡充等：１９億円 ４その他 ○SNSやターゲティング広告等の募集広報のデジタル化・オンライン化の推進 ○地方協力本部の体制充実自衛官等の採用推進のための広報・募集強化：３２億円 ○防衛省人事教育局に人的基盤の強化を担う室を設置し、省内における検討体制を充実人的基盤の強化を担う室の設置 Ⅱ 令和７年度予算  ～人的基盤の抜本的強化に関する取組～\n",
            "rank: 3\n",
            "score: 0.9130452871322632\n",
            "doc_content: Ⅳ 共通基盤 ウ自衛官等の給与・手当等の見直し（１６８億円） 41○主な項目 ○改善策の概要 １．自衛官等の生活・勤務環境の特殊性等に関する処遇改善策 任期制士 の処遇改善 ・自衛官候補生の２士任用時に支給する自衛官任用一時金の引上げ ・221,000 円→ 344,000 円 士（任期制士・非任 期制士） の処遇改善・不慣れな営舎内生活等の労苦を評価し、指定場所生活調整金 (仮称)の新設 ・最大で 120万円（採用日から６年間、１年経過する毎に 20万円支給 ) 予備自衛官等 の処遇 改善・予備自衛官手当： 年額48,000 円→ 147,600 円 ・訓練招集手当（予備自衛官）：年５日間招集 年額40,500 円→ 55,000 円 ・勤続報奨金 （即応予備自衛官）： 120,000 円→ 215,000 円（１任期３年） 転勤で長距離異動す る自衛官 の処遇改善・作戦環境等順応手当（仮称）の新設 日額1,300 円（異動日から３年間） 【一例】月20日勤務の場合 月額26,000 円（1,300 円×20日）（年額約 31万円増） ２．自衛隊の任務の特殊性に関する処遇改善策 航空管制官 の処遇改 善・航空管制官手当（仮称）の新設 【一例】航空交通管制業務を行う１尉：月額約 32,000 円（年額約 39万円） 航空機を運用・整備 する隊員 の処遇改善・航空機の乗員に支給する航空手当の引上げ 【一例】戦闘機パイロットの１尉：月額約 257,000 円→ 約289,000 円 （年額 約39万円増） ・対領空侵犯措置等に対処する航空機の整備員の手当を新設 航空機整備作業等手当（仮称）：日額 1,200 円 ・その他航空作業手当の引上げ等 野外演習に従事する 隊員の処遇改善・野外演習手当（仮称）の新設：日額 1,400 円 災害現場等に派遣さ れる隊員 の処遇改善・災害派遣等手当の引上げ：日額 1,620 円→ 2,160 円 サイバー専門の部隊 等の隊員 の処遇改善・陸海空自衛隊のサイバー専門の部隊等にも特殊作戦隊員手当等を支給 【一例】１尉：月額約 32,000 円（年額約 39万円増） 過酷な任務に従事す る隊員 の処遇改善・特殊作戦群 の隊員の特殊作戦隊員手当の引上げ 【一例】特殊作戦群の１尉：月額約 159,000 円→ 約209,000 円 （年額 約60万円増） ・空挺団 の隊員の落下傘隊員手当の引上げ 【一例】１尉：月額約 97,000 円→ 約106,000 円（年額 約11万円増） ・特別警備隊 の隊員の特別警備隊員手当の引上げ 【一例】１尉：月額約 159,000 円→ 約209,000 円（年額 約60万円増） ・弾道ミサイル等に対処する隊員の処遇改善（対空警戒対処等手当の引上げ等） ・再採用された自衛官経験者の 処遇改善（より高い初任給を可能に） ・医療従事者、募集担当者及び最先任上級曹長の処遇改善（各手当の新設） ・その他自衛官等の勤務の特殊性を踏まえた処遇改善注:事務官等（１億円）を含む。\n",
            "rank: 1\n",
            "score: 0.8918485641479492\n",
            "doc_content: （単位：億円）単位：億円、％ 〔〕：構成比 歳出化経費の内訳 維持費等 17,769 〔41.2%〕 基地対策経費等 892 〔2.1%〕研究開発費 3,310 〔7.7%〕装備品等購入費 10,575 〔24.5%〕航空機購入費 3,250 〔7.5%〕艦船建造費等 2,713 〔6.3%〕施設整備費等 3,601 〔8.4%〕その他 1,009 〔2.3%〕 歳出化経費 令和７年度予算額 ４３，１１９億円 注１：ＳＡＣＯ関係経費及び米軍再編関係経費のうち地元負担軽減分に係る経費を除く。 注２：令和６年度予算には２０７億円、令和７年度予算には２０１億円のデジタル庁計上分を含む。項目令 和 ６ 年 度 予 算 額令 和 ７ 年 度 予 算 額対前年度 増△減額 維持費等 １６，７３２ １７，７６９ １，０３７ 油購入費 － １ １ 修理費 １５，９２４ １７，０５４ １，１３０ 教育訓練費等 ８０９ ７１３ △９５ 基地対策経費等 ８６９ ８９２ ２３ 研究開発費 １，９５９ ３，３１０ １，３５０ 装備品等購入費 ７，７８３ １０，５７５ ２，７９２ 航空機購入費 ５，２７６ ３，２５０ △２，０２７ 艦船建造費等 １，９８５ ２，７１３ ７２８ 施設整備費等 ２，４９６ ３，６０１ １，１０６ その他（電子計算機等借料 等）８２７ １，００９ １８２ 合 計 ３７，９２８ ４３，１１９ ５，１９１ 64\n",
            "rank: 2\n",
            "score: 0.8917497396469116\n",
            "doc_content: （単位：億円）単位：億円、％ 〔〕：構成比 物件費（契約ベース）の内訳 維持費等 32,439 〔38.5%〕 基地対策経費等 5,336 〔6.3%〕 研究開発費 6,387 〔7.6%〕装備品等購入費 16,879 〔20.0%〕航空機購入費 7,607 〔9.0%〕艦船建造費等 4,643 〔5.5%〕施設整備費等 7,434 〔8.8%〕その他 3,608 〔4.3%〕 物件費（契約ベース） 令和７年度予算額 ８４，３３２億円 注１：ＳＡＣＯ関係経費及び米軍再編関係経費のうち地元負担軽減分に係る経費を除く。 注２：令和６年度予算には３６５億円、令和７年度予算には７１４億円のデジタル庁計上分を含む。項目令 和 ６ 年 度 予算額令 和 ７ 年 度 予算額対前年度 増△減額 維持費等 ３２，３２１ ３２，４３９ １１８ 油購入費 １，５７５ １，２９８ △２７７ 修理費 ２７，１７９ ２７，９３７ ７５８ 教育訓練費等 ３，５６７ ３，２０４ △３６３ 基地対策経費等 ５，１０８ ５，３３６ ２２８ 研究開発費 ８，３５０ ６，３８７ △１，９６３ 装備品等購入費 ２１，３０７ １６，８７９ △４，４２８ 航空機購入費 ９，４６７ ７，６０７ △１，８６１ 艦船建造費等 ７，６１８ ４，６４３ △２，９７５ 施設整備費等 ６，６９１ ７，４３４ ７４３ その他（電子計算機等借料等） ２，７６４ ３，６０８ ８４４ 合 計 ９３，６２５ ８４，３３２ △９，２９３ 65\n",
            "rank: 3\n",
            "score: 0.8901371955871582\n",
            "doc_content: Ⅱ 令和７年度  予算 ～その他の人的基盤の抜本的強化に関する取組～ ○駐屯地等警備のリモート監視システム (１７６億円 ) 最先端の民生技術を活用した 警備システムの運用に向けて、 約40コ駐屯地等にて導入検証を実施。 ➡将来的に全国の駐屯地等にて 約1,000人/日の省人化を目指す。 ○補給倉庫の自動化 (４３億円 ) 沖縄訓練場の敷地内に新編予定の 補給処支処に最先端の民生技術を活 用した 自動化倉庫を導入。 ○ＡＩを活用した補給品の需要予測機能の整備 (１９億円 ) 補給業務の効率化、迅速化のため、補給品の需要予測にＡＩを活用。 ○新型ＦＦＭの建造 (３隻：３，１４８億円 ) →従来の汎用護衛艦の定員は約２００人であるが、新型ＦＦＭの定員は船体の コンパクト化などにより約９０人となる。 ○無人アセットの取得 ・滞空型ＵＡＶの取得 (４１５ 億円) 洋上における情報収集・警戒監視を強化するために取得。 →「ＭＱ ―９Ｂ(シーガーディアン )」を選定。 ○陸上自衛隊補給処でのレーダ関連器材の整備に係る部外委託の検証 (２億円 ) ○哨戒艦の教育カリキュラム及び教材作成 等の部外委託 (２億円 )補給倉庫の自動化 (イメージ )駐屯地等警備のリモート監視システム (イメージ ) 12 ＡＩ等を活用した省人化・無人化による部隊の高度化 ＯＢや民間などの部外力の活用滞空型ＵＡＶ 注:金額は 契約ベース 。\n",
            "JSONファイル 'pattern1_similarity.json' を保存しました。\n"
          ]
        }
      ],
      "source": [
        "import numpy as np\n",
        "import json\n",
        "from sklearn.preprocessing import normalize\n",
        "\n",
        "top_k = 3\n",
        "threshold = 0  # 類似度の閾値（任意で調整）\n",
        "\n",
        "results = []  # 出力用のリスト\n",
        "\n",
        "# コサイン類似度行列を計算\n",
        "# その前に正規化\n",
        "question_embeddings_norm = normalize(question_embeddings)\n",
        "documents_embeddings_norm = normalize(documents_embeddings)\n",
        "\n",
        "similarity_matrix = np.matmul(question_embeddings_norm, documents_embeddings_norm.T)\n",
        "\n",
        "# 各質問に対して類似度上位ドキュメントを取得\n",
        "for i, question in enumerate(questions):\n",
        "    top_indices = similarity_matrix[i].argsort()[::-1][:top_k]\n",
        "    matches = []\n",
        "    for rank, idx in enumerate(top_indices):\n",
        "        score = float(similarity_matrix[i][idx])\n",
        "        if score < threshold:\n",
        "            continue\n",
        "        matches.append({\n",
        "            \"rank\": rank + 1,\n",
        "            \"score\": score,\n",
        "            \"doc_content\":documents[idx]\n",
        "        })\n",
        "        print(\"rank:\",rank +1)\n",
        "        print(\"score:\",score)\n",
        "        print(\"doc_content:\",documents[idx])\n",
        "\n",
        "    results.append({\n",
        "        \"question\": question,\n",
        "        \"matches\": matches\n",
        "    })\n",
        "\n",
        "# JSONファイルに保存\n",
        "with open(datafolder + \"pattern1_similarity.json\", \"w\", encoding=\"utf-8\") as f:\n",
        "    json.dump(results, f, indent=2, ensure_ascii=False)\n",
        "\n",
        "print(\"JSONファイル 'pattern1_similarity.json' を保存しました。\")"
      ]
    },
    {
      "cell_type": "code",
      "execution_count": null,
      "metadata": {
        "id": "8M_9mmv0BkOk"
      },
      "outputs": [],
      "source": [
        "# このセル使用しない。\n",
        "# import numpy as np\n",
        "\n",
        "# # コサイン類似度を計算（質問×ドキュメントのスコア行列）\n",
        "# similarity_matrix = np.matmul(question_embeddings, doc_embeddings.T)\n",
        "\n",
        "# # 各質問について類似度上位3件を取得\n",
        "# top_k = 3\n",
        "# for i, question in enumerate(questions):\n",
        "#     print(f\"\\n--- 質問{i+1}: {question} ---\")\n",
        "#     top_indices = similarity_matrix[i].argsort()[::-1][:top_k]\n",
        "#     for rank, idx in enumerate(top_indices):\n",
        "#         print(f\"  Top {rank+1}: 類似度={similarity_matrix[i][idx]:.4f}, ドキュメント: {docs[idx]}\")"
      ]
    },
    {
      "cell_type": "markdown",
      "metadata": {
        "id": "g5t0sqUWC8sb"
      },
      "source": [
        "### 2.1.4 初期RAGによる回答の生成\n",
        "では、得られた類似度トップ３をプロンプトに組み込んで回答を生成します。\n",
        "\n",
        "生成した回答もJSONファイルに保存します。\n",
        "\n",
        "ファイル名は**raw_rag_response.json**です。"
      ]
    },
    {
      "cell_type": "code",
      "execution_count": null,
      "metadata": {
        "id": "i5zqclWq9WNj"
      },
      "outputs": [],
      "source": [
        "# プロンプト生成関数\n",
        "def build_rag_prompt(question, top_docs):\n",
        "    prompt = f\"以下の質問に対して、与えられた参考情報を使って正確に回答してください。\\n\\n\"\n",
        "    prompt += f\"質問:\\n{question}\\n\\n\"\n",
        "    prompt += \"参考情報:\\n\"\n",
        "    for i, doc in enumerate(top_docs, 1):\n",
        "        prompt += f\"{i}. {doc['content']}\\n\"\n",
        "    prompt += \"\\n回答:\\n\"\n",
        "    return prompt"
      ]
    },
    {
      "cell_type": "code",
      "execution_count": null,
      "metadata": {
        "id": "OR4GNWmP9hAD"
      },
      "outputs": [],
      "source": [
        "## 回答生成関数\n",
        "def generate_answer(prompt):\n",
        "    inputs = tokenizer(prompt, return_tensors=\"pt\", truncation=True, max_length=2048).to(device)\n",
        "    output_ids = model.generate(\n",
        "        **inputs,\n",
        "        max_new_tokens=512,\n",
        "        do_sample=False,\n",
        "        temperature=0\n",
        "    )\n",
        "    output_text = tokenizer.decode(output_ids[0], skip_special_tokens=True)\n",
        "    return output_text.split(\"回答:\")[-1].strip()"
      ]
    },
    {
      "cell_type": "code",
      "execution_count": null,
      "metadata": {
        "colab": {
          "base_uri": "https://localhost:8080/",
          "height": 1000,
          "referenced_widgets": [
            "77a72f0bafc94da5adf609bc135e0d32",
            "4448d11afb83408babde767f80f4782c",
            "1c5cca14736940859f6c48367f6cac26",
            "7b29a2e4098a4b8f9b36b529ae84eb08",
            "8234ff97e06645dc94e3c1d67b6a7bc9",
            "94c1501fe0d844e7961f53272a0bc3e5",
            "93ecfaf1c8344279a3c0d4b435184f23",
            "a7781ea1c0ec4c93a98eb9af385fb0a2",
            "637fc0a300e24f15a1867e925a6d69bc",
            "4fef67568d404ae485aaafec97ff87fd",
            "5643b449704641c399f0b4268c83c85d"
          ]
        },
        "id": "73KG2X8c9v1I",
        "outputId": "9893b1a9-bddf-4659-be99-83476dfc100a"
      },
      "outputs": [
        {
          "data": {
            "application/vnd.jupyter.widget-view+json": {
              "model_id": "77a72f0bafc94da5adf609bc135e0d32",
              "version_major": 2,
              "version_minor": 0
            },
            "text/plain": [
              "Loading checkpoint shards:   0%|          | 0/2 [00:00<?, ?it/s]"
            ]
          },
          "metadata": {},
          "output_type": "display_data"
        },
        {
          "name": "stderr",
          "output_type": "stream",
          "text": [
            "\r",
            "  0%|          | 0/5 [00:00<?, ?it/s]/usr/local/lib/python3.11/dist-packages/transformers/generation/configuration_utils.py:631: UserWarning: `do_sample` is set to `False`. However, `temperature` is set to `0` -- this flag is only used in sample-based generation modes. You should set `do_sample=True` or unset `temperature`.\n",
            "  warnings.warn(\n",
            " 20%|██        | 1/5 [00:08<00:34,  8.58s/it]"
          ]
        },
        {
          "name": "stdout",
          "output_type": "stream",
          "text": [
            "\n",
            "--- 質問1: 令和7年度の防衛費の予算総額はいくらですか？また、その主要な内訳を具体的に説明してください。 ---\n",
            "生成された回答:\n",
            "令和7年度の防衛費の予算総額は**43,119億円**です。\n",
            "その主要な内訳は以下の通りです。\n",
            "\n",
            "* **維持費等:** 41.3%  (7,476億円)\n",
            "* **基地対策経費等:** 24.0%  (4,356億円)\n",
            "* **研究開発費:** 8.9%  (1,619億円)\n",
            "* **装備品等購入費等:** 12.2%  (2,205億円)\n",
            "* **施設整備費等:** 3.4%  (619億円)\n",
            "* **その他:** 10.2%  (1,846億円)\n"
          ]
        },
        {
          "name": "stderr",
          "output_type": "stream",
          "text": [
            "\r",
            " 40%|████      | 2/5 [00:24<00:39, 13.01s/it]"
          ]
        },
        {
          "name": "stdout",
          "output_type": "stream",
          "text": [
            "\n",
            "--- 質問2: 令和7年度の防衛力整備計画で重視されている7つの分野は何ですか？ それぞれの分野における具体的な取り組みの例を挙げてください。 ---\n",
            "生成された回答:\n",
            "令和7年度の防衛力整備計画で重視されている7つの分野は以下の通りです。\n",
            "\n",
            "1. **スタンド・オフ 防衛能力**：〇トマホークの取得1年前倒し、〇島嶼防衛用高速滑空弾の事前発射試験の実施など、海上自衛官等に対する要員養成教育の開始など、海上自衛能力の強化を図っています。\n",
            "2. **統合防空ミサイル**：イージス・システム搭載艦の2隻の建造契約の締結など、統合防空ミサイルの運用能力を強化しています。\n",
            "3. **ＧＰＩの日米共同開発**：GPIの日米共同開発に係る開発コンセプトの決定など、日米の連携を強化しています。\n",
            "4. **無人アセット**：各種無人アセットの運用実証の実施など、無人アセットの運用能力を強化しています。\n",
            "5. **領域横断作戦能力**：航空自衛隊の第2宇宙システム管理隊の新編など、宇宙・サイバー・陸海空領域における作戦能力の強化を図っています。\n",
            "6. **指揮統制・情報連携機能**：防衛省クラウドへの集約に向け、各自衛隊クラウドに係るシステム設計・製造に着手など、情報連携機能の強化を図っています。\n",
            "7. **持続性・強靱性**：全国で12施設における57棟の火薬庫の新設など、弾薬・維持整備・施設の強靱化を図っています。\n"
          ]
        },
        {
          "name": "stderr",
          "output_type": "stream",
          "text": [
            "\r",
            " 60%|██████    | 3/5 [00:29<00:18,  9.41s/it]"
          ]
        },
        {
          "name": "stdout",
          "output_type": "stream",
          "text": [
            "\n",
            "--- 質問3: 過去5年間の日本の防衛費の推移を説明してください。特に、GDP比での変化に着目してください。 ---\n",
            "生成された回答:\n",
            "過去5年間の日本の防衛費の推移を説明してください。特に、GDP比での変化に着目してください。\n",
            "\n",
            "\n",
            "**解答:**\n",
            "\n",
            "日本の防衛費の推移は、過去5年間で、**GDP比で増加傾向**にあります。 \n",
            "\n",
            "具体的な推移は以下の通りです。\n",
            "\n",
            "* **令和6年度:**  GDP比で約1.4%増加\n",
            "* **令和7年度:**  GDP比で約1.5%増加\n"
          ]
        },
        {
          "name": "stderr",
          "output_type": "stream",
          "text": [
            "\r",
            " 80%|████████  | 4/5 [00:54<00:15, 15.48s/it]"
          ]
        },
        {
          "name": "stdout",
          "output_type": "stream",
          "text": [
            "\n",
            "--- 質問4: 令和７年度の防衛予算において、自衛官等の給与・手当等の見直しに関する予算額と主要項目を含めて説明してください。 ---\n",
            "生成された回答:\n",
            "**\n",
            "\n",
            "令和７年度の防衛予算において、自衛官等の給与・手当等の見直しに関する予算額は **４，０９７億円** です。\n",
            "\n",
            "主要項目は以下の通りです。\n",
            "\n",
            "* **生活・勤務環境の改善**:  \n",
            "    * 3,878億円：組織文化の改革、営舎内居室の個室化等の推進、庁舎・隊舎の改修や修繕、備品や日用品等の整備など。\n",
            "    *  **主な改善策**:\n",
            "        *  自衛官候補生の2士任用時に支給する自衛官任用一時金の引上げ\n",
            "        *  予備自衛官手当の年額48,000円→ 147,600円\n",
            "        *  訓練招集手当（予備自\n"
          ]
        },
        {
          "name": "stderr",
          "output_type": "stream",
          "text": [
            "100%|██████████| 5/5 [00:57<00:00, 11.47s/it]"
          ]
        },
        {
          "name": "stdout",
          "output_type": "stream",
          "text": [
            "\n",
            "--- 質問5: 令和7年度の防衛予算で新たに取得する哨戒機の合計機数と合計金額はいくらですか？ ---\n",
            "生成された回答:\n",
            "令和7年度の防衛予算で新たに取得する哨戒機の合計機数と合計金額は？\n",
            "\n",
            "\n",
            "**解答:**\n",
            "新型ＦＦＭの建造は３隻で、3,148億円です。\n"
          ]
        },
        {
          "name": "stderr",
          "output_type": "stream",
          "text": [
            "\n"
          ]
        }
      ],
      "source": [
        "model_name = \"google/gemma-2-2b-jpn-it\"\n",
        "tokenizer = AutoTokenizer.from_pretrained(model_name)\n",
        "model = AutoModelForCausalLM.from_pretrained(model_name).to(\"cuda\" if torch.cuda.is_available() else \"cpu\")\n",
        "\n",
        "\n",
        "response = []\n",
        "\n",
        "for i, question in tqdm(enumerate(questions), total=len(questions)):\n",
        "    top_indices = similarity_matrix[i].argsort()[::-1][:3]  # Top 3\n",
        "    top_docs = [\n",
        "        {\n",
        "            \"rank\": rank + 1,\n",
        "            \"score\": float(similarity_matrix[i][idx]),\n",
        "            \"content\": documents[idx]\n",
        "        }\n",
        "        for rank, idx in enumerate(top_indices)\n",
        "    ]\n",
        "\n",
        "    prompt = build_rag_prompt(question, top_docs)\n",
        "    answer = generate_answer(prompt)\n",
        "\n",
        "    print(f\"\\n--- 質問{i+1}: {question} ---\")\n",
        "    print(f\"生成された回答:\\n{answer}\")\n",
        "\n",
        "    response.append({\n",
        "        \"質問\": question,\n",
        "        # \"top_docs\": top_docs,\n",
        "        \"回答\": answer\n",
        "    })\n",
        "\n",
        "# 保存\n",
        "with open(datafolder + \"row_rag_responses.json\", \"w\", encoding=\"utf-8\") as f:\n",
        "    json.dump(response, f, ensure_ascii=False, indent=2)"
      ]
    },
    {
      "cell_type": "code",
      "execution_count": null,
      "metadata": {
        "colab": {
          "base_uri": "https://localhost:8080/"
        },
        "id": "qHo2Q-DhY5Y6",
        "outputId": "0709ad13-fa75-44b4-f25a-488ffd200372"
      },
      "outputs": [
        {
          "name": "stdout",
          "output_type": "stream",
          "text": [
            "[{'question': '令和7年度の防衛費の予算総額はいくらですか？また、その主要な内訳を具体的に説明してください。', 'top_docs': [{'rank': 1, 'score': 0.9163951277732849, 'content': '防 衛 省 Ministry of  Defense 防衛力抜本的強化の 進捗と予算 令和７年度予算の概要'}, {'rank': 2, 'score': 0.9145017266273499, 'content': '（単位：億円）単位：億円、％ 〔〕：構成比 歳出化経費の内訳 維持費等 17,769 〔41.2%〕 基地対策経費等 892 〔2.1%〕研究開発費 3,310 〔7.7%〕装備品等購入費 10,575 〔24.5%〕航空機購入費 3,250 〔7.5%〕艦船建造費等 2,713 〔6.3%〕施設整備費等 3,601 〔8.4%〕その他 1,009 〔2.3%〕 歳出化経費 令和７年度予算額 ４３，１１９億円 注１：ＳＡＣＯ関係経費及び米軍再編関係経費のうち地元負担軽減分に係る経費を除く。 注２：令和６年度予算には２０７億円、令和７年度予算には２０１億円のデジタル庁計上分を含む。項目令 和 ６ 年 度 予 算 額令 和 ７ 年 度 予 算 額対前年度 増△減額 維持費等 １６，７３２ １７，７６９ １，０３７ 油購入費 － １ １ 修理費 １５，９２４ １７，０５４ １，１３０ 教育訓練費等 ８０９ ７１３ △９５ 基地対策経費等 ８６９ ８９２ ２３ 研究開発費 １，９５９ ３，３１０ １，３５０ 装備品等購入費 ７，７８３ １０，５７５ ２，７９２ 航空機購入費 ５，２７６ ３，２５０ △２，０２７ 艦船建造費等 １，９８５ ２，７１３ ７２８ 施設整備費等 ２，４９６ ３，６０１ １，１０６ その他（電子計算機等借料 等）８２７ １，００９ １８２ 合 計 ３７，９２８ ４３，１１９ ５，１９１ 64'}, {'rank': 3, 'score': 0.9126102328300476, 'content': '項目令和６年度 予算額令和７年度 予算額対前年度 増△減額 維持費等 ・油購入費 ・修理費 ・教育訓練費 ・医療費等 ・営舎費等 （光熱水料、燃料費等）７，７５９ １，５７３ ３，６０８ ４７１ ３３３ １，７７４７，４７６ １，２８４ ３，５６４ ５１４ ３６８ １，７４７△２８３ △２８９ △４４ ４３ ３５ △２７ 基地対策経費等 ・基地周辺対策経費 ・同盟強靱化予算 (在日米軍駐留経費負担 ) ・施設の借料、補償経費等４，１２５ ８３９ １，８１１ １，４７６４，３５６ ８７３ １，９８４ １，４９９２３０ ３４ １７４ ２２ 研究開発費 ７０７ １，６１９ ９１２ 装備品等購入費等 ２，２１８ ２，２０５ △１３ 施設整備費等 ５４８ ６１９ ７１ その他（電子計算機等借料等） １，６７５ １，８４６ １７１ 合 計 １７，０３２ １８，１２１ １，０８９（単位：億円） 維持費等 7,476 〔41.3%〕 基地対策経費等 4,356 〔24.0%〕研究開発費 1,619 〔8.9%〕装備品等購入費等 2,205 〔12.2%〕施設整備費等 619〔3.4%〕その他 1,846 〔10.2%〕 一般物件費 令和７年度予算額 １８，１２１億円単位：億円、％ 〔〕：構成比 一般物件費（活動経費）の内訳 注１：ＳＡＣＯ関係経費及び米軍再編関係経費のうち地元負担軽減分に係る経費を除く。 注２：令和６年度予算には１１７億円、令和７年度予算には１１３億円のデジタル庁計上分を含む。 63'}], 'generated_answer': '令和7年度の防衛費の予算総額は**43,119億円**です。\\nその主要な内訳は以下の通りです。\\n\\n* **維持費等:** 41.3%  (7,476億円)\\n* **基地対策経費等:** 24.0%  (4,356億円)\\n* **研究開発費:** 8.9%  (1,619億円)\\n* **装備品等購入費等:** 12.2%  (2,205億円)\\n* **施設整備費等:** 3.4%  (619億円)\\n* **その他:** 10.2%  (1,846億円)'}, {'question': '防衛力整備計画で重視されている7つの分野は何ですか？ それぞれの分野における具体的な取り組みの例を挙げてください。', 'top_docs': [{'rank': 1, 'score': 0.8981212377548218, 'content': '防衛力の抜本的強化を補完し、それと不可分一体のものとして、研究開発、公共インフ ラ整備、サイバー安全保障、我が国及び同志国の抑止力の向上等のための国際協力の 四つの分野における取組を 関係省庁の枠組みの下で推進 。 【研究開発 】 ○関係省庁の枠組みの下、防衛省の意見を踏まえた研究開発ニーズと関係省庁が有 する技術シーズを合致させることにより、 総合的な防衛体制の強化に資する科学技術 の研究開発を推進 。 ○総合的な防衛体制の強化にも資する重要な技術課題として当面推進していくものを 整理した「重要技術課題」を踏まえ、関係省庁の民生利用目的の研究の中から 「マッチ ング事業」を認定 。 【公共インフラ整備 】 ○安全保障環境を踏まえた対応を実効的に行うため、 自衛隊・海上保安庁が、平素か ら必要な空港・港湾を円滑に利用できるよう、 インフラ管理者との間で「円滑な利用に 関する枠組み」を設けた空港・港湾を 「特定利用空港・港湾」 とし、民生利用を主としつ つ、円滑な利用に資する整備等を実施中。 〇さらに、自衛隊・海上保安庁のニーズを踏まえ、インフラ管理者等との調整を進め、 本 取組の更なる充実化を図る 。その一環として、２０２５ 年度から、 「特定利用空港・港 湾」と自衛隊の駐屯地等とのアクセスの向上に向けた道路ネットワークの整備を本取組 の対象に追加 。 【サイバー安全保障 】 ○能動的サイバー防御の導入など、 サイバー安全保障分野における対応能力を欧米主 要国と同等以上に向上させる方針 。この実現に向け、有識者会議において２０２４年 １１月に提言をとりまとめ、２０２５年２月にサイバー対処能力強化法案及び同法 の施行に伴う整備法案が閣議決定され、国会に提出された。また、並行して、 サイバー 安全保障に係る機能・体制の強化を推進 。 【我が国及び同志国の抑止力の向上等のための国際協力 】 ○ＯＳＡ（政府安全保障能力強化支援）は、 同志国の安全保障上の能力や抑止力 の強化に貢献 することを目的とした、 軍等が裨益者となる 無償資金協力の枠組み。 創 設２年目の２０２４年度は、フィリピン、インドネシア、モンゴル、ジブチへの供与を決 定。２０２５年度はインド太平洋地域を中心に対象国の拡大等を検討 。(参考)総合的な防衛体制の強化の取組状況 総合的な防衛体制の強化 59'}, {'rank': 2, 'score': 0.8951800465583801, 'content': '7つの重視分野 抜本的強化の進捗状況 (一例) スタンド・オフ 防衛能力〇トマホークの 取得１年前倒し (2026 年度→2025年度) 〇トマホーク運用のための海上自衛官等に 対する 要員養成教育 を開始 (2024 年3月～10月) 〇島嶼防衛用高速滑空弾の 事前発射試験 実施 (2024 年4月) 〇１２ 式地対艦誘導弾能力向上型 (地発型 )の 配備１年前倒し (2026 年度→2025年度) 〇12式地対艦誘導弾能力向上型の 発射試験 実施(2024 年10～11月) 統合防空ミサイル 防衛能力○イージス・システム搭載艦 2隻の建造契約 を締結 (2024 年8・9月) ○ＧＰＩの日米共同開発に係る 開発コンセプト を決定 (2024 年9月) ※GPI: Glide Phase Interceptor (滑空段階迎撃用誘導弾 ) 無人アセット 防衛能力○2023年度中に 合計１０機種の各種ＵＡＶの運用実証 を実施 ○各種無人アセットに関する 研究開発 を推進 ○滞空型ＵＡＶの機種として 「ＭＱ ―９Ｂ(シーガーディアン )」 を選定 (2024 年11月) Ⅰ 防衛力整備計画の進捗状況 ○我が国の防衛上必要な機能・能力として、次の７つの分野を重視して、 防衛力の抜本的強化を推進。 ○事業の進捗管理を徹底し、概ね計画どおり進捗。 ○令和７年度予算においても、計画期間内の防衛力抜本的強化実現のため、 令和７年度中に着手すべき事業を計上。 島嶼防衛用 高速滑空弾 トマホーク (イメージ ) イージス・システム搭載艦 (イメージ ) 【研究開発 】 長期運用型 UUV (イメージ ) 2 １２式地対艦誘導弾能力向上型 滞空型 UAV'}, {'rank': 3, 'score': 0.8890135288238525, 'content': '7つの重視分野 抜本的強化の進捗状況 (一例) 領域横断作戦能力 (宇宙・サイバー・ 陸海空領域 )○航空自衛隊 第２宇宙システム管理隊 (防府北 ) の新編 (2024 年3月) ○陸上自衛隊 システム通信・サイバー学校 (久里浜 )に改編 (2024 年3月) ○陸上自衛隊 第２特科団 (湯布院 )・第７地対艦 ミサイル連隊 (勝連)の新改編 (2024 年3月) ○護衛艦「かが」 Ｆ―３５Ｂ艦上運用試験 を実施 (2024 年10～11月) ○次期初等練習機 の機種として 「Ｔ―６」及び 地上教育器材 を選定 (2024 年11月) ○Xバンド防衛通信衛星「きらめき３号」 の打上げに成功 (2024 年11月) 指揮統制・情報関 連機能○防衛省クラウド (仮称)への集約に向け、 各自衛隊クラウドに係る システム設計・ 製造に着手 機動展開能力・ 国民保護○能登半島地震にて被災された方の休憩所等 として ＰＦＩ船舶を活用 ○2024年度末に新編される自衛隊海上輸送 群にて運用する中型級船舶１隻、 小型級船舶１隻の 命名式・進水式 を 実施(2024 年10・11月) 持続性・強靱性 (弾薬・維持整備・ 施設の強靱化 )○自衛隊施設の集約・建て替え等に向けた「マスタープラン」 ※ を順次作成し、設計・工事等に着手 ※駐屯地・基地等の全体を 283地区に区分して、保有する建物やライフラインなど について、現状の把握・評価を行い、施設の機能・重要度に応じた構造強化、離隔距 離確保のための再配置・集約化等を含んだ「マスタープラン」を作成。 ○全国で１２施設における５７棟の火薬庫を新設することを決定 (2024 年12月時点 ) Ⅰ 防衛力整備計画の進捗状況 防衛省クラウド (仮称)(イメージ ) 3 小型級船舶「にほんばれ」 きらめき 3号の打上げ 【JAXAからの提供 】 F-35B艦上運用試験 T-6 (写真は同型機種 )'}], 'generated_answer': '7つの分野は以下の通りです。\\n\\n1. **研究開発**:  関係省庁の枠組みの下で、防衛省の意見を踏まえた研究開発ニーズと関係省庁が有する技術シーズを合致させることにより、総合的な防衛体制の強化に資する科学技術の研究開発を推進。\\n2. **公共インフラ整備**:  安全保障環境を踏まえた対応を実効的に行うため、自衛隊・海上保安庁が、平素から必要な空港・港湾を円滑に利用できるよう、インフラ管理者との間で「円滑な利用にあたりする枠組み」を設けた空港・港湾を「特定利用空港・港湾」とし、民生利用を主としつつ、円滑な利用に資する整備等を実施中。\\n3. **サイバー安全保障**:  能動的サイバー防御の導入など、サイバー安全保障分野における対応能力を欧米主要国と同等以上に向上させる方針。\\n4. **我が国及び同志国の抑止力の向上等のための国際協力**:  政府安全保障能力強化支援（OSAA）を通じて、同志国の安全保障上の能力や抑止力強化に貢献する。\\n5. **スタンド・オフ**:  防衛能力の強化を補完し、それと不可分一体のものとして、研究開発、公共インフラ整備、サイバー安全保障、我が国及び同志国の抑止力の向上等のための国際協力の四つの分野における取組を関係省庁の枠組みの下で推進。\\n6. **統合防空ミサイル**:  統合防空ミサイルの運用体制の強化を推進。\\n7. **無人アセット**:  各種無人アセットの運用実証を実施し、研究開発を進める。'}, {'question': '過去5年間の日本の防衛費の推移を説明してください。特に、GDP比での変化に着目してください。', 'top_docs': [{'rank': 1, 'score': 0.8738947510719299, 'content': '（単位：億円） (説明) ○歳出ベース ：装備品の取得や施設整備などの事業について、当該年度に支払われる額の合計。 つまり、令和７年度の契約に基づき、令和７年度に支払われる経費（一般物件費）と、令和６年 度以前の契約に基づき、令和７年度に支払われる経費（歳出化経費）の合計。会計年度独立を原則 とする政府の歳出予算全体に防衛関係費が占める割合などを把握する上で有益な視点。 ○契約ベース ：装備品の取得や施設整備などの事業について、当該年度に結ぶ契約額の合計。 つまり、令和７年度の契約に基づき、令和７年度に支払われる経費と、令和８年度以降に支払わ れる経費（新規後年度負担）の合計。防衛力整備に関する各年度の事業について、各事業単位で経 費の総額などを把握する上で有益な視点。 防衛力整備においては、艦船や航空機等の主要な装備の調達、また、格納庫・隊舎等の建設など、複 数年度を要するものが多い。このため、複数年度に及ぶ契約（原則５年以内）を行い、将来の一定時期 に支払うことを契約時にあらかじめ国が約束をする。 後年度負担とは、このような複数年度に及ぶ契約に基づき、契約の翌年度以降に支払われる経費。 （例） １００億円の装備を４年間に及ぶ契約で調達する場合 令和７年度 令和８年度 令和９年度 令和１０年度 ↓ 一部支払 （１０億円） 一般物件費↓ 一部支払 （１０億円） 歳出化経費↓ 一部支払 （２０億円） 歳出化経費↓ 残額支払 （６０億円） 歳出化経費 後年度負担額（９０億円） 契約額（１００億円）契約 納入 物件費の内訳と分類 後年度負担の考え方 62'}, {'rank': 2, 'score': 0.873188316822052, 'content': '（単位：億円）単位：億円、％ 〔〕：構成比 物件費（契約ベース）の内訳 維持費等 32,439 〔38.5%〕 基地対策経費等 5,336 〔6.3%〕 研究開発費 6,387 〔7.6%〕装備品等購入費 16,879 〔20.0%〕航空機購入費 7,607 〔9.0%〕艦船建造費等 4,643 〔5.5%〕施設整備費等 7,434 〔8.8%〕その他 3,608 〔4.3%〕 物件費（契約ベース） 令和７年度予算額 ８４，３３２億円 注１：ＳＡＣＯ関係経費及び米軍再編関係経費のうち地元負担軽減分に係る経費を除く。 注２：令和６年度予算には３６５億円、令和７年度予算には７１４億円のデジタル庁計上分を含む。項目令 和 ６ 年 度 予算額令 和 ７ 年 度 予算額対前年度 増△減額 維持費等 ３２，３２１ ３２，４３９ １１８ 油購入費 １，５７５ １，２９８ △２７７ 修理費 ２７，１７９ ２７，９３７ ７５８ 教育訓練費等 ３，５６７ ３，２０４ △３６３ 基地対策経費等 ５，１０８ ５，３３６ ２２８ 研究開発費 ８，３５０ ６，３８７ △１，９６３ 装備品等購入費 ２１，３０７ １６，８７９ △４，４２８ 航空機購入費 ９，４６７ ７，６０７ △１，８６１ 艦船建造費等 ７，６１８ ４，６４３ △２，９７５ 施設整備費等 ６，６９１ ７，４３４ ７４３ その他（電子計算機等借料等） ２，７６４ ３，６０８ ８４４ 合 計 ９３，６２５ ８４，３３２ △９，２９３ 65'}, {'rank': 3, 'score': 0.8723539113998413, 'content': '（単位：億円）単位：億円、％ 〔〕：構成比 歳出化経費の内訳 維持費等 17,769 〔41.2%〕 基地対策経費等 892 〔2.1%〕研究開発費 3,310 〔7.7%〕装備品等購入費 10,575 〔24.5%〕航空機購入費 3,250 〔7.5%〕艦船建造費等 2,713 〔6.3%〕施設整備費等 3,601 〔8.4%〕その他 1,009 〔2.3%〕 歳出化経費 令和７年度予算額 ４３，１１９億円 注１：ＳＡＣＯ関係経費及び米軍再編関係経費のうち地元負担軽減分に係る経費を除く。 注２：令和６年度予算には２０７億円、令和７年度予算には２０１億円のデジタル庁計上分を含む。項目令 和 ６ 年 度 予 算 額令 和 ７ 年 度 予 算 額対前年度 増△減額 維持費等 １６，７３２ １７，７６９ １，０３７ 油購入費 － １ １ 修理費 １５，９２４ １７，０５４ １，１３０ 教育訓練費等 ８０９ ７１３ △９５ 基地対策経費等 ８６９ ８９２ ２３ 研究開発費 １，９５９ ３，３１０ １，３５０ 装備品等購入費 ７，７８３ １０，５７５ ２，７９２ 航空機購入費 ５，２７６ ３，２５０ △２，０２７ 艦船建造費等 １，９８５ ２，７１３ ７２８ 施設整備費等 ２，４９６ ３，６０１ １，１０６ その他（電子計算機等借料 等）８２７ １，００９ １８２ 合 計 ３７，９２８ ４３，１１９ ５，１９１ 64'}], 'generated_answer': '過去5年間の日本の防衛費の推移を説明してください。特に、GDP比での変化に着目してください。\\n\\n\\n**解答:**\\n\\n日本の防衛費の推移は、過去5年間で、**GDP比で増加傾向**にあります。 \\n\\n具体的な推移は以下の通りです。\\n\\n* **令和6年度:**  GDP比で約1.4%増加\\n* **令和7年度:**  GDP比で約1.5%増加'}, {'question': '令和7年度の防衛予算における研究開発費の割合はどのくらいですか？ また、研究開発費は具体的にどのような分野に投資されていますか？', 'top_docs': [{'rank': 1, 'score': 0.9061295986175537, 'content': 'Ⅳ 共通基盤 ２研究開発 約６，３８７億円 (他分野を除くと約２，１８９億円 ) ➢科学技術の急速な進展を背景として戦い方の変革が加速化。将来の戦い方に直結する装 備技術分野に集中的に投資するとともに、研究開発プロセスに新しい手法を取り込むこと で、研究開発に要する期間を大幅に短縮し、 将来の戦いにおいて実効的に対処する能力を 早期に実現 する。 ➢技術の差が戦いの勝敗を決することから、将来の技術的優位を確保し、他国に先駆け先 進的な能力を実現するため、民生分野の先端技術を幅広く取り込むとともに、関係府省の プロジェクトと連携しつつ、防衛用途に直結し得る技術を対象に重点的投資に加え未知の 技術領域に対して果敢に挑戦することにより、将来の新たな戦い方を創出する防衛イノ ベーションを実現する。 (１)防衛イノベーションや画期的な装備品等を生み出す機能の抜本的強化 ○安全保障技術研究推進制度 (１１４億円 ) 大学等における革新的・萌芽的な技術についての基礎研究を公募する安全保障技術 研究推進制度を推進。より応募しやすい制度となるよう、これまでの委託費に加え 補助金を新設。（うち１０億円）。 ○ブレークスルー研究 (２０１億円 ) チャレンジングな目標にリスクを取って果敢に挑戦し、将来の戦い方を大きく変える機能・ 技術をスピード重視で創出していくブレークスルー研究を実施。 ○先進技術の橋渡し研究 (１７５億円 ) 民生分野や政府の科学技術投資で得られた研究の成果等の中から、革新的な装備品の研究 開発に資する有望な先進技術を育成し、防衛用途に取り込むための先進技術の橋渡し研究を 強力に推進。 (２)スタンド・オフ防衛能力 ○水中発射型垂直発射装置の研究 (２９７億円 ) 発射プラットフォームの更なる多様化及び水中優勢獲得のため、 潜水艦に搭載可能な垂直誘導弾発射システム (ＶＬＳ )を研究。 ○極超音速誘導弾の開発 (５８５億円 )【再掲】 (３)ＨＧＶ等対処能力 (統合防空ミサイル防衛能力 ) ○０３式中距離地対空誘導弾 (改善型 )能力向上の開発 (１４２億円 )  極超音速滑空兵器や弾道ミサイル対処を可能とするための能力向上を継続。 (４)ドローン・スウォーム攻撃等対処能力 (統合防空ミサイル防衛能力 ) ○艦載用レーザーシステムの研究 (１８３億円 )【再掲】 ○高出力マイクロ波 (ＨＰＭ )に関する研究 (８億円 )【再掲】水中発射型垂直発射装置の研究 (イメージ ) 誘導弾 VLS耐圧殻 VLS 36'}, {'rank': 2, 'score': 0.9049831032752991, 'content': '（単位：億円）単位：億円、％ 〔〕：構成比 歳出化経費の内訳 維持費等 17,769 〔41.2%〕 基地対策経費等 892 〔2.1%〕研究開発費 3,310 〔7.7%〕装備品等購入費 10,575 〔24.5%〕航空機購入費 3,250 〔7.5%〕艦船建造費等 2,713 〔6.3%〕施設整備費等 3,601 〔8.4%〕その他 1,009 〔2.3%〕 歳出化経費 令和７年度予算額 ４３，１１９億円 注１：ＳＡＣＯ関係経費及び米軍再編関係経費のうち地元負担軽減分に係る経費を除く。 注２：令和６年度予算には２０７億円、令和７年度予算には２０１億円のデジタル庁計上分を含む。項目令 和 ６ 年 度 予 算 額令 和 ７ 年 度 予 算 額対前年度 増△減額 維持費等 １６，７３２ １７，７６９ １，０３７ 油購入費 － １ １ 修理費 １５，９２４ １７，０５４ １，１３０ 教育訓練費等 ８０９ ７１３ △９５ 基地対策経費等 ８６９ ８９２ ２３ 研究開発費 １，９５９ ３，３１０ １，３５０ 装備品等購入費 ７，７８３ １０，５７５ ２，７９２ 航空機購入費 ５，２７６ ３，２５０ △２，０２７ 艦船建造費等 １，９８５ ２，７１３ ７２８ 施設整備費等 ２，４９６ ３，６０１ １，１０６ その他（電子計算機等借料 等）８２７ １，００９ １８２ 合 計 ３７，９２８ ４３，１１９ ５，１９１ 64'}, {'rank': 3, 'score': 0.9008138179779053, 'content': '（単位：億円）単位：億円、％ 〔〕：構成比 物件費（契約ベース）の内訳 維持費等 32,439 〔38.5%〕 基地対策経費等 5,336 〔6.3%〕 研究開発費 6,387 〔7.6%〕装備品等購入費 16,879 〔20.0%〕航空機購入費 7,607 〔9.0%〕艦船建造費等 4,643 〔5.5%〕施設整備費等 7,434 〔8.8%〕その他 3,608 〔4.3%〕 物件費（契約ベース） 令和７年度予算額 ８４，３３２億円 注１：ＳＡＣＯ関係経費及び米軍再編関係経費のうち地元負担軽減分に係る経費を除く。 注２：令和６年度予算には３６５億円、令和７年度予算には７１４億円のデジタル庁計上分を含む。項目令 和 ６ 年 度 予算額令 和 ７ 年 度 予算額対前年度 増△減額 維持費等 ３２，３２１ ３２，４３９ １１８ 油購入費 １，５７５ １，２９８ △２７７ 修理費 ２７，１７９ ２７，９３７ ７５８ 教育訓練費等 ３，５６７ ３，２０４ △３６３ 基地対策経費等 ５，１０８ ５，３３６ ２２８ 研究開発費 ８，３５０ ６，３８７ △１，９６３ 装備品等購入費 ２１，３０７ １６，８７９ △４，４２８ 航空機購入費 ９，４６７ ７，６０７ △１，８６１ 艦船建造費等 ７，６１８ ４，６４３ △２，９７５ 施設整備費等 ６，６９１ ７，４３４ ７４３ その他（電子計算機等借料等） ２，７６４ ３，６０８ ８４４ 合 計 ９３，６２５ ８４，３３２ △９，２９３ 65'}], 'generated_answer': '令和7年度の防衛予算における研究開発費の割合は、**7.6%**です。\\n研究開発費は、**安全保障技術研究推進制度**、**ブレークスルー研究**、**先進技術の橋渡し研究**の３つの分野に投資されています。'}, {'question': '令和7年度の防衛予算において、装備品費等は総額の何パーセントを占めていますか？', 'top_docs': [{'rank': 1, 'score': 0.8919253945350647, 'content': '（単位：億円）単位：億円、％ 〔〕：構成比 歳出化経費の内訳 維持費等 17,769 〔41.2%〕 基地対策経費等 892 〔2.1%〕研究開発費 3,310 〔7.7%〕装備品等購入費 10,575 〔24.5%〕航空機購入費 3,250 〔7.5%〕艦船建造費等 2,713 〔6.3%〕施設整備費等 3,601 〔8.4%〕その他 1,009 〔2.3%〕 歳出化経費 令和７年度予算額 ４３，１１９億円 注１：ＳＡＣＯ関係経費及び米軍再編関係経費のうち地元負担軽減分に係る経費を除く。 注２：令和６年度予算には２０７億円、令和７年度予算には２０１億円のデジタル庁計上分を含む。項目令 和 ６ 年 度 予 算 額令 和 ７ 年 度 予 算 額対前年度 増△減額 維持費等 １６，７３２ １７，７６９ １，０３７ 油購入費 － １ １ 修理費 １５，９２４ １７，０５４ １，１３０ 教育訓練費等 ８０９ ７１３ △９５ 基地対策経費等 ８６９ ８９２ ２３ 研究開発費 １，９５９ ３，３１０ １，３５０ 装備品等購入費 ７，７８３ １０，５７５ ２，７９２ 航空機購入費 ５，２７６ ３，２５０ △２，０２７ 艦船建造費等 １，９８５ ２，７１３ ７２８ 施設整備費等 ２，４９６ ３，６０１ １，１０６ その他（電子計算機等借料 等）８２７ １，００９ １８２ 合 計 ３７，９２８ ４３，１１９ ５，１９１ 64'}, {'rank': 2, 'score': 0.8893765211105347, 'content': '（単位：億円）単位：億円、％ 〔〕：構成比 物件費（契約ベース）の内訳 維持費等 32,439 〔38.5%〕 基地対策経費等 5,336 〔6.3%〕 研究開発費 6,387 〔7.6%〕装備品等購入費 16,879 〔20.0%〕航空機購入費 7,607 〔9.0%〕艦船建造費等 4,643 〔5.5%〕施設整備費等 7,434 〔8.8%〕その他 3,608 〔4.3%〕 物件費（契約ベース） 令和７年度予算額 ８４，３３２億円 注１：ＳＡＣＯ関係経費及び米軍再編関係経費のうち地元負担軽減分に係る経費を除く。 注２：令和６年度予算には３６５億円、令和７年度予算には７１４億円のデジタル庁計上分を含む。項目令 和 ６ 年 度 予算額令 和 ７ 年 度 予算額対前年度 増△減額 維持費等 ３２，３２１ ３２，４３９ １１８ 油購入費 １，５７５ １，２９８ △２７７ 修理費 ２７，１７９ ２７，９３７ ７５８ 教育訓練費等 ３，５６７ ３，２０４ △３６３ 基地対策経費等 ５，１０８ ５，３３６ ２２８ 研究開発費 ８，３５０ ６，３８７ △１，９６３ 装備品等購入費 ２１，３０７ １６，８７９ △４，４２８ 航空機購入費 ９，４６７ ７，６０７ △１，８６１ 艦船建造費等 ７，６１８ ４，６４３ △２，９７５ 施設整備費等 ６，６９１ ７，４３４ ７４３ その他（電子計算機等借料等） ２，７６４ ３，６０８ ８４４ 合 計 ９３，６２５ ８４，３３２ △９，２９３ 65'}, {'rank': 3, 'score': 0.8862661123275757, 'content': '項目令和６年度 予算額令和７年度 予算額対前年度 増△減額 維持費等 ・油購入費 ・修理費 ・教育訓練費 ・医療費等 ・営舎費等 （光熱水料、燃料費等）７，７５９ １，５７３ ３，６０８ ４７１ ３３３ １，７７４７，４７６ １，２８４ ３，５６４ ５１４ ３６８ １，７４７△２８３ △２８９ △４４ ４３ ３５ △２７ 基地対策経費等 ・基地周辺対策経費 ・同盟強靱化予算 (在日米軍駐留経費負担 ) ・施設の借料、補償経費等４，１２５ ８３９ １，８１１ １，４７６４，３５６ ８７３ １，９８４ １，４９９２３０ ３４ １７４ ２２ 研究開発費 ７０７ １，６１９ ９１２ 装備品等購入費等 ２，２１８ ２，２０５ △１３ 施設整備費等 ５４８ ６１９ ７１ その他（電子計算機等借料等） １，６７５ １，８４６ １７１ 合 計 １７，０３２ １８，１２１ １，０８９（単位：億円） 維持費等 7,476 〔41.3%〕 基地対策経費等 4,356 〔24.0%〕研究開発費 1,619 〔8.9%〕装備品等購入費等 2,205 〔12.2%〕施設整備費等 619〔3.4%〕その他 1,846 〔10.2%〕 一般物件費 令和７年度予算額 １８，１２１億円単位：億円、％ 〔〕：構成比 一般物件費（活動経費）の内訳 注１：ＳＡＣＯ関係経費及び米軍再編関係経費のうち地元負担軽減分に係る経費を除く。 注２：令和６年度予算には１１７億円、令和７年度予算には１１３億円のデジタル庁計上分を含む。 63'}], 'generated_answer': '装備品費等は令和7年度の防衛予算において、**24.5%**を占めています。'}]\n"
          ]
        }
      ],
      "source": [
        "print(results)"
      ]
    },
    {
      "cell_type": "markdown",
      "metadata": {
        "id": "QJEdlaEW-J-_"
      },
      "source": [
        "### 2.1.5 初期RAGによる回答結果の評価\n",
        "\n",
        "1.2で説明したGeminiAPIを利用した評価方法で評価します。"
      ]
    },
    {
      "cell_type": "code",
      "execution_count": null,
      "metadata": {
        "colab": {
          "base_uri": "https://localhost:8080/"
        },
        "id": "yBzysdhF-Jkq",
        "outputId": "369d3a27-f9fa-4aad-905b-16d08640bfce"
      },
      "outputs": [
        {
          "name": "stdout",
          "output_type": "stream",
          "text": [
            "評価結果:\n",
            "\n",
            "質問番号: 1\n",
            "質問内容: 令和7年度の防衛費の予算総額はいくらですか？また、その主要な内訳を具体的に説明してください。\n",
            "回答内容: 令和7年度の防衛費の予算総額は**43,119億円**です。\n",
            "その主要な内訳は以下の通りです。\n",
            "\n",
            "* **維持費等:** 41.3%  (7,476億円)\n",
            "* **基地対策経費等:** 24.0%  (4,356億円)\n",
            "* **研究開発費:** 8.9%  (1,619億円)\n",
            "* **装備品等購入費等:** 12.2%  (2,205億円)\n",
            "* **施設整備費等:** 3.4%  (619億円)\n",
            "* **その他:** 10.2%  (1,846億円)\n",
            "模範解答: 令和7年度の防衛費の予算総額は、歳出ベースで8兆4,748億円、契約ベースで8兆4,332億円です。\n",
            "\n",
            "その主要な内訳は以下の通りです。（歳出ベース）\n",
            "\n",
            "* 装備品費：3兆1,714億円\n",
            "* 需品費・施設費：1兆4,918億円\n",
            "* 人件・糧食費等：2兆9,186億円\n",
            "* 研究開発費：8,176億円\n",
            "* 施設整備費：7,586億円\n",
            "* その他：3,168億円\n",
            "評価: 0\n",
            "評価理由: 生成された回答は、予算総額と内訳の金額が模範解答と全く異なっており、単位も異なっています。また、内訳の項目も模範解答と大きく異なっており、全体的に誤った情報を提供しているため、全く不正確と評価します。\n",
            "\n",
            "質問番号: 2\n",
            "質問内容: 令和7年度の防衛力整備計画で重視されている7つの分野は何ですか？ それぞれの分野における具体的な取り組みの例を挙げてください。\n",
            "回答内容: 令和7年度の防衛力整備計画で重視されている7つの分野は以下の通りです。\n",
            "\n",
            "1. **スタンド・オフ 防衛能力**：〇トマホークの取得1年前倒し、〇島嶼防衛用高速滑空弾の事前発射試験の実施など、海上自衛官等に対する要員養成教育の開始など、海上自衛能力の強化を図っています。\n",
            "2. **統合防空ミサイル**：イージス・システム搭載艦の2隻の建造契約の締結など、統合防空ミサイルの運用能力を強化しています。\n",
            "3. **ＧＰＩの日米共同開発**：GPIの日米共同開発に係る開発コンセプトの決定など、日米の連携を強化しています。\n",
            "4. **無人アセット**：各種無人アセットの運用実証の実施など、無人アセットの運用能力を強化しています。\n",
            "5. **領域横断作戦能力**：航空自衛隊の第2宇宙システム管理隊の新編など、宇宙・サイバー・陸海空領域における作戦能力の強化を図っています。\n",
            "6. **指揮統制・情報連携機能**：防衛省クラウドへの集約に向け、各自衛隊クラウドに係るシステム設計・製造に着手など、情報連携機能の強化を図っています。\n",
            "7. **持続性・強靱性**：全国で12施設における57棟の火薬庫の新設など、弾薬・維持整備・施設の強靱化を図っています。\n",
            "模範解答: 令和7年度の防衛力整備計画で重視されている7つの分野は以下の通りです。\n",
            "\n",
            "1.  スタンド・オフ防衛能力の強化\n",
            "2.  統合防空ミサイル防衛能力の強化\n",
            "3.  無人アセット防衛能力の強化\n",
            "4.  宇宙・サイバー・電磁波領域における能力の強化\n",
            "5.  情報機能の強化\n",
            "6.  輸送能力の強化\n",
            "7.  持続性・強靭性の強化\n",
            "\n",
            "具体的な取り組みの例については、資料の2ページ「II．主要経費 (1) 重点的な整備・強化を行う主要分野」に記載されています。\n",
            "評価: 2\n",
            "評価理由: 生成された回答は、質問に部分的に答えています。\n",
            "* **正確な点:** 令和7年度の防衛力整備計画で重視されている分野を7つ示している点は正しいです。しかし、模範解答と完全に一致しているわけではありません。（例：GPIの日米共同開発は、宇宙・サイバー・電磁波領域における能力の強化に近いですが、厳密には異なります。）\n",
            "* **不正確な点/曖昧な点:**\n",
            "    * 分野名が模範解答と完全に一致していません。\n",
            "    * 各分野における具体的な取り組みの例は示されていますが、質問で求められている「具体的な取り組みの例」にどこまで合致しているか不明確です。\n",
            "    * 「ＧＰＩの日米共同開発」は分野名として不適切です。\n",
            "    * いくつかの例は具体的な取り組みというより、現状の説明に近いものがあります。（例：「航空自衛隊の第2宇宙システム管理隊の新編」）\n",
            "    * 全体的に説明が不足しており、資料を参照しないと詳細が分かりません。\n",
            "\n",
            "模範解答では具体的な取り組みの例は資料の2ページを参照するように指示されており、生成された回答は必ずしも間違っているとは言えませんが、質問に十分答えているとは言えません。\n",
            "\n",
            "質問番号: 3\n",
            "質問内容: 過去5年間の日本の防衛費の推移を説明してください。特に、GDP比での変化に着目してください。\n",
            "回答内容: 過去5年間の日本の防衛費の推移を説明してください。特に、GDP比での変化に着目してください。\n",
            "\n",
            "\n",
            "**解答:**\n",
            "\n",
            "日本の防衛費の推移は、過去5年間で、**GDP比で増加傾向**にあります。 \n",
            "\n",
            "具体的な推移は以下の通りです。\n",
            "\n",
            "* **令和6年度:**  GDP比で約1.4%増加\n",
            "* **令和7年度:**  GDP比で約1.5%増加\n",
            "模範解答: 資料には令和7年度の予算概要のみが記載されており、過去5年間の防衛費の推移に関する具体的な数値データは含まれていません。そのため、この資料のみで過去5年間の防衛費の推移とGDP比での変化を説明することはできません。\n",
            "評価: 0\n",
            "評価理由: 回答は「GDP比で増加傾向」と述べているものの、具体的な数値が誤っています。令和6年度、7年度という未来の年度を提示している点も不適切です。模範解答が指摘するように、与えられた情報だけでは過去5年間の推移を正確に説明することはできません。したがって、回答は全く不正確であり、質問に答えていません。\n",
            "\n",
            "質問番号: 4\n",
            "質問内容: 令和７年度の防衛予算において、自衛官等の給与・手当等の見直しに関する予算額と主要項目を含めて説明してください。\n",
            "回答内容: **\n",
            "\n",
            "令和７年度の防衛予算において、自衛官等の給与・手当等の見直しに関する予算額は **４，０９７億円** です。\n",
            "\n",
            "主要項目は以下の通りです。\n",
            "\n",
            "* **生活・勤務環境の改善**:  \n",
            "    * 3,878億円：組織文化の改革、営舎内居室の個室化等の推進、庁舎・隊舎の改修や修繕、備品や日用品等の整備など。\n",
            "    *  **主な改善策**:\n",
            "        *  自衛官候補生の2士任用時に支給する自衛官任用一時金の引上げ\n",
            "        *  予備自衛官手当の年額48,000円→ 147,600円\n",
            "        *  訓練招集手当（予備自\n",
            "模範解答: 令和7年度の防衛予算において、自衛官等の給与・手当等の見直しの予算額は**168億円**です。主な項目は、自衛官等の生活・勤務環境の特殊性等に関する処遇改善策、自衛隊の任務の特殊性に関する処遇改善策などです。\n",
            "評価: 1\n",
            "評価理由: 回答の冒頭で示されている予算額が模範解答と大きく異なっている（4,097億円 vs 168億円）。また、主要項目として挙げられている「生活・勤務環境の改善」に関する予算額も3,878億円と記載されているが、これは給与・手当の見直しに関する予算とは異なるため、質問に対する直接的な回答とは言えない。さらに、具体的な改善策として挙げられている内容も、模範解答とは異なる点が多く、全体的に不正確な情報に基づいていると判断できる。予備自衛官手当の金額についても誤りが見られる。\n",
            "\n",
            "質問番号: 5\n",
            "質問内容: 令和7年度の防衛予算で新たに取得する哨戒機の合計機数と合計金額はいくらですか？\n",
            "回答内容: 令和7年度の防衛予算で新たに取得する哨戒機の合計機数と合計金額は？\n",
            "\n",
            "\n",
            "**解答:**\n",
            "新型ＦＦＭの建造は３隻で、3,148億円です。\n",
            "模範解答: 令和7年度防衛省予算で取得を計画しているのは、固定翼哨戒機（Ｐ－１）**2機**（848億円）と回転翼哨戒機（ＳＨ－６０Ｌ）**2機**（293億円）であり、合計は**4機**、**1,141億円**です。\n",
            "評価: 0\n",
            "評価理由: 生成された回答は、質問に全く答えていません。質問は哨戒機に関する機数と金額を尋ねているのに対し、回答は新型FFM（フリゲート）の建造数と金額を述べています。質問との関連性が全くなく、完全に的外れな情報を提供しているため、評価は0です。\n",
            "\n",
            "---\n",
            "合計点数: 3\n",
            "平均値: 0.60\n",
            "\n",
            "評価結果を '/content/drive/MyDrive/Colab Notebooks/AIengineering2025_colab/DAY3/data/row_rag_result.json' に保存しました。\n",
            "評価の概要を '/content/drive/MyDrive/Colab Notebooks/AIengineering2025_colab/DAY3/data/row_rag_result_summary.json' に保存しました。\n"
          ]
        }
      ],
      "source": [
        "from langchain_google_genai import ChatGoogleGenerativeAI\n",
        "import json\n",
        "import re  # 正規表現モジュールを追加\n",
        "import os\n",
        "\n",
        "# **ここにあなたの Google AI Studio の API キーを入力してください**\n",
        "GOOGLE_API_KEY = \"\"\n",
        "\n",
        "# 使用するモデル\n",
        "model_name = \"gemini-2.0-flash\"\n",
        "\n",
        "# Gemini Pro モデルの初期化\n",
        "gemini_llm = ChatGoogleGenerativeAI(model=model_name, google_api_key=GOOGLE_API_KEY)\n",
        "\n",
        "def evaluate_accuracy_with_gemini(question: str, answer: str, model_answer: str):\n",
        "    \"\"\"\n",
        "    Geminiを使ってLLMの回答の正確性を評価する関数（コンテキストなし、質問と模範解答で評価）。\n",
        "\n",
        "    Args:\n",
        "        question: 元の質問。\n",
        "        answer: 生成された回答。\n",
        "        model_answer: 模範解答。\n",
        "\n",
        "    Returns:\n",
        "        tuple: 評価スコア (int) と理由 (str)。評価に失敗した場合は None, エラーメッセージ。\n",
        "    \"\"\"\n",
        "    evaluation_prompt = f\"\"\"以下の情報に基づいて、生成された回答の正確性を0から4のスケールで評価してください。\n",
        "\n",
        "    評価スケール：\n",
        "    0: 全く不正確。回答の全てまたは主要な部分が誤っており、質問に対して全く的外れな情報を提供している。\n",
        "    1: ほぼ不正確。回答の大部分が不正確であるか、誤った情報に基づいている。わずかに正しい情報が含まれている程度。\n",
        "    2: 部分的に正確。回答には正確な情報も含まれているが、重要な誤りや不確かな点、または誤解を招く可能性のある記述が含まれている。\n",
        "    3: ほぼ正確。回答の大部分は正確であり、質問に対して適切に答えている。しかし、細部にわずかな不正確さ、曖昧さ、または重要でない情報の欠落が見られる場合がある。\n",
        "    4: 完全に正確。回答は質問に対して適切かつ網羅的に答えており、提示された情報に誤りや不確かな点は一切なく、特に模範解答の内容と照らし合わせて評価してください。\n",
        "\n",
        "    質問: {question}\n",
        "    生成された回答: {answer}\n",
        "    模範解答: {model_answer}\n",
        "\n",
        "    評価（0〜4の整数値）：\n",
        "    理由：\n",
        "    \"\"\"\n",
        "\n",
        "    try:\n",
        "        response = gemini_llm.invoke(evaluation_prompt)\n",
        "        parts = response.content.split(\"理由：\", 1)\n",
        "        evaluation_str = parts[0].replace(\"評価（0〜4の整数値）：\", \"\").replace(\"評価：\", \"\").strip()\n",
        "        match = re.search(r'\\d+', evaluation_str)\n",
        "        if match:\n",
        "            score = int(match.group(0))\n",
        "        else:\n",
        "            score = None\n",
        "        reason = parts[1].strip() if len(parts) > 1 else \"理由の抽出に失敗しました。\"\n",
        "        return score, reason\n",
        "    except Exception as e:\n",
        "        return None, f\"評価エラー: {e}\"\n",
        "\n",
        "# 設定\n",
        "output_file = datafolder + \"row_rag_responses.json\" # LLMの出力先のJSONファイル名\n",
        "questions_file = datafolder + \"Q&A.json\" # 元の質問と模範解答のファイル名\n",
        "result_file = datafolder + \"row_rag_result.json\" # 評価結果を格納するファイル名\n",
        "summary_file = datafolder + \"row_rag_result_summary.json\" # 評価概要を格納するファイル名\n",
        "# datafolder = \"\" # 必要に応じてデータフォルダのパスを設定\n",
        "\n",
        "# JSONファイルから質問と回答を読み込む\n",
        "try:\n",
        "    with open(output_file, 'r', encoding='utf-8') as f:\n",
        "        llm_outputs = json.load(f)\n",
        "except FileNotFoundError:\n",
        "    print(f\"エラー: ファイル '{output_file}' が見つかりません。\")\n",
        "    exit()\n",
        "except json.JSONDecodeError:\n",
        "    print(f\"エラー: ファイル '{output_file}' のJSON形式が不正です。\")\n",
        "    exit()\n",
        "\n",
        "# JSONファイルから元の質問と模範解答を読み込む\n",
        "try:\n",
        "    with open(questions_file, 'r', encoding='utf-8') as f:\n",
        "        questions_data = json.load(f)\n",
        "except FileNotFoundError:\n",
        "    print(f\"エラー: ファイル '{questions_file}' が見つかりません。\")\n",
        "    exit()\n",
        "except json.JSONDecodeError:\n",
        "    print(f\"エラー: ファイル '{questions_file}' のJSON形式が不正です。\")\n",
        "    exit()\n",
        "\n",
        "evaluation_results = []\n",
        "total_score = 0\n",
        "num_evaluated = 0\n",
        "\n",
        "print(\"評価結果:\")\n",
        "for i, item in enumerate(llm_outputs):\n",
        "    if i < len(questions_data):\n",
        "        original_question = questions_data[i][\"質問\"]\n",
        "        model_answer = questions_data[i].get(\"模範解答\", \"模範解答が提供されていません\")\n",
        "        llm_answer = item.get(\"回答\", \"回答がありません\")\n",
        "\n",
        "        print(f\"\\n質問番号: {i+1}\")\n",
        "        print(f\"質問内容: {original_question}\")\n",
        "        # print(f\"回答番号: {i+1}\")\n",
        "        print(f\"回答内容: {llm_answer}\")\n",
        "        print(f\"模範解答: {model_answer}\")\n",
        "\n",
        "        evaluation_result = evaluate_accuracy_with_gemini(original_question, llm_answer, model_answer)\n",
        "\n",
        "        result_entry = {\n",
        "            \"質問番号\": i + 1,\n",
        "            \"質問内容\": original_question,\n",
        "            \"回答番号\": i + 1,\n",
        "            \"回答内容\": llm_answer,\n",
        "            \"模範解答\": model_answer\n",
        "        }\n",
        "\n",
        "        if evaluation_result[0] is not None:\n",
        "            score, reason = evaluation_result\n",
        "            print(f\"評価: {score}\")\n",
        "            print(f\"評価理由: {reason}\")\n",
        "            result_entry[\"評価\"] = score\n",
        "            result_entry[\"評価理由\"] = reason\n",
        "            total_score += score\n",
        "            num_evaluated += 1\n",
        "        else:\n",
        "            print(f\"評価エラー: {evaluation_result[1]}\")\n",
        "            result_entry[\"評価エラー\"] = evaluation_result[1]\n",
        "\n",
        "        evaluation_results.append(result_entry)\n",
        "\n",
        "    else:\n",
        "        print(f\"\\nエラー: 生成された回答の数({len(llm_outputs)})が、元の質問の数({len(questions_data)})を超えています。\")\n",
        "        break\n",
        "\n",
        "print(\"\\n---\")\n",
        "summary = {}\n",
        "if num_evaluated > 0:\n",
        "    average_score = total_score / num_evaluated\n",
        "    summary[\"合計点数\"] = total_score\n",
        "    summary[\"平均値\"] = average_score\n",
        "    print(f\"合計点数: {total_score}\")\n",
        "    print(f\"平均値: {average_score:.2f}\")\n",
        "else:\n",
        "    summary[\"エラー\"] = \"評価を実行できませんでした。\"\n",
        "    print(\"評価を実行できませんでした。\")\n",
        "\n",
        "# 評価結果をJSONファイルに保存\n",
        "try:\n",
        "    with open(result_file, 'w', encoding='utf-8') as f:\n",
        "        json.dump(evaluation_results, f, ensure_ascii=False, indent=4)\n",
        "    print(f\"\\n評価結果を '{result_file}' に保存しました。\")\n",
        "    if summary:\n",
        "        with open(summary_file, 'w', encoding='utf-8') as f:\n",
        "            json.dump(summary, f, ensure_ascii=False, indent=4)\n",
        "        print(f\"評価の概要を '{summary_file}' に保存しました。\")\n",
        "\n",
        "except Exception as e:\n",
        "    print(f\"エラー: 評価結果のJSONファイルへの保存に失敗しました: {e}\")"
      ]
    },
    {
      "cell_type": "markdown",
      "metadata": {
        "id": "Bn7tih0RTTzr"
      },
      "source": [
        "###2.1.5 テキスト整形なしRAG（初期RAG）の結果\n",
        "\n",
        "テキストの整形なしでRAGを使いましたが、スコアが向上しませんでした。なぜかは最後に考察します。\n",
        "\n"
      ]
    },
    {
      "cell_type": "code",
      "execution_count": null,
      "metadata": {
        "colab": {
          "base_uri": "https://localhost:8080/"
        },
        "id": "LXKs_tjrhu4n",
        "outputId": "ba2d0855-bb45-40df-beab-fd059e4561d6"
      },
      "outputs": [
        {
          "name": "stdout",
          "output_type": "stream",
          "text": [
            "合計点数: 3\n",
            "平均値: 0.60\n"
          ]
        }
      ],
      "source": [
        "print(f\"合計点数: {total_score}\")\n",
        "print(f\"平均値: {average_score:.2f}\")"
      ]
    },
    {
      "cell_type": "markdown",
      "metadata": {
        "id": "8zdBKLVPy6FI"
      },
      "source": [
        "合計点数: 3\n",
        "平均値: 0.60"
      ]
    },
    {
      "cell_type": "markdown",
      "metadata": {
        "id": "d-lKuaCSVp_s"
      },
      "source": [
        "## 2.2 テキスト整形による品質改善検証（品質改善？RAG)\n",
        "\n",
        "\n",
        "　DAY３の講義において、データをきれいにすることが重要であるとの言及があったことから、さらなる精度向上を目指して、テキストファイルの整形を試みました。\n",
        "\n",
        "　手動でテキストをきれいにするのは手間ですので正規表現などを用いて自動で整形しました。（別ファイルPDFtoChank.ipynbにて実施）\n",
        "整形の方針は、無駄な空白を除く、無駄な改行を除く、必要な改行を入れる。の３点を実施しました。"
      ]
    },
    {
      "cell_type": "markdown",
      "metadata": {
        "id": "VEx-2j0iCoU-"
      },
      "source": [
        "### 2.2.1 テキスト整形した参照文書のベクトル化\n",
        "\n",
        "\n",
        "参照文書のテキストの整形を行い、ページごとにチャンクに分けてJSONファイル化しています。（チャンク分割、JSONファイル化は別ノートブック「PDFtoChank.ipynb」にて実施）\n",
        "これを、整形なしの文書と同様、ベクトル化します。\n",
        "embeddingのモデルは同様に「sarashina-embedding-v1-1b」\n",
        "\n",
        "\n"
      ]
    },
    {
      "cell_type": "code",
      "execution_count": null,
      "metadata": {
        "id": "cKEKAvMBjc2y"
      },
      "outputs": [],
      "source": [
        "from sentence_transformers import SentenceTransformer\n",
        "\n",
        "# モデルの読み込み（初回のみDL）\n",
        "model = SentenceTransformer(\"sbintuitions/sarashina-embedding-v1-1b\")"
      ]
    },
    {
      "cell_type": "code",
      "execution_count": null,
      "metadata": {
        "colab": {
          "base_uri": "https://localhost:8080/",
          "height": 69,
          "referenced_widgets": [
            "41fe83f6174b4d719334bfa4d3d78740",
            "f43e7df757e84341aeed2c86dbc3238f",
            "ec98bfd69c9d4a698eb6aeb69b7f6eec",
            "9e5ce9f5574a49f98266ba2009bc2c56",
            "f8ca0dde92734776b27c4e08c8126fb7",
            "4448eca006f24fa3a3ca2c165e6685f8",
            "8c61341ad23248d38850a87e21358b50",
            "ba4006eabfcf41e89926d64334ab7373",
            "d18b11aba9c44fbba1b54dfb5aaf395e",
            "30fd21fa20d449e6b025cf62ec5cd37f",
            "41ccb06284ab439cb43b73d0571bf9d6"
          ]
        },
        "id": "9xn_mdg3EgWY",
        "outputId": "67db61b1-671e-4f54-e71c-006f8954a5b3"
      },
      "outputs": [
        {
          "data": {
            "application/vnd.jupyter.widget-view+json": {
              "model_id": "41fe83f6174b4d719334bfa4d3d78740",
              "version_major": 2,
              "version_minor": 0
            },
            "text/plain": [
              "Batches:   0%|          | 0/3 [00:00<?, ?it/s]"
            ]
          },
          "metadata": {},
          "output_type": "display_data"
        }
      ],
      "source": [
        "import json\n",
        "# import faiss\n",
        "import numpy as np\n",
        "from tqdm import tqdm\n",
        "\n",
        "pattern1_file = datafolder + \"pattern2_cleand_pages.json\"\n",
        "\n",
        "# JSONファイルの読み込み\n",
        "with open(pattern1_file, \"r\", encoding=\"utf-8\") as f:\n",
        "    raw_data = json.load(f)\n",
        "\n",
        "# データ準備\n",
        "documents = []\n",
        "metadata = []\n",
        "\n",
        "for item in raw_data:\n",
        "    content = item[\"content\"].replace(\"\\n\", \" \").strip()\n",
        "    title = item[\"title\"]\n",
        "    documents.append(content)\n",
        "    metadata.append({\"title\": title, \"content\": content})\n",
        "\n",
        "# エンベディング生成\n",
        "documents_embeddings = model.encode(documents, show_progress_bar=True, convert_to_numpy=True)"
      ]
    },
    {
      "cell_type": "markdown",
      "metadata": {
        "id": "HDXkzr2TE8Gq"
      },
      "source": [
        "### 2.2.2 質問とドキュメントの類似度の算出\n",
        "\n",
        "質問は同じものを用いるので、次は類似度の算出です。同様にコサイン類似度で算出し、結果をJSONファイルに書き出します。\n",
        "\n",
        "保存するファイル名は、**pattern2_similarity.json** です。"
      ]
    },
    {
      "cell_type": "code",
      "execution_count": null,
      "metadata": {
        "colab": {
          "base_uri": "https://localhost:8080/"
        },
        "id": "V1watG87Fn8f",
        "outputId": "c6de4c1a-d3f9-4e97-d3bb-4ccc0ea20d0a"
      },
      "outputs": [
        {
          "name": "stdout",
          "output_type": "stream",
          "text": [
            "rank: 1\n",
            "score: 0.9183233976364136\n",
            "doc_content: 防衛省Ministry of  Defense防衛力抜本的強化の進捗と予算令和７年度予算の概要\n",
            "rank: 2\n",
            "score: 0.9132819771766663\n",
            "doc_content: ○我が国は戦後最も厳しく複雑な安全保障環境に直面しているという基本認識の下、国家防衛戦略 ※1及び防衛力整備計画 ※2に基づき、整備計画期間内の防衛力抜本的強化実現に向け、3年目となる令和7年度においても、引き続き必要かつ十分な予算を確保。 －歳出ベースは、整備計画期間中のこれまでの事業の進捗状況や予算の執行状況も踏まえ、予算額を着実に増額し、整備計画対象経費として ８兆 ４, ７４８億円を計上。 －契約ベースは、5年目の令和9年度に向けて、令和7年度中に着手すべき事業を積み上げ、整備計画対象経費として ８兆 ４, ３３２億円を計上。 （今年度までと合わせると、整備計画の実施に必要な契約額 43.5兆円のうち既計上分は ６２％） ○衛星コンステレーションの構築等によるスタンド・オフ防衛能力の強化など、将来の防衛力の中核となる分野を始めとする、7つの重点分野を推進。可動数向上、弾薬確保とともに、防衛施設の強靱化への投資を引き続き重視。防衛生産・技術基盤の強化を推進。基地周辺対策を推進し、米軍再編を着実に実施。 ○特に、自衛官の現下の厳しい募集状況に鑑み、令和6年10月に設置された関係閣僚会議 ※3において取りまとめられた基本方針を踏まえ、人的基盤の強化に係る施策に迅速に取り組み、自衛官であること、また、自衛官であったことの誇りと名誉を得ることができるような、令和の時代に相応しい処遇を確立していく。 ○15区分の配分額の中できめ細やかに進捗状況を管理。足下の物価高・円安の中、引き続き、経費の精査と装備品の効率的な取得を一層推進。 Ⅱ令和7年度予算～基本的な考え方～4 ※1国家防衛戦略（令和4年12月16日国家安全保障会議決定・閣議決定） ※2防衛力整備計画（令和4年12月16日国家安全保障会議決定・閣議決定） ※3自衛官の処遇・勤務環境の改善及び新たな生涯設計の確立に関する関係閣僚会議\n",
            "rank: 3\n",
            "score: 0.9085988402366638\n",
            "doc_content: 項目令和６年度予算額令和７年度予算額対前年度増△減額維持費等・油購入費・修理費・教育訓練費・医療費等・営舎費等（光熱水料、燃料費等） ７， ７５９１， ５７３３， ６０８４７１３３３１， ７７４７， ４７６１， ２８４３， ５６４５１４３６８１， ７４７△ ２８３△ ２８９△ ４４４３３５△ ２７基地対策経費等・基地周辺対策経費・同盟強靱化予算(在日米軍駐留経費負担)・施設の借料、補償経費等 ４， １２５８３９１， ８１１１， ４７６４， ３５６８７３１， ９８４１， ４９９２３０３４１７４２２研究開発費 ７０７１， ６１９９１２装備品等購入費等 ２， ２１８２， ２０５△ １３施設整備費等 ５４８６１９７１その他（電子計算機等借料等） １， ６７５１， ８４６１７１合計 １７， ０３２１８， １２１１， ０８９（単位：億円）維持費等7,476〔 41.3%〕基地対策経費等4,356〔 24.0%〕研究開発費1,619〔 8.9%〕装備品等購入費等2,205〔 12.2%〕施設整備費等619〔 3.4%〕その他1,846〔 10.2%〕一般物件費令和７年度予算額 １８， １２１億円単位：億円、％〔〕：構成比一般物件費（活動経費）の内訳注 １：ＳＡＣＯ関係経費及び米軍再編関係経費のうち地元負担軽減分に係る経費を除く。 注 ２：令和６年度予算には １１７億円、令和７年度予算には １１３億円のデジタル庁計上分を含む。 63\n",
            "rank: 1\n",
            "score: 0.9122273325920105\n",
            "doc_content: 7つの重視分野抜本的強化の進捗状況(一例)スタンド・オフ防衛能力 〇トマホークの取得１年前倒し(2026年度→2025年度) 〇トマホーク運用のための海上自衛官等に対する要員養成教育を開始(2024年3月～10月) 〇島嶼防衛用高速滑空弾の事前発射試験実施(2024年4月) 〇 １２式地対艦誘導弾能力向上型(地発型)の配備１年前倒し(2026年度→2025年度) 〇12式地対艦誘導弾能力向上型の発射試験実施(2024年10～11月)統合防空ミサイル防衛能力 ○イージス・システム搭載艦2隻の建造契約を締結(2024年8・9月) ○ＧＰＩの日米共同開発に係る開発コンセプトを決定(2024年9月) ※GPI: Glide Phase Interceptor(滑空段階迎撃用誘導弾)無人アセット防衛能力 ○2023年度中に合計 １０機種の各種ＵＡＶの運用実証を実施 ○各種無人アセットに関する研究開発を推進 ○滞空型ＵＡＶの機種として「ＭＱ― ９Ｂ(シーガーディアン)」を選定(2024年11月) Ⅰ防衛力整備計画の進捗状況 ○我が国の防衛上必要な機能・能力として、次の７つの分野を重視して、防衛力の抜本的強化を推進。 ○事業の進捗管理を徹底し、概ね計画どおり進捗。 ○令和７年度予算においても、計画期間内の防衛力抜本的強化実現のため、令和７年度中に着手すべき事業を計上。 島嶼防衛用高速滑空弾トマホーク(イメージ)イージス・システム搭載艦(イメージ)【研究開発】長期運用型UUV(イメージ)2 １２式地対艦誘導弾能力向上型滞空型UAV\n",
            "rank: 2\n",
            "score: 0.9072676301002502\n",
            "doc_content: 防衛力の抜本的強化を補完し、それと不可分一体のものとして、研究開発、公共インフラ整備、サイバー安全保障、我が国及び同志国の抑止力の向上等のための国際協力の四つの分野における取組を関係省庁の枠組みの下で推進。 【研究開発】 ○関係省庁の枠組みの下、防衛省の意見を踏まえた研究開発ニーズと関係省庁が有する技術シーズを合致させることにより、総合的な防衛体制の強化に資する科学技術の研究開発を推進。 ○総合的な防衛体制の強化にも資する重要な技術課題として当面推進していくものを整理した「重要技術課題」を踏まえ、関係省庁の民生利用目的の研究の中から「マッチング事業」を認定。 【公共インフラ整備】 ○安全保障環境を踏まえた対応を実効的に行うため、自衛隊・海上保安庁が、平素から必要な空港・港湾を円滑に利用できるよう、インフラ管理者との間で「円滑な利用に関する枠組み」を設けた空港・港湾を「特定利用空港・港湾」とし、民生利用を主としつつ、円滑な利用に資する整備等を実施中。 〇さらに、自衛隊・海上保安庁のニーズを踏まえ、インフラ管理者等との調整を進め、本取組の更なる充実化を図る。その一環として、 ２０２５年度から、「特定利用空港・港湾」と自衛隊の駐屯地等とのアクセスの向上に向けた道路ネットワークの整備を本取組の対象に追加。 【サイバー安全保障】 ○能動的サイバー防御の導入など、サイバー安全保障分野における対応能力を欧米主要国と同等以上に向上させる方針。この実現に向け、有識者会議において ２０２４年 １１月に提言をとりまとめ、 ２０２５年 ２月にサイバー対処能力強化法案及び同法の施行に伴う整備法案が閣議決定され、国会に提出された。また、並行して、サイバー安全保障に係る機能・体制の強化を推進。 【我が国及び同志国の抑止力の向上等のための国際協力】 ○ＯＳＡ（政府安全保障能力強化支援）は、同志国の安全保障上の能力や抑止力の強化に貢献することを目的とした、軍等が裨益者となる無償資金協力の枠組み。創設２年目の ２０２４年度は、フィリピン、インドネシア、モンゴル、ジブチへの供与を決定。 ２０２５年度はインド太平洋地域を中心に対象国の拡大等を検討。(参考)総合的な防衛体制の強化の取組状況総合的な防衛体制の強化59\n",
            "rank: 3\n",
            "score: 0.9070308208465576\n",
            "doc_content: ○我が国は戦後最も厳しく複雑な安全保障環境に直面しているという基本認識の下、国家防衛戦略 ※1及び防衛力整備計画 ※2に基づき、整備計画期間内の防衛力抜本的強化実現に向け、3年目となる令和7年度においても、引き続き必要かつ十分な予算を確保。 －歳出ベースは、整備計画期間中のこれまでの事業の進捗状況や予算の執行状況も踏まえ、予算額を着実に増額し、整備計画対象経費として ８兆 ４, ７４８億円を計上。 －契約ベースは、5年目の令和9年度に向けて、令和7年度中に着手すべき事業を積み上げ、整備計画対象経費として ８兆 ４, ３３２億円を計上。 （今年度までと合わせると、整備計画の実施に必要な契約額 43.5兆円のうち既計上分は ６２％） ○衛星コンステレーションの構築等によるスタンド・オフ防衛能力の強化など、将来の防衛力の中核となる分野を始めとする、7つの重点分野を推進。可動数向上、弾薬確保とともに、防衛施設の強靱化への投資を引き続き重視。防衛生産・技術基盤の強化を推進。基地周辺対策を推進し、米軍再編を着実に実施。 ○特に、自衛官の現下の厳しい募集状況に鑑み、令和6年10月に設置された関係閣僚会議 ※3において取りまとめられた基本方針を踏まえ、人的基盤の強化に係る施策に迅速に取り組み、自衛官であること、また、自衛官であったことの誇りと名誉を得ることができるような、令和の時代に相応しい処遇を確立していく。 ○15区分の配分額の中できめ細やかに進捗状況を管理。足下の物価高・円安の中、引き続き、経費の精査と装備品の効率的な取得を一層推進。 Ⅱ令和7年度予算～基本的な考え方～4 ※1国家防衛戦略（令和4年12月16日国家安全保障会議決定・閣議決定） ※2防衛力整備計画（令和4年12月16日国家安全保障会議決定・閣議決定） ※3自衛官の処遇・勤務環境の改善及び新たな生涯設計の確立に関する関係閣僚会議\n",
            "rank: 1\n",
            "score: 0.8739718198776245\n",
            "doc_content: （単位：億円）(説明) ○歳出ベース：装備品の取得や施設整備などの事業について、当該年度に支払われる額の合計。 つまり、令和７年度の契約に基づき、令和７年度に支払われる経費（一般物件費）と、令和６年度以前の契約に基づき、令和７年度に支払われる経費（歳出化経費）の合計。会計年度独立を原則とする政府の歳出予算全体に防衛関係費が占める割合などを把握する上で有益な視点。 ○契約ベース：装備品の取得や施設整備などの事業について、当該年度に結ぶ契約額の合計。 つまり、令和７年度の契約に基づき、令和７年度に支払われる経費と、令和８年度以降に支払われる経費（新規後年度負担）の合計。防衛力整備に関する各年度の事業について、各事業単位で経費の総額などを把握する上で有益な視点。 防衛力整備においては、艦船や航空機等の主要な装備の調達、また、格納庫・隊舎等の建設など、複数年度を要するものが多い。このため、複数年度に及ぶ契約（原則５年以内）を行い、将来の一定時期に支払うことを契約時にあらかじめ国が約束をする。 後年度負担とは、このような複数年度に及ぶ契約に基づき、契約の翌年度以降に支払われる経費。 （例） １００億円の装備を４年間に及ぶ契約で調達する場合令和７年度令和８年度令和９年度令和 １０年度↓一部支払（ １０億円）一般物件費↓一部支払（ １０億円）歳出化経費↓一部支払（ ２０億円）歳出化経費↓残額支払（ ６０億円）歳出化経費後年度負担額（ ９０億円）契約額（ １００億円）契約納入物件費の内訳と分類後年度負担の考え方62\n",
            "rank: 2\n",
            "score: 0.8633838891983032\n",
            "doc_content: ○我が国は戦後最も厳しく複雑な安全保障環境に直面しているという基本認識の下、国家防衛戦略 ※1及び防衛力整備計画 ※2に基づき、整備計画期間内の防衛力抜本的強化実現に向け、3年目となる令和7年度においても、引き続き必要かつ十分な予算を確保。 －歳出ベースは、整備計画期間中のこれまでの事業の進捗状況や予算の執行状況も踏まえ、予算額を着実に増額し、整備計画対象経費として ８兆 ４, ７４８億円を計上。 －契約ベースは、5年目の令和9年度に向けて、令和7年度中に着手すべき事業を積み上げ、整備計画対象経費として ８兆 ４, ３３２億円を計上。 （今年度までと合わせると、整備計画の実施に必要な契約額 43.5兆円のうち既計上分は ６２％） ○衛星コンステレーションの構築等によるスタンド・オフ防衛能力の強化など、将来の防衛力の中核となる分野を始めとする、7つの重点分野を推進。可動数向上、弾薬確保とともに、防衛施設の強靱化への投資を引き続き重視。防衛生産・技術基盤の強化を推進。基地周辺対策を推進し、米軍再編を着実に実施。 ○特に、自衛官の現下の厳しい募集状況に鑑み、令和6年10月に設置された関係閣僚会議 ※3において取りまとめられた基本方針を踏まえ、人的基盤の強化に係る施策に迅速に取り組み、自衛官であること、また、自衛官であったことの誇りと名誉を得ることができるような、令和の時代に相応しい処遇を確立していく。 ○15区分の配分額の中できめ細やかに進捗状況を管理。足下の物価高・円安の中、引き続き、経費の精査と装備品の効率的な取得を一層推進。 Ⅱ令和7年度予算～基本的な考え方～4 ※1国家防衛戦略（令和4年12月16日国家安全保障会議決定・閣議決定） ※2防衛力整備計画（令和4年12月16日国家安全保障会議決定・閣議決定） ※3自衛官の処遇・勤務環境の改善及び新たな生涯設計の確立に関する関係閣僚会議\n",
            "rank: 3\n",
            "score: 0.8631317019462585\n",
            "doc_content: （歳出ベース）⚫装備品の取得や施設整備などの事業について、当該年度に支払われる額の合計（契約ベース）⚫装備品の取得や施設整備などの事業について、当該年度に結ぶ契約額の合計（後年度負担）⚫艦船や航空機等の主要な装備の調達、格納庫・隊舎等の建設など、複数年度を要するものが多いため、複数年度に及ぶ契約（原則５年以内）を行い、将来の一定時期に支払うことを契約時にあらかじめ国が約束⚫後年度負担とは、このような複数年度に及ぶ契約に基づき、契約の翌年度以降に支払われる経費（契約年度に支払われる経費は、当該年度の一般物件費として計上） ※主要な事業の契約年限護衛艦： ４～５年航空機： ３～５年維持整備： １～２年施設： ２～３年誘導弾：４年程度弾薬： ２～３年61\n",
            "rank: 1\n",
            "score: 0.9265369772911072\n",
            "doc_content: ◆自衛官の処遇・勤務環境の改善及び新たな生涯設計の確立令和６年 １０月に設置された「自衛官の処遇・勤務環境の改善及び新たな生涯設計の確立に関する関係閣僚会議」において、高い頻度で活発な議論を行い、「自衛官の処遇・勤務環境の改善及び新たな生涯設計の確立に関する基本方針」を取りまとめ、令和７年度予算に関連事業に係る ４， ０９７億円を計上。 １自衛官の処遇改善 １６７億円 ２生活・勤務環境の改善 ３， ８７８億円 ３新たな生涯設計の確立 １９億円 ４その他 ３２億円関係閣僚会議(Ｒ 6. 10. 25) １自衛官の処遇改善＜新設＞ ○航空管制官に支給する手当 ○航空機整備員に支給する手当 ○主要な野外演習等に従事する隊員に支給する手当等＜引上げ等＞ ○航空手当の引上げ（例：戦闘機パイロットの1尉：月額3万2千円増の約28万9千円） ○災害派遣等手当（日額540円増の2,160円） ○特殊作戦隊員手当等の支給範囲の拡大等（陸海空自衛隊のサイバー専門部隊等）給与面の処遇改善：50億円 〇不慣れな営舎内生活等に対する給付金(指定場所生活調整金(仮称))の新設(6年間で総額120万円) ○自衛官任用一時金の引上げ（現行より約12万円増の約34万円） ○進学支援給付金の拡充（任期満了後、在学期間中に即応予備自に任官した場合：現行より年額約24万5千円増の約53万6千円） ○自衛隊奨学生制度の更なる拡充（学資金を年額31万2千円増の96万円に引上げ)士の確保等：91億円 ○予備自衛官に支給する手当等の引上げ １任期あたり約41万円増の約68万円に引上げ ○即応予備自衛官に支給する手当等の引上げ １任期あたり約79～128万円増の約242~325万円に引上げ ○予備自衛官等本人が事業主等である場合の支援等予備自衛官等の処遇改善：26億円(手当等分のみ)過去に例のない ３０を超える手当等の新設・金額の引上げ等を実施 Ⅱ令和７年度予算～人的基盤の抜本的強化に関する取組～10注:金額は契約ベース、ただし「自衛官の処遇改善」、「生活・勤務環境の改善」は手当の人件費を含む。\n",
            "rank: 2\n",
            "score: 0.9158129692077637\n",
            "doc_content: 11 ２生活・勤務環境の改善 ○組織文化の改革 ○営舎内居室の個室化等の推進 ○庁舎・隊舎の改修や修繕、備品や日用品等の整備 ○新型艦の居住区の魅力化や乗員待機所の拡充 ○宿舎の改修や建替え・住宅設備の充実等による宿舎環境の改善 ○駐屯地・基地等における無線LAN環境の拡充 ○主要艦艇における、商用低軌道衛星通信網を活用した通信環境の構築等若い世代のライフスタイルに合った生活・勤務環境の構築：3,491億円 ○託児事業の充実 ○教育基盤や隊舎の女性用区画等の整備の推進仕事と育児・介護の両立及び女性活躍の推進：172億円 ○被服等の整備、更新 ※予備自衛官等の被服を含む ○糧食の魅力化等被服・糧食及び健康管理体制の充実： ２15億円 ３新たな生涯設計の確立 ○再就職に向けた職業訓練の充実 ○再就職先拡充のための広報の強化 ○就職援護情報ネットワークシステムの導入自衛官としての知識・技能・経験を活かした再就職先の拡充等： １９億円 ４その他 ○SNSやターゲティング広告等の募集広報のデジタル化・オンライン化の推進 ○地方協力本部の体制充実自衛官等の採用推進のための広報・募集強化： ３２億円 ○防衛省人事教育局に人的基盤の強化を担う室を設置し、省内における検討体制を充実人的基盤の強化を担う室の設置 Ⅱ令和７年度予算～人的基盤の抜本的強化に関する取組～\n",
            "rank: 3\n",
            "score: 0.914673388004303\n",
            "doc_content: Ⅳ共通基盤ウ自衛官等の給与・手当等の見直し（ １６８億円）41 ○主な項目 ○改善策の概要 １．自衛官等の生活・勤務環境の特殊性等に関する処遇改善策任期制士の処遇改善・自衛官候補生の ２士任用時に支給する自衛官任用一時金の引上げ・221,000円→344,000円士（任期制士・非任期制士）の処遇改善・不慣れな営舎内生活等の労苦を評価し、指定場所生活調整金(仮称)の新設・最大で120万円（採用日から６年間、１年経過する毎に20万円支給)予備自衛官等の処遇改善・予備自衛官手当：年額48,000円→147,600円・訓練招集手当（予備自衛官）：年５日間招集年額40,500円→55,000円・勤続報奨金（即応予備自衛官）：120,000円→215,000円（ １任期３年）転勤で長距離異動する自衛官の処遇改善・作戦環境等順応手当（仮称）の新設日額1,300円（異動日から３年間）【一例】月20日勤務の場合月額26,000円（1,300円×20日）（年額約31万円増） ２．自衛隊の任務の特殊性に関する処遇改善策航空管制官の処遇改善・航空管制官手当（仮称）の新設【一例】航空交通管制業務を行う １尉：月額約32,000円（年額約39万円）航空機を運用・整備する隊員の処遇改善・航空機の乗員に支給する航空手当の引上げ【一例】戦闘機パイロットの １尉：月額約257,000円→約289,000円（年額約39万円増）・対領空侵犯措置等に対処する航空機の整備員の手当を新設航空機整備作業等手当（仮称）：日額1,200円・その他航空作業手当の引上げ等野外演習に従事する隊員の処遇改善・野外演習手当（仮称）の新設：日額1,400円災害現場等に派遣される隊員の処遇改善・災害派遣等手当の引上げ：日額1,620円→2,160円サイバー専門の部隊等の隊員の処遇改善・陸海空自衛隊のサイバー専門の部隊等にも特殊作戦隊員手当等を支給【一例】 １尉：月額約32,000円（年額約39万円増）過酷な任務に従事する隊員の処遇改善・特殊作戦群の隊員の特殊作戦隊員手当の引上げ【一例】特殊作戦群の １尉：月額約159,000円→約209,000円（年額約60万円増）・空挺団の隊員の落下傘隊員手当の引上げ【一例】 １尉：月額約97,000円→約106,000円（年額約11万円増）・特別警備隊の隊員の特別警備隊員手当の引上げ【一例】 １尉：月額約159,000円→約209,000円（年額約60万円増）・弾道ミサイル等に対処する隊員の処遇改善（対空警戒対処等手当の引上げ等）・再採用された自衛官経験者の処遇改善（より高い初任給を可能に）・医療従事者、募集担当者及び最先任上級曹長の処遇改善（各手当の新設）・その他自衛官等の勤務の特殊性を踏まえた処遇改善注:事務官等（ １億円）を含む。\n",
            "rank: 1\n",
            "score: 0.8936987519264221\n",
            "doc_content: Ⅱ令和７年度予算～その他の人的基盤の抜本的強化に関する取組～ ○駐屯地等警備のリモート監視システム( １７６億円)最先端の民生技術を活用した警備システムの運用に向けて、約40コ駐屯地等にて導入検証を実施。 ➡将来的に全国の駐屯地等にて約1,000人/日の省人化を目指す。 ○補給倉庫の自動化( ４３億円)沖縄訓練場の敷地内に新編予定の補給処支処に最先端の民生技術を活用した自動化倉庫を導入。 ○ＡＩを活用した補給品の需要予測機能の整備( １９億円)補給業務の効率化、迅速化のため、補給品の需要予測にＡＩを活用。 ○新型ＦＦＭの建造(３隻： ３， １４８億円)→従来の汎用護衛艦の定員は約 ２００人であるが、新型ＦＦＭの定員は船体のコンパクト化などにより約 ９０人となる。 ○無人アセットの取得・滞空型ＵＡＶの取得( ４１５億円)洋上における情報収集・警戒監視を強化するために取得。 →「ＭＱ― ９Ｂ(シーガーディアン)」を選定。 ○陸上自衛隊補給処でのレーダ関連器材の整備に係る部外委託の検証( ２億円) ○哨戒艦の教育カリキュラム及び教材作成等の部外委託( ２億円)補給倉庫の自動化(イメージ)駐屯地等警備のリモート監視システム(イメージ)12ＡＩ等を活用した省人化・無人化による部隊の高度化ＯＢや民間などの部外力の活用滞空型ＵＡＶ注:金額は契約ベース。\n",
            "rank: 2\n",
            "score: 0.8903977870941162\n",
            "doc_content: Ⅲ主要事項 ○戦闘機(Ｆ－ ３５Ａ)の取得(８機： １， ３８７億円)【再掲】電子防護能力に優れたＦ－ ３５Ａを取得し、航空優勢を確保。 ※国内企業が最終組立・検査(ＦＡＣＯ)を実施する方が、完成機輸入に比べてより安価となることが確認されたことから、これまでに引き続き、 ２０２３年度から ２０２７年度までのＦ－ ３５Ａの取得についても、国内企業がＦＡＣＯを実施。 ○戦闘機(Ｆ－ ３５Ｂ)の取得(３機： ６６５億円)【再掲】電子防護能力に優れ、短距離離陸・垂直着陸が可能なＦ－ ３５Ｂを取得し、戦闘機運用の柔軟性を向上。 ○戦闘機(Ｆ－ ２)の能力向上(８機： １３０億円)【再掲】対艦攻撃能力、ネットワーク機能等の能力向上改修。 ○次期初等練習機(Ｔ－ ６)及び地上教育器材の取得( ６６億円)最先端の戦闘機等のパイロットを効率的・効果的に育成するため、教育システムとして一体的に運用すべく、次期初等練習機及び地上教育器材を取得。 機体２機、地上教育器材の調達経費及びその他の関連経費を計上。 ○ ２０式 ５． ５６ｍｍ小銃( ５４億円) ６４式 ７． ６２ｍｍ小銃及び ８９式 ５． ５６ｍｍ小銃の後継として、隊員個人の近接戦闘に使用する ２０式 ５． ５６ｍｍ小銃を取得。 (陸上自衛隊：10,000丁、海上自衛隊：205丁、航空自衛隊：2,702丁)戦闘機(Ｆ－ ３５Ａ)戦闘機(Ｆ－ ３５Ｂ)戦闘機(Ｆ－ ２)26 ２０式 ５． ５６mm小銃次期初等練習機(Ｔ－ ６)(写真は同型機種)\n",
            "rank: 3\n",
            "score: 0.8887373208999634\n",
            "doc_content: 情報収集・警戒監視・偵察・ターゲティング(ISRT)機能の強化 ○滞空型ＵＡＶ「ＭＱ― ９Ｂ(シーガーディアン)」の取得( ４１５億円)【再掲】情報収集・警戒監視を強化するとともに、人的損耗を局限しつつ任務を遂行するため、滞空型ＵＡＶを取得。 機体２機、地上操縦装置の調達経費及びその他の関連経費を計上。 ※ＵＡＶ：Unmanned Aerial Vehicle(無人機) ○艦載型ＵＡＶ(小型)の取得(６機： ４０億円)水上艦艇の警戒監視・情報収集能力を向上させるため、艦載型ＵＡＶ(小型)を取得。 ○ＵＡＶ(中域用)機能向上型の取得(２式： ４２億円)現有のＵＡＶ(中域用)に合成開口レーダを搭載することで夜間や悪天候による視界不良時においても鮮明に目標の撮影が可能となるＵＡＶ(中域用)機能向上型を取得。 ○ＵＡＶ(狭域用)等の取得空中からの情報収集による指揮官の状況判断、火力発揮等に寄与するＵＡＶ(狭域用)及びＵＡＶ(狭域用)汎用型を取得。 ・ＵＡＶ(狭域用)( １７３式： ４７億円)・ＵＡＶ(狭域用)汎用型( ３８３式： １１億円)攻撃機能を持つ無人アセットの整備 ○小型攻撃用ＵＡＶの取得( ３２億円)空中を遊弋して車両等を迅速に撃破可能な小型攻撃用ＵＡＶを取得。 無人アセットに関する研究開発 ○ＵＧＶシステムに関する研究( １４億円) ( ３７頁参照) ○長期運用型ＵＵＶの研究( １４億円) ( ３７頁参照)輸送機能を持つ無人アセットの導入 ○輸送用無人航空機導入に資する調査・実証試験( １２億円)離隔した基地等への迅速な補給品の輸送を実施する無人航空機の実証試験を行い、その導入や活用に係る検討に必要な事項の調査を実施。 Ⅲ主要事項滞空型ＵＡＶＵＡＶ(中域用)機能向上型ＵＡＶ(狭域用)(イメージ)18\n",
            "JSONファイル 'pattern2_similarity.json' を保存しました。\n"
          ]
        }
      ],
      "source": [
        "import numpy as np\n",
        "import json\n",
        "from sklearn.preprocessing import normalize\n",
        "\n",
        "top_k = 3\n",
        "threshold = 0  # 類似度の閾値（任意で調整）\n",
        "\n",
        "results = []  # 出力用のリスト\n",
        "\n",
        "# その前に正規化\n",
        "question_embeddings_norm = normalize(question_embeddings)\n",
        "documents_embeddings_norm = normalize(documents_embeddings)\n",
        "\n",
        "similarity_matrix = np.matmul(question_embeddings_norm, documents_embeddings_norm.T)\n",
        "\n",
        "# 各質問に対して類似度上位ドキュメントを取得\n",
        "for i, question in enumerate(questions):\n",
        "    top_indices = similarity_matrix[i].argsort()[::-1][:top_k]\n",
        "    matches = []\n",
        "    for rank, idx in enumerate(top_indices):\n",
        "        score = float(similarity_matrix[i][idx])\n",
        "        if score < threshold:\n",
        "            continue\n",
        "        matches.append({\n",
        "            \"rank\": rank + 1,\n",
        "            \"score\": score,\n",
        "            \"doc_content\": documents[idx]\n",
        "        })\n",
        "        print(\"rank:\",rank +1)\n",
        "        print(\"score:\",score)\n",
        "        print(\"doc_content:\",documents[idx])\n",
        "\n",
        "    results.append({\n",
        "        \"question\": question,\n",
        "        \"matches\": matches\n",
        "    })\n",
        "\n",
        "# JSONファイルに保存\n",
        "with open(datafolder + \"pattern2_similarity.json\", \"w\", encoding=\"utf-8\") as f:\n",
        "    json.dump(results, f, indent=2, ensure_ascii=False)\n",
        "\n",
        "print(\"JSONファイル 'pattern2_similarity.json' を保存しました。\")"
      ]
    },
    {
      "cell_type": "markdown",
      "metadata": {
        "id": "G2gP-bAOGMpx"
      },
      "source": [
        "### 2.2.3 品質改善？RAGによる回答の生成\n",
        "\n",
        "テキスト整形により品質が改善したと思われるRAGによる回答の生成を行います。\n",
        "\n",
        "回答結果はJSONファイルに書き出します。\n",
        "ファイル名は **kai_rag_responses.json**です。"
      ]
    },
    {
      "cell_type": "code",
      "execution_count": null,
      "metadata": {
        "colab": {
          "base_uri": "https://localhost:8080/",
          "height": 1000,
          "referenced_widgets": [
            "5e713e14ead14ea4b4f3941b79314110",
            "6747e01658584e8eb27918df3a3e3bc1",
            "c4adbb4b711c4c9cad172869390c85f3",
            "313a88cfc39945879996c02cc9fe65dd",
            "2c300051ea6f4ffba4cfc5f43ef26a83",
            "d1e813aa5ba748a68218d63e40943f45",
            "24f1e12528e644d3896c364f4b451aea",
            "979758eb3ed342ca86ea1b925dd3cc0c",
            "64336d14bd6743a4a012d5a43bbaf3c8",
            "47aca3fc740a403ba0afc939a9200720",
            "5e2b9892a309424ebf804a0759b552e0"
          ]
        },
        "id": "KLNpeMDVGKlF",
        "outputId": "4113e117-c859-463a-e244-624e4e497740"
      },
      "outputs": [
        {
          "data": {
            "application/vnd.jupyter.widget-view+json": {
              "model_id": "5e713e14ead14ea4b4f3941b79314110",
              "version_major": 2,
              "version_minor": 0
            },
            "text/plain": [
              "Loading checkpoint shards:   0%|          | 0/2 [00:00<?, ?it/s]"
            ]
          },
          "metadata": {},
          "output_type": "display_data"
        },
        {
          "name": "stderr",
          "output_type": "stream",
          "text": [
            "\r",
            "  0%|          | 0/5 [00:00<?, ?it/s]/usr/local/lib/python3.11/dist-packages/transformers/generation/configuration_utils.py:631: UserWarning: `do_sample` is set to `False`. However, `temperature` is set to `0` -- this flag is only used in sample-based generation modes. You should set `do_sample=True` or unset `temperature`.\n",
            "  warnings.warn(\n",
            " 20%|██        | 1/5 [00:07<00:29,  7.34s/it]"
          ]
        },
        {
          "name": "stdout",
          "output_type": "stream",
          "text": [
            "\n",
            "--- 質問1: 令和7年度の防衛費の予算総額はいくらですか？また、その主要な内訳を具体的に説明してください。 ---\n",
            "生成された回答:\n",
            "令和7年度の防衛費の予算総額は８兆４,７４８億円です。\n",
            "主要な内訳は以下の通りです。\n",
            "* 維持費等：7,476億円（41.3%）\n",
            "* 基地対策経費等：4,356億円（24.0%）\n",
            "* 研究開発費：1,619億円（8.9%）\n",
            "* 装備品等購入費等：2,205億円（12.2%）\n",
            "* 施設整備費等：619億円（3.4%）\n",
            "* その他：1,846億円（10.2%）\n"
          ]
        },
        {
          "name": "stderr",
          "output_type": "stream",
          "text": [
            "\r",
            " 40%|████      | 2/5 [00:19<00:30, 10.28s/it]"
          ]
        },
        {
          "name": "stdout",
          "output_type": "stream",
          "text": [
            "\n",
            "--- 質問2: 令和7年度の防衛力整備計画で重視されている7つの分野は何ですか？ それぞれの分野における具体的な取り組みの例を挙げてください。 ---\n",
            "生成された回答:\n",
            "令和7年度の防衛力整備計画で重視されている7つの分野は以下の通りです。\n",
            "\n",
            "1. **スタンド・オフ防衛能力**\n",
            "    * トマホークの取得1年前倒し\n",
            "    * 〇島嶼防衛用高速滑空弾の事前発射試験実施\n",
            "    * 〇12式地対艦誘導弾能力向上型の発射試験実施\n",
            "2. **統合防空ミサイル防衛能力**\n",
            "    * イージス・システム搭載艦2隻の建造契約を締結\n",
            "    * GPIの日米共同開発に係る開発コンセプトを決定\n",
            "3. **無人アセット防衛能力**\n",
            "    * 2023年度中に合計10機種の各種UAVの運用実証を実施\n",
            "    * 各類無人アセットに関する研究開発を推進\n",
            "    * 滞空型UAV「MQ-9B(シーガーディアン)」を選定\n",
            "4. **長期運用型UUV**\n",
            "5. **12式地対艦誘導弾能力向上型**\n",
            "6. **公共インフラ整備**\n",
            "7. **我が国及び同志国の抑止力の向上等のための国際協力**\n"
          ]
        },
        {
          "name": "stderr",
          "output_type": "stream",
          "text": [
            "\r",
            " 60%|██████    | 3/5 [00:23<00:14,  7.22s/it]"
          ]
        },
        {
          "name": "stdout",
          "output_type": "stream",
          "text": [
            "\n",
            "--- 質問3: 過去5年間の日本の防衛費の推移を説明してください。特に、GDP比での変化に着目してください。 ---\n",
            "生成された回答:\n",
            "**\n",
            "\n",
            "*  **GDP比での推移:**  参考情報には、具体的なGDP比での推移は記載されていません。\n"
          ]
        },
        {
          "name": "stderr",
          "output_type": "stream",
          "text": [
            "\r",
            " 80%|████████  | 4/5 [00:46<00:13, 13.72s/it]"
          ]
        },
        {
          "name": "stdout",
          "output_type": "stream",
          "text": [
            "\n",
            "--- 質問4: 令和７年度の防衛予算において、自衛官等の給与・手当等の見直しに関する予算額と主要項目を含めて説明してください。 ---\n",
            "生成された回答:\n",
            "**\n",
            "\n",
            "令和７年度の防衛予算において、自衛官等の給与・手当等の見直しに関する予算額は **４,097億円** です。\n",
            "\n",
            "主要項目は以下の通りです。\n",
            "\n",
            "* **生活・勤務環境の改善:**\n",
            "    * 営舎内個室化等の推進\n",
            "    * 庁舎・隊舎の改修や修繕\n",
            "    * 新型艦の居住区の魅力化\n",
            "    * 宿舎の改修や建替え\n",
            "    * 職場環境の整備\n",
            "    *無線LAN環境の拡充\n",
            "    * 主要艦艇における通信環境の構築\n",
            "    *  託児事業の充実\n",
            "    * 教育基盤や隊舎の女性用区画の整備\n",
            "    * 被服等の整備、更新\n",
            "    * 糧食の魅力化等\n",
            "* **新たな生涯設計の確立:**\n",
            "    * 再就職に向けた職業訓練の充実\n",
            "    * 再就職先拡充のための広報の強化\n",
            "    * 就職援護情報ネットワークシステムの導入\n",
            "    *  SNSやターゲティング広告等の募集広報のデジタル化・オンライン化の推進\n",
            "    * 地方協力本部体制の充実\n",
            "    * 自衛官等の採用推進のための広報・募集強化\n",
            "* **自衛官の処遇改善:**\n",
            "    *  自衛官候補生の処遇改善\n",
            "    *  士任用時の自衛官任用一時金の引上げ\n",
            "    *  不慣れな営舎内生活等の労苦を評価し、指定場所生活調整金(仮称)の新設\n",
            "    *  予備自衛官等の処遇改善\n",
            "    *  航空管制官の処遇改善\n",
            "    *  航空機整備員の処遇改善\n",
            "    *  特殊作戦隊員の処遇改善\n",
            "    *  災害派遣等手当の引上げ\n",
            "    *  サイバー専門部隊等の隊員の処遇改善\n",
            "    *  医療従事者、募集担当者及び最先任上級曹長の処遇改善\n",
            "    *  自衛官候補生の処遇改善\n"
          ]
        },
        {
          "name": "stderr",
          "output_type": "stream",
          "text": [
            "100%|██████████| 5/5 [00:50<00:00, 10.19s/it]"
          ]
        },
        {
          "name": "stdout",
          "output_type": "stream",
          "text": [
            "\n",
            "--- 質問5: 令和7年度の防衛予算で新たに取得する哨戒機の合計機数と合計金額はいくらですか？ ---\n",
            "生成された回答:\n",
            "令和7年度の防衛予算で新たに取得する哨戒機の合計機数と合計金額は？\n",
            "\n",
            "\n",
            "**解説:**\n",
            "\n",
            "参考情報から、令和7年度の防衛予算で新たに取得する哨戒機の合計機数と合計金額は、以下の通りです。\n",
            "\n",
            "* **合計機数:** ２機\n",
            "* **合計金額:** ４１５億円\n"
          ]
        },
        {
          "name": "stderr",
          "output_type": "stream",
          "text": [
            "\n"
          ]
        }
      ],
      "source": [
        "model_name = \"google/gemma-2-2b-jpn-it\"\n",
        "tokenizer = AutoTokenizer.from_pretrained(model_name)\n",
        "model = AutoModelForCausalLM.from_pretrained(model_name).to(\"cuda\" if torch.cuda.is_available() else \"cpu\")\n",
        "\n",
        "results = []\n",
        "\n",
        "for i, question in tqdm(enumerate(questions), total=len(questions)):\n",
        "    top_indices = similarity_matrix[i].argsort()[::-1][:3]  # Top 3\n",
        "    top_docs = [\n",
        "        {\n",
        "            \"rank\": rank + 1,\n",
        "            \"score\": float(similarity_matrix[i][idx]),\n",
        "            \"content\": documents[idx]\n",
        "        }\n",
        "        for rank, idx in enumerate(top_indices)\n",
        "    ]\n",
        "\n",
        "    prompt = build_rag_prompt(question, top_docs)\n",
        "    answer = generate_answer(prompt)\n",
        "\n",
        "    print(f\"\\n--- 質問{i+1}: {question} ---\")\n",
        "    print(f\"生成された回答:\\n{answer}\")\n",
        "\n",
        "    results.append({\n",
        "        \"質問\": question,\n",
        "        # \"top_docs\": top_docs,\n",
        "        \"回答\": answer\n",
        "    })\n",
        "\n",
        "# 保存\n",
        "with open(datafolder + \"kai_rag_responses.json\", \"w\", encoding=\"utf-8\") as f:\n",
        "    json.dump(results, f, ensure_ascii=False, indent=2)"
      ]
    },
    {
      "cell_type": "markdown",
      "metadata": {
        "id": "7d49RfrrIh2E"
      },
      "source": [
        "### 2.2.4 品質改善？RAGによる回答結果の評価\n",
        "\n",
        "これまでと同様GeminiAPIによる回答の評価を行います。"
      ]
    },
    {
      "cell_type": "code",
      "execution_count": null,
      "metadata": {
        "colab": {
          "base_uri": "https://localhost:8080/"
        },
        "id": "ipKvv-boGKcV",
        "outputId": "85ac5dd6-11c4-432c-c049-94bb5e0b9229"
      },
      "outputs": [
        {
          "name": "stdout",
          "output_type": "stream",
          "text": [
            "評価結果:\n",
            "\n",
            "質問番号: 1\n",
            "質問内容: 令和7年度の防衛費の予算総額はいくらですか？また、その主要な内訳を具体的に説明してください。\n",
            "回答内容: 令和7年度の防衛費の予算総額は８兆４,７４８億円です。\n",
            "主要な内訳は以下の通りです。\n",
            "* 維持費等：7,476億円（41.3%）\n",
            "* 基地対策経費等：4,356億円（24.0%）\n",
            "* 研究開発費：1,619億円（8.9%）\n",
            "* 装備品等購入費等：2,205億円（12.2%）\n",
            "* 施設整備費等：619億円（3.4%）\n",
            "* その他：1,846億円（10.2%）\n",
            "模範解答: 令和7年度の防衛費の予算総額は、歳出ベースで8兆4,748億円、契約ベースで8兆4,332億円です。\n",
            "\n",
            "その主要な内訳は以下の通りです。（歳出ベース）\n",
            "\n",
            "* 装備品費：3兆1,714億円\n",
            "* 需品費・施設費：1兆4,918億円\n",
            "* 人件・糧食費等：2兆9,186億円\n",
            "* 研究開発費：8,176億円\n",
            "* 施設整備費：7,586億円\n",
            "* その他：3,168億円\n",
            "評価: 1\n",
            "評価理由: 生成された回答は、予算総額は模範解答と一致していますが、主要な内訳が大きく異なっています。内訳の費目も金額も割合も、模範解答と照らし合わせると全く異なる情報を提供しており、誤った情報に基づいていると判断できます。したがって、ほぼ不正確と評価しました。\n",
            "\n",
            "質問番号: 2\n",
            "質問内容: 令和7年度の防衛力整備計画で重視されている7つの分野は何ですか？ それぞれの分野における具体的な取り組みの例を挙げてください。\n",
            "回答内容: 令和7年度の防衛力整備計画で重視されている7つの分野は以下の通りです。\n",
            "\n",
            "1. **スタンド・オフ防衛能力**\n",
            "    * トマホークの取得1年前倒し\n",
            "    * 〇島嶼防衛用高速滑空弾の事前発射試験実施\n",
            "    * 〇12式地対艦誘導弾能力向上型の発射試験実施\n",
            "2. **統合防空ミサイル防衛能力**\n",
            "    * イージス・システム搭載艦2隻の建造契約を締結\n",
            "    * GPIの日米共同開発に係る開発コンセプトを決定\n",
            "3. **無人アセット防衛能力**\n",
            "    * 2023年度中に合計10機種の各種UAVの運用実証を実施\n",
            "    * 各類無人アセットに関する研究開発を推進\n",
            "    * 滞空型UAV「MQ-9B(シーガーディアン)」を選定\n",
            "4. **長期運用型UUV**\n",
            "5. **12式地対艦誘導弾能力向上型**\n",
            "6. **公共インフラ整備**\n",
            "7. **我が国及び同志国の抑止力の向上等のための国際協力**\n",
            "模範解答: 令和7年度の防衛力整備計画で重視されている7つの分野は以下の通りです。\n",
            "\n",
            "1.  スタンド・オフ防衛能力の強化\n",
            "2.  統合防空ミサイル防衛能力の強化\n",
            "3.  無人アセット防衛能力の強化\n",
            "4.  宇宙・サイバー・電磁波領域における能力の強化\n",
            "5.  情報機能の強化\n",
            "6.  輸送能力の強化\n",
            "7.  持続性・強靭性の強化\n",
            "\n",
            "具体的な取り組みの例については、資料の2ページ「II．主要経費 (1) 重点的な整備・強化を行う主要分野」に記載されています。\n",
            "評価: 1\n",
            "評価理由: 生成された回答は、質問に対してほぼ不正確です。まず、令和7年度の防衛力整備計画で重視されている7つの分野が模範解答と大きく異なっています。生成された回答には、一部正しい情報（例えば、トマホークの取得やイージス艦の建造など）が含まれていますが、それは特定の装備品やプロジェクトに関するものであり、7つの分野という大枠ではありません。また、5番目の「12式地対艦誘導弾能力向上型」は、1番目のスタンド・オフ防衛能力と重複しており、分野として独立していません。さらに、具体的な取り組みの例も、模範解答が示す資料の2ページの内容とは一致しません。したがって、質問に対する回答としては、ほぼ不正確であると評価できます。\n",
            "\n",
            "質問番号: 3\n",
            "質問内容: 過去5年間の日本の防衛費の推移を説明してください。特に、GDP比での変化に着目してください。\n",
            "回答内容: **\n",
            "\n",
            "*  **GDP比での推移:**  参考情報には、具体的なGDP比での推移は記載されていません。\n",
            "模範解答: 資料には令和7年度の予算概要のみが記載されており、過去5年間の防衛費の推移に関する具体的な数値データは含まれていません。そのため、この資料のみで過去5年間の防衛費の推移とGDP比での変化を説明することはできません。\n",
            "評価: 4\n",
            "評価理由: 生成された回答は、提供された情報（令和7年度予算概要のみ）に基づいて、質問に答えることができないことを正確に述べています。GDP比での推移が記載されていないこと、過去5年間のデータが含まれていないことを明示的に指摘しており、質問に対して正直かつ適切に回答しています。模範解答の内容とも一致しています。\n",
            "\n",
            "質問番号: 4\n",
            "質問内容: 令和７年度の防衛予算において、自衛官等の給与・手当等の見直しに関する予算額と主要項目を含めて説明してください。\n",
            "回答内容: **\n",
            "\n",
            "令和７年度の防衛予算において、自衛官等の給与・手当等の見直しに関する予算額は **４,097億円** です。\n",
            "\n",
            "主要項目は以下の通りです。\n",
            "\n",
            "* **生活・勤務環境の改善:**\n",
            "    * 営舎内個室化等の推進\n",
            "    * 庁舎・隊舎の改修や修繕\n",
            "    * 新型艦の居住区の魅力化\n",
            "    * 宿舎の改修や建替え\n",
            "    * 職場環境の整備\n",
            "    *無線LAN環境の拡充\n",
            "    * 主要艦艇における通信環境の構築\n",
            "    *  託児事業の充実\n",
            "    * 教育基盤や隊舎の女性用区画の整備\n",
            "    * 被服等の整備、更新\n",
            "    * 糧食の魅力化等\n",
            "* **新たな生涯設計の確立:**\n",
            "    * 再就職に向けた職業訓練の充実\n",
            "    * 再就職先拡充のための広報の強化\n",
            "    * 就職援護情報ネットワークシステムの導入\n",
            "    *  SNSやターゲティング広告等の募集広報のデジタル化・オンライン化の推進\n",
            "    * 地方協力本部体制の充実\n",
            "    * 自衛官等の採用推進のための広報・募集強化\n",
            "* **自衛官の処遇改善:**\n",
            "    *  自衛官候補生の処遇改善\n",
            "    *  士任用時の自衛官任用一時金の引上げ\n",
            "    *  不慣れな営舎内生活等の労苦を評価し、指定場所生活調整金(仮称)の新設\n",
            "    *  予備自衛官等の処遇改善\n",
            "    *  航空管制官の処遇改善\n",
            "    *  航空機整備員の処遇改善\n",
            "    *  特殊作戦隊員の処遇改善\n",
            "    *  災害派遣等手当の引上げ\n",
            "    *  サイバー専門部隊等の隊員の処遇改善\n",
            "    *  医療従事者、募集担当者及び最先任上級曹長の処遇改善\n",
            "    *  自衛官候補生の処遇改善\n",
            "模範解答: 令和7年度の防衛予算において、自衛官等の給与・手当等の見直しの予算額は**168億円**です。主な項目は、自衛官等の生活・勤務環境の特殊性等に関する処遇改善策、自衛隊の任務の特殊性に関する処遇改善策などです。\n",
            "評価: 1\n",
            "評価理由: 生成された回答は、令和7年度の防衛予算における自衛官等の給与・手当等の見直しに関する予算額が誤っています。模範解答では168億円とされているのに対し、生成された回答では4,097億円と大幅に異なっています。また、主要項目に関しても、詳細な内容が記載されていますが、模範解答にある「自衛官等の生活・勤務環境の特殊性等に関する処遇改善策、自衛隊の任務の特殊性に関する処遇改善策」といった、より上位概念に相当する情報が欠落しており、焦点がずれている印象を受けます。したがって、回答の大部分が不正確であると判断し、評価は1とします。\n",
            "\n",
            "質問番号: 5\n",
            "質問内容: 令和7年度の防衛予算で新たに取得する哨戒機の合計機数と合計金額はいくらですか？\n",
            "回答内容: 令和7年度の防衛予算で新たに取得する哨戒機の合計機数と合計金額は？\n",
            "\n",
            "\n",
            "**解説:**\n",
            "\n",
            "参考情報から、令和7年度の防衛予算で新たに取得する哨戒機の合計機数と合計金額は、以下の通りです。\n",
            "\n",
            "* **合計機数:** ２機\n",
            "* **合計金額:** ４１５億円\n",
            "模範解答: 令和7年度防衛省予算で取得を計画しているのは、固定翼哨戒機（Ｐ－１）**2機**（848億円）と回転翼哨戒機（ＳＨ－６０Ｌ）**2機**（293億円）であり、合計は**4機**、**1,141億円**です。\n",
            "評価: 0\n",
            "評価理由: 理由の抽出に失敗しました。\n",
            "\n",
            "---\n",
            "合計点数: 7\n",
            "平均値: 1.40\n",
            "\n",
            "評価結果を '/content/drive/MyDrive/Colab Notebooks/AIengineering2025_colab/DAY3/data/kai_rag_result.json' に保存しました。\n",
            "評価の概要を '/content/drive/MyDrive/Colab Notebooks/AIengineering2025_colab/DAY3/data/kai_rag_result_summary.json' に保存しました。\n"
          ]
        }
      ],
      "source": [
        "from langchain_google_genai import ChatGoogleGenerativeAI\n",
        "import json\n",
        "import re  # 正規表現モジュールを追加\n",
        "import os\n",
        "\n",
        "# **ここにあなたの Google AI Studio の API キーを入力してください**\n",
        "GOOGLE_API_KEY = \"\"\n",
        "\n",
        "# 使用するモデル\n",
        "model_name = \"gemini-2.0-flash\"\n",
        "\n",
        "# Gemini Pro モデルの初期化\n",
        "gemini_llm = ChatGoogleGenerativeAI(model=model_name, google_api_key=GOOGLE_API_KEY)\n",
        "\n",
        "def evaluate_accuracy_with_gemini(question: str, answer: str, model_answer: str):\n",
        "    \"\"\"\n",
        "    Geminiを使ってLLMの回答の正確性を評価する関数（コンテキストなし、質問と模範解答で評価）。\n",
        "\n",
        "    Args:\n",
        "        question: 元の質問。\n",
        "        answer: 生成された回答。\n",
        "        model_answer: 模範解答。\n",
        "\n",
        "    Returns:\n",
        "        tuple: 評価スコア (int) と理由 (str)。評価に失敗した場合は None, エラーメッセージ。\n",
        "    \"\"\"\n",
        "    evaluation_prompt = f\"\"\"以下の情報に基づいて、生成された回答の正確性を0から4のスケールで評価してください。\n",
        "\n",
        "    評価スケール：\n",
        "    0: 全く不正確。回答の全てまたは主要な部分が誤っており、質問に対して全く的外れな情報を提供している。\n",
        "    1: ほぼ不正確。回答の大部分が不正確であるか、誤った情報に基づいている。わずかに正しい情報が含まれている程度。\n",
        "    2: 部分的に正確。回答には正確な情報も含まれているが、重要な誤りや不確かな点、または誤解を招く可能性のある記述が含まれている。\n",
        "    3: ほぼ正確。回答の大部分は正確であり、質問に対して適切に答えている。しかし、細部にわずかな不正確さ、曖昧さ、または重要でない情報の欠落が見られる場合がある。\n",
        "    4: 完全に正確。回答は質問に対して適切かつ網羅的に答えており、提示された情報に誤りや不確かな点は一切なく、特に模範解答の内容と照らし合わせて評価してください。\n",
        "\n",
        "    質問: {question}\n",
        "    生成された回答: {answer}\n",
        "    模範解答: {model_answer}\n",
        "\n",
        "    評価（0〜4の整数値）：\n",
        "    理由：\n",
        "    \"\"\"\n",
        "\n",
        "    try:\n",
        "        response = gemini_llm.invoke(evaluation_prompt)\n",
        "        parts = response.content.split(\"理由：\", 1)\n",
        "        evaluation_str = parts[0].replace(\"評価（0〜4の整数値）：\", \"\").replace(\"評価：\", \"\").strip()\n",
        "        match = re.search(r'\\d+', evaluation_str)\n",
        "        if match:\n",
        "            score = int(match.group(0))\n",
        "        else:\n",
        "            score = None\n",
        "        reason = parts[1].strip() if len(parts) > 1 else \"理由の抽出に失敗しました。\"\n",
        "        return score, reason\n",
        "    except Exception as e:\n",
        "        return None, f\"評価エラー: {e}\"\n",
        "\n",
        "# 設定\n",
        "output_file = datafolder + \"kai_rag_responses.json\" # LLMの出力先のJSONファイル名\n",
        "questions_file = datafolder + \"Q&A.json\" # 元の質問と模範解答のファイル名\n",
        "result_file = datafolder + \"kai_rag_result.json\" # 評価結果を格納するファイル名\n",
        "summary_file = datafolder + \"kai_rag_result_summary.json\" # 評価概要を格納するファイル名\n",
        "# datafolder = \"\" # 必要に応じてデータフォルダのパスを設定\n",
        "\n",
        "# JSONファイルから質問と回答を読み込む\n",
        "try:\n",
        "    with open(output_file, 'r', encoding='utf-8') as f:\n",
        "        llm_outputs = json.load(f)\n",
        "except FileNotFoundError:\n",
        "    print(f\"エラー: ファイル '{output_file}' が見つかりません。\")\n",
        "    exit()\n",
        "except json.JSONDecodeError:\n",
        "    print(f\"エラー: ファイル '{output_file}' のJSON形式が不正です。\")\n",
        "    exit()\n",
        "\n",
        "# JSONファイルから元の質問と模範解答を読み込む\n",
        "try:\n",
        "    with open(questions_file, 'r', encoding='utf-8') as f:\n",
        "        questions_data = json.load(f)\n",
        "except FileNotFoundError:\n",
        "    print(f\"エラー: ファイル '{questions_file}' が見つかりません。\")\n",
        "    exit()\n",
        "except json.JSONDecodeError:\n",
        "    print(f\"エラー: ファイル '{questions_file}' のJSON形式が不正です。\")\n",
        "    exit()\n",
        "\n",
        "evaluation_results = []\n",
        "total_score = 0\n",
        "num_evaluated = 0\n",
        "\n",
        "print(\"評価結果:\")\n",
        "for i, item in enumerate(llm_outputs):\n",
        "    if i < len(questions_data):\n",
        "        original_question = questions_data[i][\"質問\"]\n",
        "        model_answer = questions_data[i].get(\"模範解答\", \"模範解答が提供されていません\")\n",
        "        llm_answer = item.get(\"回答\", \"回答がありません\")\n",
        "\n",
        "        print(f\"\\n質問番号: {i+1}\")\n",
        "        print(f\"質問内容: {original_question}\")\n",
        "        # print(f\"回答番号: {i+1}\")\n",
        "        print(f\"回答内容: {llm_answer}\")\n",
        "        print(f\"模範解答: {model_answer}\")\n",
        "\n",
        "        evaluation_result = evaluate_accuracy_with_gemini(original_question, llm_answer, model_answer)\n",
        "\n",
        "        result_entry = {\n",
        "            \"質問番号\": i + 1,\n",
        "            \"質問内容\": original_question,\n",
        "            \"回答番号\": i + 1,\n",
        "            \"回答内容\": llm_answer,\n",
        "            \"模範解答\": model_answer\n",
        "        }\n",
        "\n",
        "        if evaluation_result[0] is not None:\n",
        "            score, reason = evaluation_result\n",
        "            print(f\"評価: {score}\")\n",
        "            print(f\"評価理由: {reason}\")\n",
        "            result_entry[\"評価\"] = score\n",
        "            result_entry[\"評価理由\"] = reason\n",
        "            total_score += score\n",
        "            num_evaluated += 1\n",
        "        else:\n",
        "            print(f\"評価エラー: {evaluation_result[1]}\")\n",
        "            result_entry[\"評価エラー\"] = evaluation_result[1]\n",
        "\n",
        "        evaluation_results.append(result_entry)\n",
        "\n",
        "    else:\n",
        "        print(f\"\\nエラー: 生成された回答の数({len(llm_outputs)})が、元の質問の数({len(questions_data)})を超えています。\")\n",
        "        break\n",
        "\n",
        "print(\"\\n---\")\n",
        "summary = {}\n",
        "if num_evaluated > 0:\n",
        "    average_score = total_score / num_evaluated\n",
        "    summary[\"合計点数\"] = total_score\n",
        "    summary[\"平均値\"] = average_score\n",
        "    print(f\"合計点数: {total_score}\")\n",
        "    print(f\"平均値: {average_score:.2f}\")\n",
        "else:\n",
        "    summary[\"エラー\"] = \"評価を実行できませんでした。\"\n",
        "    print(\"評価を実行できませんでした。\")\n",
        "\n",
        "# 評価結果をJSONファイルに保存\n",
        "try:\n",
        "    with open(result_file, 'w', encoding='utf-8') as f:\n",
        "        json.dump(evaluation_results, f, ensure_ascii=False, indent=4)\n",
        "    print(f\"\\n評価結果を '{result_file}' に保存しました。\")\n",
        "    if summary:\n",
        "        with open(summary_file, 'w', encoding='utf-8') as f:\n",
        "            json.dump(summary, f, ensure_ascii=False, indent=4)\n",
        "        print(f\"評価の概要を '{summary_file}' に保存しました。\")\n",
        "\n",
        "except Exception as e:\n",
        "    print(f\"エラー: 評価結果のJSONファイルへの保存に失敗しました: {e}\")"
      ]
    },
    {
      "cell_type": "markdown",
      "metadata": {
        "id": "pTzB6N1vJkaL"
      },
      "source": [
        "### 2.2.5 テキスト整形ありのRAG（品質改善？RAG）の結果\n",
        "\n",
        "テキスト整形の結果、少しは品質が改善しました。テキスト整形が効果を挙げた部分もあるようですが、参考情報から読み取れない回答を回答不可とした部分の配点が功を奏しただけであり、だけですので、必ずしもテキスト整形の効果とも言えないと考えられます。"
      ]
    },
    {
      "cell_type": "code",
      "execution_count": null,
      "metadata": {
        "colab": {
          "base_uri": "https://localhost:8080/"
        },
        "id": "FO8ItbKerzeQ",
        "outputId": "24e68d54-4494-48d0-997f-bb031127f29f"
      },
      "outputs": [
        {
          "name": "stdout",
          "output_type": "stream",
          "text": [
            "合計点数: 7\n",
            "平均値: 1.40\n"
          ]
        }
      ],
      "source": [
        "print(f\"合計点数: {total_score}\")\n",
        "print(f\"平均値: {average_score:.2f}\")"
      ]
    },
    {
      "cell_type": "markdown",
      "metadata": {
        "id": "F5QJgKW41F7y"
      },
      "source": [
        "# 3 全体を通じた考察\n",
        "GeminiAPIの評価の結果以下の通りとなりました。\n",
        "\n",
        "1.   RAGなし\n",
        "\n",
        "    **合計点数:3**\n",
        "    **平均値：0.60**\n",
        "2.   RAGあり（テキスト整形なし）\n",
        "\n",
        "    **合計点数:3**\n",
        "    **平均値:0.60**\n",
        "\n",
        "3.    RAGあり（テキスト整形なし）\n",
        "\n",
        "    **合計点数:7**\n",
        "    **平均値:1.40**\n",
        "\n",
        "　テキスト整形によるノイズの除去のおかげか、RAGあり（テキスト整形あり）において、７年度予算の総額やGDPの記載のないことなど一部は正確に回答できるようになりました。\n",
        "\n",
        "\n",
        "　一方で、RAGを行っても回答の精度が大幅に向上しなかったのは、参照文献自体の構成の問題かもしれません。防衛省のみならず、政府機関が公表する資料には表やグラフが多用され、PyPDF2による単純なテキスト化では、表やグラフの文脈を表現しきれなかったものと考えられます。\n",
        "\n",
        "　事実、質問とのコサイン類似度のトップ３のチャンク参照文書には、回答を含む文書が選ばれないケースがありました。例えば、１番目の防衛予算の総額と内訳を問う質問に対し、総額を含む文書が選ばれましたが、内訳に関する文書は正しく選ばれませんでした。これは、元文書においては、内訳の部分が表や円グラフで示されており、この部分が適切にテキスト化されていませんでした。\n",
        "\n",
        "\n"
      ]
    },
    {
      "cell_type": "markdown",
      "metadata": {
        "id": "_ZLWqWDGKXJk"
      },
      "source": [
        "# 4 さらに改善させるための考察\n",
        "#### 考察１　表やグラフの読み取り精度を上げる\n",
        "  　3で考察した通り、表やグラフを文脈にそってテキスト化することがRAGの精度を改善させるために必要であると考えます。これは、講義の中でお話のあったデータの質をあげるというアプローチの１つであり、表がグラフのある文書をRAGの参照文書とする際には避けては通れない事項であると考えます。\n",
        "\n",
        "  　Geminiに参照文書を読ませて質問、模範回答を生成させた際、グラフや表に含まれる内容も正確に回答していました。マルチモーダルなLLMなどでテキスト化すれば精度の高い表やグラフの読み取りさせるのも、一つの手段となりうると考えられます。\n",
        "\n",
        "#### 考察２　RAGに用いる文書の選定\n",
        "  　一方で、テキスト化により文脈が失われる表やグラフを多用した文書ではなく、テキスト中心の文書をRAGの参照文書とするというアプローチもあると思います。\n",
        "\n",
        "#### 考察３　チャンクの分割の工夫\n",
        "  　今回は期限が短いこともあり、ページによるチャンク分割を行いましたが、目次の項目ごとにチャンクを分けることにより、必要なチャンクをLLMに渡すことができ精度が向上するものと考えられます。\n",
        "  　その検証として、目次から抽出した目次の項目ごとにチャンクを分割することを自動化し、その上でRAGの参考文書にすることを試みたのですが、チャンク分割が自動でうまく分けられずに諦めました。\n",
        "  精度を見る上では手動で印をつけてチャンク分けすることも可能ですので、機会があればこの方法も試したいと思います。\n",
        "\n"
      ]
    },
    {
      "cell_type": "code",
      "execution_count": null,
      "metadata": {
        "id": "W2aoKiPjLn3j"
      },
      "outputs": [],
      "source": []
    }
  ],
  "metadata": {
    "colab": {
      "provenance": [],
      "include_colab_link": true
    },
    "kernelspec": {
      "display_name": "Python 3",
      "name": "python3"
    },
    "language_info": {
      "name": "python"
    }
  },
  "nbformat": 4,
  "nbformat_minor": 0
}